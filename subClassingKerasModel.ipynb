{
  "nbformat": 4,
  "nbformat_minor": 0,
  "metadata": {
    "colab": {
      "name": "subClassingKerasModel.ipynb",
      "provenance": [],
      "collapsed_sections": [],
      "authorship_tag": "ABX9TyNw7xa841fh+lHcI2xJKuyW",
      "include_colab_link": true
    },
    "kernelspec": {
      "name": "python3",
      "display_name": "Python 3"
    }
  },
  "cells": [
    {
      "cell_type": "markdown",
      "metadata": {
        "id": "view-in-github",
        "colab_type": "text"
      },
      "source": [
        "<a href=\"https://colab.research.google.com/github/harnalashok/h2o/blob/master/subClassingKerasModel.ipynb\" target=\"_parent\"><img src=\"https://colab.research.google.com/assets/colab-badge.svg\" alt=\"Open In Colab\"/></a>"
      ]
    },
    {
      "cell_type": "code",
      "metadata": {
        "id": "7YD2UvWPNpjS"
      },
      "source": [
        "# Last amended: 16th Jan, 2021\r\n",
        "# Myfolder: harnalashok/keras/  @github\r\n",
        "# Ref: Hands-On Machine Learningwith Scikit-Learn, Keras, and TensorFlow by Aurelien Geron\r\n",
        "#      Page: 313\r\n",
        "# https://www.tensorflow.org/guide/keras/custom_layers_and_models\r\n",
        "#\r\n",
        "# Subclassing keras 'Model' class to create Dynamic models\r\n",
        "# Two examples"
      ],
      "execution_count": null,
      "outputs": []
    },
    {
      "cell_type": "code",
      "metadata": {
        "id": "EKfKK6aOK6Sl"
      },
      "source": [
        "# 1.0 Call libraries\r\n",
        "from sklearn.datasets import fetch_california_housing\r\n",
        "from sklearn.model_selection import train_test_split\r\n",
        "from sklearn.preprocessing import StandardScaler\r\n",
        "# 1.1\r\n",
        "import tensorflow as tf\r\n",
        "from tensorflow.keras import layers\r\n",
        "from tensorflow.keras import Model\r\n",
        "from tensorflow.keras.utils import plot_model"
      ],
      "execution_count": 79,
      "outputs": []
    },
    {
      "cell_type": "code",
      "metadata": {
        "id": "a5b65DPeLMXn"
      },
      "source": [
        "# 1.2 Fetch data\r\n",
        "housing = fetch_california_housing()"
      ],
      "execution_count": 80,
      "outputs": []
    },
    {
      "cell_type": "code",
      "metadata": {
        "id": "56wr831BLPhi"
      },
      "source": [
        "# 2.0 Little preprocessing\r\n",
        "X = housing.data\r\n",
        "y = housing.target\r\n",
        "ss = StandardScaler()\r\n",
        "X = ss.fit_transform(X)"
      ],
      "execution_count": 81,
      "outputs": []
    },
    {
      "cell_type": "code",
      "metadata": {
        "colab": {
          "base_uri": "https://localhost:8080/"
        },
        "id": "TIrL-K3uLSK_",
        "outputId": "a39b1387-ba65-4ec2-9006-690cab3ef081"
      },
      "source": [
        "# 2.1 Split data\r\n",
        "X_train, X_test,y_train,y_test = train_test_split(X,y, test_size = 0.2)\r\n",
        "X_train.shape   # (16512, 8)\r\n",
        "X_test.shape    # (4128, 8)"
      ],
      "execution_count": 82,
      "outputs": [
        {
          "output_type": "execute_result",
          "data": {
            "text/plain": [
              "(4128, 8)"
            ]
          },
          "metadata": {
            "tags": []
          },
          "execution_count": 82
        }
      ]
    },
    {
      "cell_type": "code",
      "metadata": {
        "id": "gzUlxxJwLVER"
      },
      "source": [
        "# 3.0 Example 1 \r\n",
        "#     Subclass Model class to build a simple NN architecture\r\n",
        "\r\n",
        "class Simple(Model):\r\n",
        "  def __init__(self, size=30, activation= 'relu'):\r\n",
        "    super(Simple, self).__init__()\r\n",
        "    # Write your layers here but do not connect them\r\n",
        "    # Input layer\r\n",
        "    self.dense1 = layers.Dense(size,activation = activation)\r\n",
        "    self.dense2 = layers.Dense(size,activation = activation)\r\n",
        "    self.dropout = layers.Dropout(0.5)\r\n",
        "    self.dense3 = layers.Dense(1,activation = 'sigmoid')\r\n",
        "\r\n",
        "  # Connect your layers here: Forwardpass \r\n",
        "  # Some layers, in particular the BatchNormalization layer\r\n",
        "  # and the Dropout layer, have different behaviors during \r\n",
        "  # training and inference. For such layers, it is standard\r\n",
        "  # practice to expose a training (boolean) argument in the \r\n",
        "  # call() method.\r\n",
        "  # By exposing this argument in call(), you enable the\r\n",
        "  # built-in training and evaluation loops (e.g. fit()) \r\n",
        "  # to correctly use the layer in training and inference \r\n",
        "\r\n",
        "  def call(self, inputs, training = False):\r\n",
        "    x = self.dense1(inputs)\r\n",
        "    x = self.dense2(x)\r\n",
        "    x = self.dense3(x)\r\n",
        "    if training:\r\n",
        "      x = self.dropout(x)\r\n",
        "    return x"
      ],
      "execution_count": 83,
      "outputs": []
    },
    {
      "cell_type": "code",
      "metadata": {
        "id": "-qR367m7LYLY"
      },
      "source": [
        "# 3.1 Instantiate our 'Simple' Model subclass\r\n",
        "wd = Simple(40,'relu')"
      ],
      "execution_count": 84,
      "outputs": []
    },
    {
      "cell_type": "code",
      "metadata": {
        "id": "svRlwEJE9GIG"
      },
      "source": [
        "# 3.2 Create Input object and call\r\n",
        "#      the instantiated Simple object\r\n",
        "\r\n",
        "inputs = layers.Input(shape = X_train.shape[1:])\r\n",
        "x = wd(inputs, True)  # Get the output layer\r\n",
        "\r\n",
        "# 3.3 Create the Model object now\r\n",
        "model = Model(inputs = inputs, outputs = x)"
      ],
      "execution_count": 85,
      "outputs": []
    },
    {
      "cell_type": "code",
      "metadata": {
        "colab": {
          "base_uri": "https://localhost:8080/"
        },
        "id": "HXM8NdeOLa3R",
        "outputId": "da1cdd8f-1b43-4e24-9487-c458c23c1a9a"
      },
      "source": [
        "# 3.3 Note that WideDeep is treated as a layer\r\n",
        "#     And summary does not provide details within\r\n",
        "#     Simple model\r\n",
        "model.summary()"
      ],
      "execution_count": 86,
      "outputs": [
        {
          "output_type": "stream",
          "text": [
            "Model: \"model_15\"\n",
            "_________________________________________________________________\n",
            "Layer (type)                 Output Shape              Param #   \n",
            "=================================================================\n",
            "input_47 (InputLayer)        [(None, 8)]               0         \n",
            "_________________________________________________________________\n",
            "simple_1 (Simple)            (None, 1)                 2041      \n",
            "=================================================================\n",
            "Total params: 2,041\n",
            "Trainable params: 2,041\n",
            "Non-trainable params: 0\n",
            "_________________________________________________________________\n"
          ],
          "name": "stdout"
        }
      ]
    },
    {
      "cell_type": "code",
      "metadata": {
        "id": "Lpa2jPTkLdnV"
      },
      "source": [
        "# 3.4 Compile the model now\r\n",
        "model.compile(loss = \"mse\", metrics= \"mse\")"
      ],
      "execution_count": 88,
      "outputs": []
    },
    {
      "cell_type": "code",
      "metadata": {
        "colab": {
          "base_uri": "https://localhost:8080/"
        },
        "id": "BXJyUmpMLgb_",
        "outputId": "79b4aa7b-a21f-40a4-f3d3-125be946ff96"
      },
      "source": [
        "# 3.5 Train the model\r\n",
        "model.fit(X_train, y_train, epochs = 30)"
      ],
      "execution_count": 89,
      "outputs": [
        {
          "output_type": "stream",
          "text": [
            "Epoch 1/30\n",
            "516/516 [==============================] - 1s 966us/step - loss: 3.4394 - mse: 3.4394\n",
            "Epoch 2/30\n",
            "516/516 [==============================] - 0s 951us/step - loss: 3.2937 - mse: 3.2937\n",
            "Epoch 3/30\n",
            "516/516 [==============================] - 1s 973us/step - loss: 3.3426 - mse: 3.3426\n",
            "Epoch 4/30\n",
            "516/516 [==============================] - 1s 1ms/step - loss: 3.3314 - mse: 3.3314\n",
            "Epoch 5/30\n",
            "516/516 [==============================] - 0s 966us/step - loss: 3.2681 - mse: 3.2681\n",
            "Epoch 6/30\n",
            "516/516 [==============================] - 1s 1ms/step - loss: 3.2690 - mse: 3.2690\n",
            "Epoch 7/30\n",
            "516/516 [==============================] - 1s 994us/step - loss: 3.3432 - mse: 3.3432\n",
            "Epoch 8/30\n",
            "516/516 [==============================] - 1s 1ms/step - loss: 3.3299 - mse: 3.3299\n",
            "Epoch 9/30\n",
            "516/516 [==============================] - 1s 981us/step - loss: 3.3951 - mse: 3.3951\n",
            "Epoch 10/30\n",
            "516/516 [==============================] - 1s 986us/step - loss: 3.3215 - mse: 3.3215\n",
            "Epoch 11/30\n",
            "516/516 [==============================] - 1s 1ms/step - loss: 3.3583 - mse: 3.3583\n",
            "Epoch 12/30\n",
            "516/516 [==============================] - 1s 1000us/step - loss: 3.3567 - mse: 3.3567\n",
            "Epoch 13/30\n",
            "516/516 [==============================] - 1s 969us/step - loss: 3.3679 - mse: 3.3679\n",
            "Epoch 14/30\n",
            "516/516 [==============================] - 1s 1ms/step - loss: 3.2614 - mse: 3.2614\n",
            "Epoch 15/30\n",
            "516/516 [==============================] - 1s 981us/step - loss: 3.2941 - mse: 3.2941\n",
            "Epoch 16/30\n",
            "516/516 [==============================] - 1s 998us/step - loss: 3.3490 - mse: 3.3490\n",
            "Epoch 17/30\n",
            "516/516 [==============================] - 1s 1ms/step - loss: 3.3172 - mse: 3.3172\n",
            "Epoch 18/30\n",
            "516/516 [==============================] - 1s 995us/step - loss: 3.3084 - mse: 3.3084\n",
            "Epoch 19/30\n",
            "516/516 [==============================] - 1s 1ms/step - loss: 3.2830 - mse: 3.2830\n",
            "Epoch 20/30\n",
            "516/516 [==============================] - 1s 1ms/step - loss: 3.3641 - mse: 3.3641\n",
            "Epoch 21/30\n",
            "516/516 [==============================] - 1s 1ms/step - loss: 3.3277 - mse: 3.3277\n",
            "Epoch 22/30\n",
            "516/516 [==============================] - 1s 1ms/step - loss: 3.3622 - mse: 3.3622\n",
            "Epoch 23/30\n",
            "516/516 [==============================] - 1s 967us/step - loss: 3.4465 - mse: 3.4465\n",
            "Epoch 24/30\n",
            "516/516 [==============================] - 1s 1ms/step - loss: 3.2902 - mse: 3.2902\n",
            "Epoch 25/30\n",
            "516/516 [==============================] - 1s 1ms/step - loss: 3.2856 - mse: 3.2856\n",
            "Epoch 26/30\n",
            "516/516 [==============================] - 1s 999us/step - loss: 3.3416 - mse: 3.3416\n",
            "Epoch 27/30\n",
            "516/516 [==============================] - 1s 1ms/step - loss: 3.3402 - mse: 3.3402\n",
            "Epoch 28/30\n",
            "516/516 [==============================] - 1s 1ms/step - loss: 3.3398 - mse: 3.3398\n",
            "Epoch 29/30\n",
            "516/516 [==============================] - 1s 1ms/step - loss: 3.3220 - mse: 3.3220\n",
            "Epoch 30/30\n",
            "516/516 [==============================] - 1s 998us/step - loss: 3.3638 - mse: 3.3638\n"
          ],
          "name": "stdout"
        },
        {
          "output_type": "execute_result",
          "data": {
            "text/plain": [
              "<tensorflow.python.keras.callbacks.History at 0x7f2b606dc470>"
            ]
          },
          "metadata": {
            "tags": []
          },
          "execution_count": 89
        }
      ]
    },
    {
      "cell_type": "code",
      "metadata": {
        "colab": {
          "base_uri": "https://localhost:8080/"
        },
        "id": "OIiyDxf_Lm-M",
        "outputId": "2cd07212-e9f3-4b69-8ed1-c6a1f994259e"
      },
      "source": [
        "# 3.6 Evaluate the model\r\n",
        "model.evaluate(X_test,y_test)"
      ],
      "execution_count": 90,
      "outputs": [
        {
          "output_type": "stream",
          "text": [
            "129/129 [==============================] - 0s 917us/step - loss: 3.3195 - mse: 3.3195\n"
          ],
          "name": "stdout"
        },
        {
          "output_type": "execute_result",
          "data": {
            "text/plain": [
              "[3.3195407390594482, 3.3195407390594482]"
            ]
          },
          "metadata": {
            "tags": []
          },
          "execution_count": 90
        }
      ]
    },
    {
      "cell_type": "code",
      "metadata": {
        "colab": {
          "base_uri": "https://localhost:8080/",
          "height": 174
        },
        "id": "VDH2vdJdL_By",
        "outputId": "0ddc169b-db20-46bd-c870-dc559907ba21"
      },
      "source": [
        "# 4.0 Plot the model \r\n",
        "#     Note that we do not get model details\r\n",
        "#     They are hidden within the Model\r\n",
        "plot_model(model)"
      ],
      "execution_count": 91,
      "outputs": [
        {
          "output_type": "execute_result",
          "data": {
            "image/png": "[encoded data removed]",
            "text/plain": [
              "<IPython.core.display.Image object>"
            ]
          },
          "metadata": {
            "tags": []
          },
          "execution_count": 91
        }
      ]
    },
    {
      "cell_type": "markdown",
      "metadata": {
        "id": "1KMtSTx0o1QZ"
      },
      "source": [
        "# Wide and Deep with two inputs"
      ]
    },
    {
      "cell_type": "code",
      "metadata": {
        "id": "NhC0O5k9M9AW"
      },
      "source": [
        "# 5.0 Example 2 \r\n",
        "#     Create a more complex subclass of Model\r\n",
        "\r\n",
        "class DeepWide(Model):\r\n",
        "  def __init__(self,units,activation):\r\n",
        "    # 5.1 Initialise super class that is Model class\r\n",
        "    super(DeepWide,self).__init__()\r\n",
        "    # 5.2 Create layers of our model\r\n",
        "    #     But concatenation is not performed here\r\n",
        "    self.hidden1 = layers.Dense(units=units, activation=activation)\r\n",
        "    self.hidden2 = layers.Dense(units=units, activation=activation)\r\n",
        "    self.out = layers.Dense(1,activation = 'sigmoid')\r\n",
        "\r\n",
        "  # call() method can have just two arguments besides, self.\r\n",
        "  # One is 'inputs' and the other 'training'. \r\n",
        "  # 5.3 \r\n",
        "  def call(self,inputs):\r\n",
        "    # 5.3.1 Extract inputs\r\n",
        "    input_a = inputs[0]\r\n",
        "    input_b = inputs[1]\r\n",
        "    # 5.3.2 Make forwardpass\r\n",
        "    x = self.hidden1(input_a)\r\n",
        "    x = self.hidden2(x)\r\n",
        "    # 5.3.3 Concatenate outputs\r\n",
        "    concat = tf.keras.layers.concatenate([x,input_b])\r\n",
        "    return self.out(concat)"
      ],
      "execution_count": 67,
      "outputs": []
    },
    {
      "cell_type": "code",
      "metadata": {
        "id": "pZtaSfbOuVvQ"
      },
      "source": [
        "# 6 Get two inputs\r\n",
        "input_a = tf.keras.layers.Input(shape = X_train[:,:8].shape[1:])\r\n",
        "input_b = tf.keras.layers.Input(shape = X_train[:,:4].shape[1:])"
      ],
      "execution_count": 93,
      "outputs": []
    },
    {
      "cell_type": "code",
      "metadata": {
        "id": "zx1oZCYkQK4j"
      },
      "source": [
        "# 6.1 Instantiate DeepWide class\r\n",
        "#     It takes two inputs\r\n",
        "out = DeepWide(30,'relu')"
      ],
      "execution_count": 94,
      "outputs": []
    },
    {
      "cell_type": "code",
      "metadata": {
        "id": "0gL9ylbtQNHF"
      },
      "source": [
        "# 6.2 Get the output of last layer\r\n",
        "out = out((input_a,input_b))\r\n"
      ],
      "execution_count": 95,
      "outputs": []
    },
    {
      "cell_type": "code",
      "metadata": {
        "id": "Y8tGBF84Q2J6"
      },
      "source": [
        "# 7.0 Create model now\r\n",
        "model= Model(inputs = [input_a,input_b], outputs = [out])"
      ],
      "execution_count": 96,
      "outputs": []
    },
    {
      "cell_type": "code",
      "metadata": {
        "id": "7wphuZSDzlu-"
      },
      "source": [
        "# 7.1\r\n",
        "model.compile(loss= \"mse\", metrics = \"mse\")"
      ],
      "execution_count": 97,
      "outputs": []
    },
    {
      "cell_type": "code",
      "metadata": {
        "colab": {
          "base_uri": "https://localhost:8080/"
        },
        "id": "Pb_3_Dtf33-C",
        "outputId": "f272ee24-4c4e-4e48-893e-00ef256a08bf"
      },
      "source": [
        "# 7.1 Fit the model\r\n",
        "model.fit([X_train[:,:8], X_train[:,:4]], y_train,epochs = 30)"
      ],
      "execution_count": 98,
      "outputs": [
        {
          "output_type": "stream",
          "text": [
            "Epoch 1/30\n",
            "516/516 [==============================] - 1s 973us/step - loss: 2.7520 - mse: 2.7520\n",
            "Epoch 2/30\n",
            "516/516 [==============================] - 1s 1ms/step - loss: 2.5042 - mse: 2.5042\n",
            "Epoch 3/30\n",
            "516/516 [==============================] - 1s 1ms/step - loss: 2.5134 - mse: 2.5134\n",
            "Epoch 4/30\n",
            "516/516 [==============================] - 1s 1ms/step - loss: 2.4383 - mse: 2.4383\n",
            "Epoch 5/30\n",
            "516/516 [==============================] - 1s 1ms/step - loss: 2.4237 - mse: 2.4237\n",
            "Epoch 6/30\n",
            "516/516 [==============================] - 1s 1ms/step - loss: 2.4655 - mse: 2.4655\n",
            "Epoch 7/30\n",
            "516/516 [==============================] - 1s 1ms/step - loss: 2.4858 - mse: 2.4858\n",
            "Epoch 8/30\n",
            "516/516 [==============================] - 1s 1ms/step - loss: 2.5144 - mse: 2.5144\n",
            "Epoch 9/30\n",
            "516/516 [==============================] - 1s 1ms/step - loss: 2.4986 - mse: 2.4986\n",
            "Epoch 10/30\n",
            "516/516 [==============================] - 1s 1ms/step - loss: 2.4755 - mse: 2.4755\n",
            "Epoch 11/30\n",
            "516/516 [==============================] - 1s 1ms/step - loss: 2.5183 - mse: 2.5183\n",
            "Epoch 12/30\n",
            "516/516 [==============================] - 1s 1ms/step - loss: 2.4442 - mse: 2.4442\n",
            "Epoch 13/30\n",
            "516/516 [==============================] - 1s 1ms/step - loss: 2.4825 - mse: 2.4825\n",
            "Epoch 14/30\n",
            "516/516 [==============================] - 1s 1ms/step - loss: 2.5039 - mse: 2.5039\n",
            "Epoch 15/30\n",
            "516/516 [==============================] - 1s 1ms/step - loss: 2.4856 - mse: 2.4856\n",
            "Epoch 16/30\n",
            "516/516 [==============================] - 1s 1ms/step - loss: 2.4672 - mse: 2.4672\n",
            "Epoch 17/30\n",
            "516/516 [==============================] - 1s 1ms/step - loss: 2.4447 - mse: 2.4447\n",
            "Epoch 18/30\n",
            "516/516 [==============================] - 1s 1ms/step - loss: 2.4697 - mse: 2.4697\n",
            "Epoch 19/30\n",
            "516/516 [==============================] - 1s 1ms/step - loss: 2.4266 - mse: 2.4266\n",
            "Epoch 20/30\n",
            "516/516 [==============================] - 1s 1ms/step - loss: 2.4470 - mse: 2.4470\n",
            "Epoch 21/30\n",
            "516/516 [==============================] - 1s 1ms/step - loss: 2.4535 - mse: 2.4535\n",
            "Epoch 22/30\n",
            "516/516 [==============================] - 1s 1ms/step - loss: 2.4502 - mse: 2.4502\n",
            "Epoch 23/30\n",
            "516/516 [==============================] - 1s 1ms/step - loss: 2.4729 - mse: 2.4729\n",
            "Epoch 24/30\n",
            "516/516 [==============================] - 1s 1ms/step - loss: 2.4647 - mse: 2.4647\n",
            "Epoch 25/30\n",
            "516/516 [==============================] - 1s 1ms/step - loss: 2.4998 - mse: 2.4998\n",
            "Epoch 26/30\n",
            "516/516 [==============================] - 1s 1ms/step - loss: 2.4924 - mse: 2.4924\n",
            "Epoch 27/30\n",
            "516/516 [==============================] - 1s 1ms/step - loss: 2.4744 - mse: 2.4744\n",
            "Epoch 28/30\n",
            "516/516 [==============================] - 1s 1ms/step - loss: 2.4570 - mse: 2.4570\n",
            "Epoch 29/30\n",
            "516/516 [==============================] - 1s 1ms/step - loss: 2.5169 - mse: 2.5169\n",
            "Epoch 30/30\n",
            "516/516 [==============================] - 1s 1ms/step - loss: 2.5586 - mse: 2.5586\n"
          ],
          "name": "stdout"
        },
        {
          "output_type": "execute_result",
          "data": {
            "text/plain": [
              "<tensorflow.python.keras.callbacks.History at 0x7f2b52392198>"
            ]
          },
          "metadata": {
            "tags": []
          },
          "execution_count": 98
        }
      ]
    },
    {
      "cell_type": "code",
      "metadata": {
        "colab": {
          "base_uri": "https://localhost:8080/"
        },
        "id": "nRD8C8Uy4Wvw",
        "outputId": "17d97d06-38c4-4462-869d-823d136d132d"
      },
      "source": [
        "# 7.2 Evaluate the model \r\n",
        "model.evaluate([X_test[:,:8], X_test[:,:4]], y_test)"
      ],
      "execution_count": 99,
      "outputs": [
        {
          "output_type": "stream",
          "text": [
            "129/129 [==============================] - 0s 864us/step - loss: 2.4430 - mse: 2.4430\n"
          ],
          "name": "stdout"
        },
        {
          "output_type": "execute_result",
          "data": {
            "text/plain": [
              "[2.4429500102996826, 2.4429500102996826]"
            ]
          },
          "metadata": {
            "tags": []
          },
          "execution_count": 99
        }
      ]
    },
    {
      "cell_type": "code",
      "metadata": {
        "colab": {
          "base_uri": "https://localhost:8080/",
          "height": 174
        },
        "id": "bzCQOruBSDlc",
        "outputId": "411cd456-ea1b-4217-df10-2f468d28f133"
      },
      "source": [
        "# 8.0 Plot the model\r\n",
        "plot_model(model)"
      ],
      "execution_count": 100,
      "outputs": [
        {
          "output_type": "execute_result",
          "data": {
            "image/png": "[encoded data removed]",
            "text/plain": [
              "<IPython.core.display.Image object>"
            ]
          },
          "metadata": {
            "tags": []
          },
          "execution_count": 100
        }
      ]
    },
    {
      "cell_type": "code",
      "metadata": {
        "id": "LdKnF60E7fFb"
      },
      "source": [
        "########## I am done #############"
      ],
      "execution_count": null,
      "outputs": []
    }
  ]
}