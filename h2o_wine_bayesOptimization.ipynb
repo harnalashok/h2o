{
  "nbformat": 4,
  "nbformat_minor": 0,
  "metadata": {
    "kernelspec": {
      "display_name": "h2o",
      "language": "python",
      "name": "h2o"
    },
    "language_info": {
      "codemirror_mode": {
        "name": "ipython",
        "version": 3
      },
      "file_extension": ".py",
      "mimetype": "text/x-python",
      "name": "python",
      "nbconvert_exporter": "python",
      "pygments_lexer": "ipython3",
      "version": "3.6.10"
    },
    "colab": {
      "name": "h2o_wine_bayesOptimization.ipynb",
      "private_outputs": true,
      "provenance": [],
      "collapsed_sections": [],
      "include_colab_link": true
    }
  },
  "cells": [
    {
      "cell_type": "markdown",
      "metadata": {
        "id": "view-in-github",
        "colab_type": "text"
      },
      "source": [
        "<a href=\"https://colab.research.google.com/github/harnalashok/h2o/blob/master/h2o_wine_bayesOptimization.ipynb\" target=\"_parent\"><img src=\"https://colab.research.google.com/assets/colab-badge.svg\" alt=\"Open In Colab\"/></a>"
      ]
    },
    {
      "cell_type": "code",
      "metadata": {
        "id": "bbRyuybGbHBf"
      },
      "source": [
        "\"\"\"\n",
        "Last amended: 27th Dec, 2020\n",
        "My folder: C:\\Users\\Administrator\\OneDrive\\Documents\\wine\n",
        "Data Source: https://www.kaggle.com/uciml/red-wine-quality-cortez-et-al-2009\n",
        "\n",
        "Objectives:\n",
        "        i)  Experiments in neural network and Deeplearning\n",
        "        ii) Quick Bayes optimization\n",
        "        iii)Using Optuna library\n",
        "\n",
        "\n",
        "Ref:\n",
        "Machine Learning with python and H2O\n",
        "   https://www.h2o.ai/wp-content/uploads/2018/01/Python-BOOKLET.pdf\n",
        "H2o deeplearning (latest) booklet\n",
        "   http://docs.h2o.ai/h2o/latest-stable/h2o-docs/booklets/DeepLearningBooklet.pdf\n",
        "\n",
        "\"\"\""
      ],
      "execution_count": null,
      "outputs": []
    },
    {
      "cell_type": "code",
      "metadata": {
        "id": "srPrKzt3dej6"
      },
      "source": [
        "# 1.0 Install java run-time\r\n",
        "! apt-get install default-jre\r\n",
        "!java -version"
      ],
      "execution_count": null,
      "outputs": []
    },
    {
      "cell_type": "code",
      "metadata": {
        "id": "hC92y6gT8um6"
      },
      "source": [
        "# https://medium.com/@naeemasvat.na/how-to-use-h2o-in-google-colab-b69ba539ab1a\r\n",
        "# 2.0 Install h2o\r\n",
        "! pip install h2o"
      ],
      "execution_count": null,
      "outputs": []
    },
    {
      "cell_type": "code",
      "metadata": {
        "id": "C9zoKM0Af5uc"
      },
      "source": [
        "# 3.0 Mount your google drive \n",
        "#      so that you can access data files \n",
        "#      on your Google Drive\n",
        "from google.colab import drive\n",
        "drive.mount('/content/drive')"
      ],
      "execution_count": null,
      "outputs": []
    },
    {
      "cell_type": "markdown",
      "metadata": {
        "id": "4546jBmQglJ5"
      },
      "source": [
        ""
      ]
    },
    {
      "cell_type": "code",
      "metadata": {
        "id": "kHUc9aAWJanw"
      },
      "source": [
        "# 4.0 Install optuna\r\n",
        "! pip install optuna"
      ],
      "execution_count": null,
      "outputs": []
    },
    {
      "cell_type": "code",
      "metadata": {
        "id": "fsv7-luZbHBj"
      },
      "source": [
        "# 5.0 Call libraries\n",
        "import pandas as pd\n",
        "import h2o\n",
        "import os\n",
        "import optuna\n",
        "# 5.1\n",
        "from h2o.estimators.deeplearning import H2ODeepLearningEstimator\n"
      ],
      "execution_count": null,
      "outputs": []
    },
    {
      "cell_type": "code",
      "metadata": {
        "id": "Do-4MK4tbHBj"
      },
      "source": [
        "# 5.2 Display output of multiple commands from a cell\n",
        "from IPython.core.interactiveshell import InteractiveShell\n",
        "InteractiveShell.ast_node_interactivity = \"all\""
      ],
      "execution_count": null,
      "outputs": []
    },
    {
      "cell_type": "code",
      "metadata": {
        "id": "j_9b6t40bHBk"
      },
      "source": [
        "# 5.3 Start h2o\n",
        "h2o.init(max_mem_size = \"2G\")"
      ],
      "execution_count": null,
      "outputs": []
    },
    {
      "cell_type": "code",
      "metadata": {
        "id": "bkMyI-EHbHBl"
      },
      "source": [
        "# 6. Change working folder and read bio_response data\n",
        "# # os.chdir(\"C:\\Users\\Administrator\\OneDrive\\Documents\\wine\")"
      ],
      "execution_count": null,
      "outputs": []
    },
    {
      "cell_type": "code",
      "metadata": {
        "id": "AdVyHafKbHBm"
      },
      "source": [
        "# 6.1 Read data file (colab code)\n",
        "data =h2o.import_file(\"/content/drive/MyDrive/Colab_data_files/winequality-red.csv\")"
      ],
      "execution_count": null,
      "outputs": []
    },
    {
      "cell_type": "code",
      "metadata": {
        "id": "DFPA8zWXbHBn"
      },
      "source": [
        "# 6.2\n",
        "data.shape\n",
        "data.head(5)     # bio.head().as_data_frame()"
      ],
      "execution_count": null,
      "outputs": []
    },
    {
      "cell_type": "code",
      "metadata": {
        "id": "Zpi1IbDXbHBn"
      },
      "source": [
        "# 6.3 Transform target to factor column\n",
        "data['quality'].unique() \n",
        "#data['quality'] = data['quality'].asfactor()\n"
      ],
      "execution_count": null,
      "outputs": []
    },
    {
      "cell_type": "code",
      "metadata": {
        "id": "cejUJOXc8fma"
      },
      "source": [
        "# 6.4 Which are predictors and which one is target column\r\n",
        "train_cols = data[:,:-1].columns\r\n",
        "train_cols\r\n",
        "y = 'quality'"
      ],
      "execution_count": null,
      "outputs": []
    },
    {
      "cell_type": "code",
      "metadata": {
        "id": "gg7Ctc2GbHBp"
      },
      "source": [
        "# 7.0 Split the dataset into train/test\n",
        "\n",
        "train,test = data.split_frame(ratios= [0.7])\n",
        "train.shape   # (1108,12)\n",
        "test.shape    # (491, 12)"
      ],
      "execution_count": null,
      "outputs": []
    },
    {
      "cell_type": "code",
      "metadata": {
        "id": "JzE52TbmJmca"
      },
      "source": [
        "# 8.0 Define an objective function\r\n",
        "def objective(trial):\r\n",
        "    # 8.1 Parameters\r\n",
        "    input_dropout_ratio = trial.suggest_float('input_dropout_ratio', 0.1,0.3, log=False)\r\n",
        "\r\n",
        "    l1 = trial.suggest_float('l1', 1e-6,1e-3, log=True)\r\n",
        "    l2 = trial.suggest_float('l2', 1e-6,1e-3, log=True)\r\n",
        "    \r\n",
        "    h_ratio1 = trial.suggest_float('h_ratio1', 0.3,0.8, log = False)    # hidden dropout ration for 1st layer\r\n",
        "    h_ratio2 = trial.suggest_float('h_ratio2', 0.3,0.8, log = False)    # hidden dropout ration for IInd layer\r\n",
        "    h_ratio3 = trial.suggest_float('h_ratio3', 0.3,0.8, log = False)    # hidden dropout ration for IIIrd layer\r\n",
        "\r\n",
        "    nn_Ist_layer = trial.suggest_int('nn_Ist_layer', 32, 200)        # hidden dropout ration for IIIrd layer\r\n",
        "    nn_IInd_layer = trial.suggest_int('nn_IInd_layer', 32, 200)      # hidden dropout ration for IIIrd layer\r\n",
        "    nn_IIIrd_layer = trial.suggest_int('nn_IIIrd_layer', 32, 200)    # hidden dropout ration for IIIrd layer\r\n",
        "    \r\n",
        "    activation= trial.suggest_categorical('activation', ['TanhWithDropout','RectifierWithDropout'])\r\n",
        "    \r\n",
        "    # 8.2 Model instaniation\r\n",
        "    dl =H2ODeepLearningEstimator(\r\n",
        "                                   distribution=\"gaussian\",   # 'multinomial\r\n",
        "                                   activation = activation,\r\n",
        "                                   l1 = l1,\r\n",
        "                                   l2 = l2,\r\n",
        "                                   input_dropout_ratio = input_dropout_ratio,\r\n",
        "                                   hidden = [nn_Ist_layer,nn_IInd_layer,nn_IIIrd_layer],\r\n",
        "                                   hidden_dropout_ratios = [h_ratio1,h_ratio2,h_ratio3], \r\n",
        "                                   epochs = 100,           # Even though epochs are 100,\r\n",
        "                                                           # iterations stop very early. \r\n",
        "                                                           # Progress bar after some time to \r\n",
        "                                                           # suddenly jumps to 100\r\n",
        "                                   score_each_iteration = True\r\n",
        "                                   #initial_weight_distribution = initial_wt_dist[i]\r\n",
        "                                  )\r\n",
        "    # 8.3 Model training\r\n",
        "    dl.train(\r\n",
        "              x= train_cols,            # Predictor columns\r\n",
        "              y= y,            # Target\r\n",
        "              training_frame=train,  # training data\r\n",
        "              validation_frame = test\r\n",
        "             )\r\n",
        "    \r\n",
        "    # 8.4\r\n",
        "    return dl.rmse()      # dl.logloss()\r\n"
      ],
      "execution_count": null,
      "outputs": []
    },
    {
      "cell_type": "code",
      "metadata": {
        "id": "iMwB1GC5LRy3"
      },
      "source": [
        "# 8.5 Instantiate a study object\r\n",
        "study = optuna.create_study(direction='minimize')"
      ],
      "execution_count": null,
      "outputs": []
    },
    {
      "cell_type": "code",
      "metadata": {
        "id": "fNQzGvdQLYPd"
      },
      "source": [
        "# 8.6 Begin optimization process\r\n",
        "study.optimize(\r\n",
        "                objective,      # Given past results, this function\r\n",
        "                                #  is called by 'study' with a 'trial' object.\r\n",
        "                                #   The 'trial' object guides 'objective' as to what\r\n",
        "                                #    parameters to select next   \r\n",
        "                n_trials=100\r\n",
        "               )\r\n",
        "\r\n"
      ],
      "execution_count": null,
      "outputs": []
    },
    {
      "cell_type": "code",
      "metadata": {
        "id": "GIGIcyfcbtSo"
      },
      "source": [
        "# opt 8.7 Even though 'objective()'  only\r\n",
        "#          returns performance-score to\r\n",
        "#           'study' object, 'study' has \r\n",
        "#            full information about the parameters\r\n",
        "#             and values set from time-to-time by\r\n",
        "#              'trial' object\r\n",
        "#          See StackOverflow question: https://stackoverflow.com/q/65057819/3282777\r\n",
        "study.get_trials()"
      ],
      "execution_count": null,
      "outputs": []
    },
    {
      "cell_type": "code",
      "metadata": {
        "id": "-W47NoLZb33g"
      },
      "source": [
        "# opt 8.8 Same as above but in a \r\n",
        "#        dataframe format\r\n",
        "study.trials_dataframe().head(5)"
      ],
      "execution_count": null,
      "outputs": []
    },
    {
      "cell_type": "code",
      "metadata": {
        "id": "kgRBqe5vLcmp"
      },
      "source": [
        "# 9.0 So which is best parameter combination\r\n",
        "trial = study.best_trial\r\n",
        "# 9.1\r\n",
        "print('RMSE: {}'.format(trial.value))\r\n",
        "trial.params"
      ],
      "execution_count": null,
      "outputs": []
    },
    {
      "cell_type": "code",
      "metadata": {
        "id": "6Ba-q6LMaesq"
      },
      "source": [
        "# 10.0 Build a model with these parameters\r\n",
        "dl =H2ODeepLearningEstimator(\r\n",
        "                                   distribution=\"gaussian\",\r\n",
        "                                   activation = trial.params['activation'],\r\n",
        "                                   l1 = trial.params['l1'],\r\n",
        "                                   l2 = trial.params['l2'],\r\n",
        "                                   input_dropout_ratio = trial.params['input_dropout_ratio'],\r\n",
        "                                   hidden_dropout_ratios =[trial.params['h_ratio1'],trial.params['h_ratio2'],trial.params['h_ratio3']], \r\n",
        "                                   hidden = [trial.params['nn_Ist_layer'],trial.params['nn_IInd_layer'],trial.params['nn_IIIrd_layer']],\r\n",
        "                                   epochs = 100,           # Even though epochs are 100,\r\n",
        "                                                           # iterations stop very early. \r\n",
        "                                                           # Progress bar after some time to \r\n",
        "                                                           # suddenly jumps to 100\r\n",
        "                                   score_each_iteration = True,\r\n",
        "                                   validation_frame = test\r\n",
        "                                   #initial_weight_distribution = initial_wt_dist[i]\r\n",
        "                                  )\r\n",
        "dl.train(\r\n",
        "              x= train_cols,            # Predictor columns\r\n",
        "              y= y,            # Target\r\n",
        "              training_frame=train,  # training data\r\n",
        "              validation_frame = test\r\n",
        "             )\r\n",
        "    "
      ],
      "execution_count": null,
      "outputs": []
    },
    {
      "cell_type": "code",
      "metadata": {
        "id": "opTQcZiDa3UA"
      },
      "source": [
        "# 11.0\r\n",
        "# Make predictions\r\n",
        "out = dl.predict(test)\r\n",
        "out = out.as_data_frame()"
      ],
      "execution_count": null,
      "outputs": []
    },
    {
      "cell_type": "code",
      "metadata": {
        "id": "xuED5cHpb-Lj"
      },
      "source": [
        "# opt 11.1\r\n",
        "dl.scoring_history().head()"
      ],
      "execution_count": null,
      "outputs": []
    },
    {
      "cell_type": "code",
      "metadata": {
        "id": "8sCO7gKNcFKc"
      },
      "source": [
        "# opt11.2 Plot the scoring-history\r\n",
        "#        Model is quite generalized\r\n",
        "import matplotlib.pyplot as plt\r\n",
        "table_bayes = dl.scoring_history()\r\n",
        "fig = plt.figure()\r\n",
        "_ = table_bayes[['training_rmse','validation_rmse']].plot()"
      ],
      "execution_count": null,
      "outputs": []
    },
    {
      "cell_type": "code",
      "metadata": {
        "id": "aipTvYVlbHBu"
      },
      "source": [
        "#################"
      ],
      "execution_count": null,
      "outputs": []
    },
    {
      "cell_type": "code",
      "metadata": {
        "id": "7XfIyQsxcEr9"
      },
      "source": [
        ""
      ],
      "execution_count": null,
      "outputs": []
    }
  ]
}