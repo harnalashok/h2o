{
 "cells": [
  {
   "cell_type": "code",
   "execution_count": null,
   "metadata": {},
   "outputs": [],
   "source": [
    "# Last amended: 07 the Nov, 2020\n",
    "# My folder: C:\\Users\\Administrator\\OneDrive\\Documents\\h2o\n",
    "#\n",
    "# h2o API reference:\n",
    "#   http://docs.h2o.ai/h2o/latest-stable/h2o-py/docs/frame.html\n",
    "#   http://docs.h2o.ai/h2o/latest-stable/h2o-docs/data-munging.html\n",
    "#\n",
    "# Objective: Data manipulation\n",
    "#                  a. DataFrame\n",
    "#                  b  Date manipulation\n"
   ]
  },
  {
   "cell_type": "code",
   "execution_count": 1,
   "metadata": {},
   "outputs": [],
   "source": [
    "# 1.0 Call libraries\n",
    "import h2o\n",
    "import pandas as pd\n",
    "import numpy as np"
   ]
  },
  {
   "cell_type": "code",
   "execution_count": 2,
   "metadata": {},
   "outputs": [
    {
     "name": "stdout",
     "output_type": "stream",
     "text": [
      "Checking whether there is an H2O instance running at http://localhost:54321 . connected.\n",
      "Warning: Your H2O cluster version is too old (5 months and 6 days)! Please download and install the latest version from http://h2o.ai/download/\n"
     ]
    },
    {
     "data": {
      "text/html": [
       "<div style=\"overflow:auto\"><table style=\"width:50%\"><tr><td>H2O_cluster_uptime:</td>\n",
       "<td>19 hours 31 mins</td></tr>\n",
       "<tr><td>H2O_cluster_timezone:</td>\n",
       "<td>Asia/Kolkata</td></tr>\n",
       "<tr><td>H2O_data_parsing_timezone:</td>\n",
       "<td>UTC</td></tr>\n",
       "<tr><td>H2O_cluster_version:</td>\n",
       "<td>3.30.0.4</td></tr>\n",
       "<tr><td>H2O_cluster_version_age:</td>\n",
       "<td>5 months and 6 days !!!</td></tr>\n",
       "<tr><td>H2O_cluster_name:</td>\n",
       "<td>H2O_from_python_Administrator_rywcmf</td></tr>\n",
       "<tr><td>H2O_cluster_total_nodes:</td>\n",
       "<td>1</td></tr>\n",
       "<tr><td>H2O_cluster_free_memory:</td>\n",
       "<td>1.211 Gb</td></tr>\n",
       "<tr><td>H2O_cluster_total_cores:</td>\n",
       "<td>8</td></tr>\n",
       "<tr><td>H2O_cluster_allowed_cores:</td>\n",
       "<td>8</td></tr>\n",
       "<tr><td>H2O_cluster_status:</td>\n",
       "<td>locked, healthy</td></tr>\n",
       "<tr><td>H2O_connection_url:</td>\n",
       "<td>http://localhost:54321</td></tr>\n",
       "<tr><td>H2O_connection_proxy:</td>\n",
       "<td>{\"http\": null, \"https\": null}</td></tr>\n",
       "<tr><td>H2O_internal_security:</td>\n",
       "<td>False</td></tr>\n",
       "<tr><td>H2O_API_Extensions:</td>\n",
       "<td>Amazon S3, Algos, AutoML, Core V3, TargetEncoder, Core V4</td></tr>\n",
       "<tr><td>Python_version:</td>\n",
       "<td>3.6.12 final</td></tr></table></div>"
      ],
      "text/plain": [
       "--------------------------  ---------------------------------------------------------\n",
       "H2O_cluster_uptime:         19 hours 31 mins\n",
       "H2O_cluster_timezone:       Asia/Kolkata\n",
       "H2O_data_parsing_timezone:  UTC\n",
       "H2O_cluster_version:        3.30.0.4\n",
       "H2O_cluster_version_age:    5 months and 6 days !!!\n",
       "H2O_cluster_name:           H2O_from_python_Administrator_rywcmf\n",
       "H2O_cluster_total_nodes:    1\n",
       "H2O_cluster_free_memory:    1.211 Gb\n",
       "H2O_cluster_total_cores:    8\n",
       "H2O_cluster_allowed_cores:  8\n",
       "H2O_cluster_status:         locked, healthy\n",
       "H2O_connection_url:         http://localhost:54321\n",
       "H2O_connection_proxy:       {\"http\": null, \"https\": null}\n",
       "H2O_internal_security:      False\n",
       "H2O_API_Extensions:         Amazon S3, Algos, AutoML, Core V3, TargetEncoder, Core V4\n",
       "Python_version:             3.6.12 final\n",
       "--------------------------  ---------------------------------------------------------"
      ]
     },
     "metadata": {},
     "output_type": "display_data"
    }
   ],
   "source": [
    "# 1.1 Start h2o server\n",
    "#     If already started, connect to it\n",
    "#     Multiple clients on localhost can\n",
    "#     connect to it\n",
    "\n",
    "h2o.init()"
   ]
  },
  {
   "cell_type": "code",
   "execution_count": 3,
   "metadata": {},
   "outputs": [],
   "source": [
    "# 1.2 Display outputs from multiple commands in a cell\n",
    "from IPython.core.interactiveshell import InteractiveShell\n",
    "InteractiveShell.ast_node_interactivity = \"all\""
   ]
  },
  {
   "cell_type": "markdown",
   "metadata": {},
   "source": [
    "## Creating h2o DataFrames & Date/Time format in H2O"
   ]
  },
  {
   "cell_type": "code",
   "execution_count": 4,
   "metadata": {},
   "outputs": [
    {
     "name": "stdout",
     "output_type": "stream",
     "text": [
      "Parse progress: |█████████████████████████████████████████████████████████| 100%\n"
     ]
    },
    {
     "data": {
      "text/html": [
       "<table>\n",
       "<thead>\n",
       "<tr><th style=\"text-align: right;\">  C1</th><th>C2  </th><th>C3                 </th></tr>\n",
       "</thead>\n",
       "<tbody>\n",
       "<tr><td style=\"text-align: right;\">   1</td><td>a   </td><td>2020-01-07 00:00:00</td></tr>\n",
       "<tr><td style=\"text-align: right;\">   2</td><td>b   </td><td>1990-03-29 00:00:00</td></tr>\n",
       "</tbody>\n",
       "</table>"
      ]
     },
     "metadata": {},
     "output_type": "display_data"
    },
    {
     "data": {
      "text/plain": []
     },
     "execution_count": 4,
     "metadata": {},
     "output_type": "execute_result"
    }
   ],
   "source": [
    "# 2.0 Creating H2O dataframe\n",
    "# 2.1 From a nested list\n",
    "d = [\n",
    "       [1,'a', '01/07/2020' ],     # mm/dd/yyyy\n",
    "       [2,'b', '03/29/1990']\n",
    "    ]\n",
    "\n",
    "# 2.1.1 Here is the frame\n",
    "h2o.H2OFrame(d)"
   ]
  },
  {
   "cell_type": "code",
   "execution_count": 5,
   "metadata": {},
   "outputs": [
    {
     "name": "stdout",
     "output_type": "stream",
     "text": [
      "Parse progress: |█████████████████████████████████████████████████████████| 100%\n"
     ]
    },
    {
     "data": {
      "text/html": [
       "<table>\n",
       "<thead>\n",
       "<tr><th style=\"text-align: right;\">  x</th><th>y  </th><th>date               </th></tr>\n",
       "</thead>\n",
       "<tbody>\n",
       "<tr><td style=\"text-align: right;\">  1</td><td>a  </td><td>2020-01-07 00:00:00</td></tr>\n",
       "<tr><td style=\"text-align: right;\">  2</td><td>b  </td><td>1990-03-29 00:00:00</td></tr>\n",
       "</tbody>\n",
       "</table>"
      ]
     },
     "metadata": {},
     "output_type": "display_data"
    },
    {
     "data": {
      "text/plain": []
     },
     "execution_count": 5,
     "metadata": {},
     "output_type": "execute_result"
    }
   ],
   "source": [
    "# 2.2 Supply col names\n",
    "h2o.H2OFrame(\n",
    "              d,\n",
    "              column_names = ['x','y', 'date']\n",
    "            )"
   ]
  },
  {
   "cell_type": "code",
   "execution_count": 6,
   "metadata": {},
   "outputs": [
    {
     "name": "stdout",
     "output_type": "stream",
     "text": [
      "Parse progress: |█████████████████████████████████████████████████████████| 100%\n"
     ]
    },
    {
     "data": {
      "text/html": [
       "<table>\n",
       "<thead>\n",
       "<tr><th style=\"text-align: right;\">  C1</th><th>C2  </th><th>C3                 </th></tr>\n",
       "</thead>\n",
       "<tbody>\n",
       "<tr><td style=\"text-align: right;\">   1</td><td>a   </td><td>                   </td></tr>\n",
       "<tr><td style=\"text-align: right;\">   2</td><td>b   </td><td>1990-02-09 00:00:00</td></tr>\n",
       "</tbody>\n",
       "</table>"
      ]
     },
     "metadata": {},
     "output_type": "display_data"
    },
    {
     "data": {
      "text/plain": []
     },
     "execution_count": 6,
     "metadata": {},
     "output_type": "execute_result"
    }
   ],
   "source": [
    "# 2.3 Try to use different date format\n",
    "e = [\n",
    "      [1,'a', '23/07/2020' ],    # dd/mm/yyyy\n",
    "      [2,'b', '02/09/1990']]\n",
    "\n",
    "\n",
    "# 2.3.1\n",
    "h2o.H2OFrame(e)"
   ]
  },
  {
   "cell_type": "code",
   "execution_count": 7,
   "metadata": {},
   "outputs": [
    {
     "name": "stdout",
     "output_type": "stream",
     "text": [
      "Parse progress: |█████████████████████████████████████████████████████████| 100%\n"
     ]
    },
    {
     "data": {
      "text/html": [
       "<table>\n",
       "<thead>\n",
       "<tr><th style=\"text-align: right;\">  X1</th><th>X2  </th><th>X3        </th></tr>\n",
       "</thead>\n",
       "<tbody>\n",
       "<tr><td style=\"text-align: right;\">   1</td><td>a   </td><td>23/07/2020</td></tr>\n",
       "<tr><td style=\"text-align: right;\">   2</td><td>b   </td><td>02/09/1990</td></tr>\n",
       "</tbody>\n",
       "</table>"
      ]
     },
     "metadata": {},
     "output_type": "display_data"
    },
    {
     "data": {
      "text/plain": []
     },
     "execution_count": 7,
     "metadata": {},
     "output_type": "execute_result"
    }
   ],
   "source": [
    "# 2.4 Supply column_types also\n",
    "res = h2o.H2OFrame(\n",
    "                    e,\n",
    "                    column_names = [\"X1\", \"X2\", \"X3\"],\n",
    "                    column_types=['int', 'string','string']\n",
    "                  )\n",
    "\n",
    "# 2.4.1\n",
    "res"
   ]
  },
  {
   "cell_type": "code",
   "execution_count": 8,
   "metadata": {},
   "outputs": [
    {
     "data": {
      "text/html": [
       "<table>\n",
       "<thead>\n",
       "<tr><th style=\"text-align: right;\">         X3</th></tr>\n",
       "</thead>\n",
       "<tbody>\n",
       "<tr><td style=\"text-align: right;\">1.59546e+12</td></tr>\n",
       "<tr><td style=\"text-align: right;\">6.52234e+11</td></tr>\n",
       "</tbody>\n",
       "</table>"
      ]
     },
     "metadata": {},
     "output_type": "display_data"
    },
    {
     "data": {
      "text/plain": []
     },
     "execution_count": 8,
     "metadata": {},
     "output_type": "execute_result"
    },
    {
     "data": {
      "text/html": [
       "<table>\n",
       "<thead>\n",
       "<tr><th style=\"text-align: right;\">  X1</th><th>X2  </th><th>X3        </th></tr>\n",
       "</thead>\n",
       "<tbody>\n",
       "<tr><td style=\"text-align: right;\">   1</td><td>a   </td><td>23/07/2020</td></tr>\n",
       "<tr><td style=\"text-align: right;\">   2</td><td>b   </td><td>02/09/1990</td></tr>\n",
       "</tbody>\n",
       "</table>"
      ]
     },
     "metadata": {},
     "output_type": "display_data"
    },
    {
     "data": {
      "text/plain": []
     },
     "execution_count": 8,
     "metadata": {},
     "output_type": "execute_result"
    }
   ],
   "source": [
    "# 2.4.2 Convert 'string' to \n",
    "#       'date-time' format\n",
    "#       It is in milliseconds\n",
    "\n",
    "res['X3'].as_date('%d/%m/%Y')\n",
    "res"
   ]
  },
  {
   "cell_type": "code",
   "execution_count": 9,
   "metadata": {},
   "outputs": [
    {
     "data": {
      "text/html": [
       "<table>\n",
       "<thead>\n",
       "<tr><th style=\"text-align: right;\">  X3</th></tr>\n",
       "</thead>\n",
       "<tbody>\n",
       "<tr><td style=\"text-align: right;\">  23</td></tr>\n",
       "<tr><td style=\"text-align: right;\">   2</td></tr>\n",
       "</tbody>\n",
       "</table>"
      ]
     },
     "metadata": {},
     "output_type": "display_data"
    },
    {
     "data": {
      "text/plain": []
     },
     "execution_count": 9,
     "metadata": {},
     "output_type": "execute_result"
    },
    {
     "data": {
      "text/html": [
       "<table>\n",
       "<thead>\n",
       "<tr><th style=\"text-align: right;\">  X3</th></tr>\n",
       "</thead>\n",
       "<tbody>\n",
       "<tr><td style=\"text-align: right;\">   7</td></tr>\n",
       "<tr><td style=\"text-align: right;\">   9</td></tr>\n",
       "</tbody>\n",
       "</table>"
      ]
     },
     "metadata": {},
     "output_type": "display_data"
    },
    {
     "data": {
      "text/plain": []
     },
     "execution_count": 9,
     "metadata": {},
     "output_type": "execute_result"
    },
    {
     "data": {
      "text/html": [
       "<table>\n",
       "<thead>\n",
       "<tr><th style=\"text-align: right;\">  X3</th></tr>\n",
       "</thead>\n",
       "<tbody>\n",
       "<tr><td style=\"text-align: right;\">2020</td></tr>\n",
       "<tr><td style=\"text-align: right;\">1990</td></tr>\n",
       "</tbody>\n",
       "</table>"
      ]
     },
     "metadata": {},
     "output_type": "display_data"
    },
    {
     "data": {
      "text/plain": []
     },
     "execution_count": 9,
     "metadata": {},
     "output_type": "execute_result"
    },
    {
     "data": {
      "text/html": [
       "<table>\n",
       "<thead>\n",
       "<tr><th style=\"text-align: right;\">  X3</th></tr>\n",
       "</thead>\n",
       "<tbody>\n",
       "<tr><td style=\"text-align: right;\">  30</td></tr>\n",
       "<tr><td style=\"text-align: right;\">  35</td></tr>\n",
       "</tbody>\n",
       "</table>"
      ]
     },
     "metadata": {},
     "output_type": "display_data"
    },
    {
     "data": {
      "text/plain": []
     },
     "execution_count": 9,
     "metadata": {},
     "output_type": "execute_result"
    }
   ],
   "source": [
    "# 2.4.3 Extract day part of date\n",
    "#       from milliseconds\n",
    "res['X3'].as_date('%d/%m/%Y').day()\n",
    "\n",
    "# 2.4.4 Extract month from milliseconds\n",
    "res['X3'].as_date('%d/%m/%Y').month()\n",
    "\n",
    "# 2.4.5 Extract year from milliseconds\n",
    "res['X3'].as_date('%d/%m/%Y').year()\n",
    "\n",
    "# 2.4.6 Extract week of the year\n",
    "#       from milliseconds\n",
    "res['X3'].as_date('%d/%m/%Y').week()"
   ]
  },
  {
   "cell_type": "code",
   "execution_count": 10,
   "metadata": {},
   "outputs": [
    {
     "data": {
      "text/html": [
       "<table>\n",
       "<thead>\n",
       "<tr><th>X3  </th></tr>\n",
       "</thead>\n",
       "<tbody>\n",
       "<tr><td>Thu </td></tr>\n",
       "<tr><td>Sun </td></tr>\n",
       "</tbody>\n",
       "</table>"
      ]
     },
     "metadata": {},
     "output_type": "display_data"
    },
    {
     "data": {
      "text/plain": []
     },
     "execution_count": 10,
     "metadata": {},
     "output_type": "execute_result"
    }
   ],
   "source": [
    "# 2.4.7 Extract weekday\n",
    "#       from milliseconds\n",
    "\n",
    "res['X3'].as_date('%d/%m/%Y').dayOfWeek()"
   ]
  },
  {
   "cell_type": "code",
   "execution_count": 11,
   "metadata": {},
   "outputs": [
    {
     "data": {
      "text/plain": [
       "a             int64\n",
       "b            object\n",
       "c    datetime64[ns]\n",
       "dtype: object"
      ]
     },
     "execution_count": 11,
     "metadata": {},
     "output_type": "execute_result"
    },
    {
     "name": "stdout",
     "output_type": "stream",
     "text": [
      "Parse progress: |█████████████████████████████████████████████████████████| 100%\n"
     ]
    },
    {
     "data": {
      "text/html": [
       "<table>\n",
       "<thead>\n",
       "<tr><th style=\"text-align: right;\">  a</th><th>b  </th><th>c                  </th></tr>\n",
       "</thead>\n",
       "<tbody>\n",
       "<tr><td style=\"text-align: right;\">  1</td><td>a  </td><td>2020-07-23 00:00:00</td></tr>\n",
       "<tr><td style=\"text-align: right;\">  2</td><td>b  </td><td>1990-02-09 00:00:00</td></tr>\n",
       "</tbody>\n",
       "</table>"
      ]
     },
     "metadata": {},
     "output_type": "display_data"
    },
    {
     "data": {
      "text/plain": []
     },
     "execution_count": 11,
     "metadata": {},
     "output_type": "execute_result"
    }
   ],
   "source": [
    "# 2.5 Alternatively, first have a  \n",
    "#     Pandas Data frame\n",
    "#     And then convert it to h2o DataFrame\n",
    "\n",
    "v = pd.DataFrame(\n",
    "                 e,\n",
    "                 columns = ['a', 'b','c']\n",
    "                )\n",
    "\n",
    "# 2.5.1\n",
    "v['c'] = pd.to_datetime(v['c'])\n",
    "\n",
    "# 2.5.2\n",
    "v.dtypes\n",
    "\n",
    "# 2.5.3\n",
    "h2o.H2OFrame(v)"
   ]
  },
  {
   "cell_type": "markdown",
   "metadata": {},
   "source": [
    "### Reading a csv/zip file"
   ]
  },
  {
   "cell_type": "code",
   "execution_count": 12,
   "metadata": {},
   "outputs": [
    {
     "name": "stdout",
     "output_type": "stream",
     "text": [
      "Parse progress: |█████████████████████████████████████████████████████████| 100%\n"
     ]
    }
   ],
   "source": [
    "# 3.0 Import airlines data\n",
    "#     Note that a zip file is being\n",
    "#     imported. Similarly you can import\n",
    "#     csv file\n",
    "airlines= h2o.import_file(\"https://s3.amazonaws.com/h2o-public-test-data/smalldata/airlines/allyears2k_headers.zip\")"
   ]
  },
  {
   "cell_type": "markdown",
   "metadata": {},
   "source": [
    "## Explore data"
   ]
  },
  {
   "cell_type": "code",
   "execution_count": 13,
   "metadata": {},
   "outputs": [
    {
     "data": {
      "text/plain": [
       "h2o.frame.H2OFrame"
      ]
     },
     "execution_count": 13,
     "metadata": {},
     "output_type": "execute_result"
    },
    {
     "data": {
      "text/html": [
       "<table>\n",
       "<thead>\n",
       "<tr><th style=\"text-align: right;\">  Year</th><th style=\"text-align: right;\">  Month</th><th style=\"text-align: right;\">  DayofMonth</th><th style=\"text-align: right;\">  DayOfWeek</th><th style=\"text-align: right;\">  DepTime</th><th style=\"text-align: right;\">  CRSDepTime</th><th style=\"text-align: right;\">  ArrTime</th><th style=\"text-align: right;\">  CRSArrTime</th><th>UniqueCarrier  </th><th style=\"text-align: right;\">  FlightNum</th><th>TailNum  </th><th style=\"text-align: right;\">  ActualElapsedTime</th><th style=\"text-align: right;\">  CRSElapsedTime</th><th style=\"text-align: right;\">  AirTime</th><th style=\"text-align: right;\">  ArrDelay</th><th style=\"text-align: right;\">  DepDelay</th><th>Origin  </th><th>Dest  </th><th style=\"text-align: right;\">  Distance</th><th style=\"text-align: right;\">  TaxiIn</th><th style=\"text-align: right;\">  TaxiOut</th><th style=\"text-align: right;\">  Cancelled</th><th>CancellationCode  </th><th style=\"text-align: right;\">  Diverted</th><th style=\"text-align: right;\">  CarrierDelay</th><th style=\"text-align: right;\">  WeatherDelay</th><th style=\"text-align: right;\">  NASDelay</th><th style=\"text-align: right;\">  SecurityDelay</th><th style=\"text-align: right;\">  LateAircraftDelay</th><th>IsArrDelayed  </th><th>IsDepDelayed  </th></tr>\n",
       "</thead>\n",
       "<tbody>\n",
       "<tr><td style=\"text-align: right;\">  1987</td><td style=\"text-align: right;\">     10</td><td style=\"text-align: right;\">          14</td><td style=\"text-align: right;\">          3</td><td style=\"text-align: right;\">      741</td><td style=\"text-align: right;\">         730</td><td style=\"text-align: right;\">      912</td><td style=\"text-align: right;\">         849</td><td>PS             </td><td style=\"text-align: right;\">       1451</td><td>NA       </td><td style=\"text-align: right;\">                 91</td><td style=\"text-align: right;\">              79</td><td style=\"text-align: right;\">      nan</td><td style=\"text-align: right;\">        23</td><td style=\"text-align: right;\">        11</td><td>SAN     </td><td>SFO   </td><td style=\"text-align: right;\">       447</td><td style=\"text-align: right;\">     nan</td><td style=\"text-align: right;\">      nan</td><td style=\"text-align: right;\">          0</td><td>NA                </td><td style=\"text-align: right;\">         0</td><td style=\"text-align: right;\">           nan</td><td style=\"text-align: right;\">           nan</td><td style=\"text-align: right;\">       nan</td><td style=\"text-align: right;\">            nan</td><td style=\"text-align: right;\">                nan</td><td>YES           </td><td>YES           </td></tr>\n",
       "<tr><td style=\"text-align: right;\">  1987</td><td style=\"text-align: right;\">     10</td><td style=\"text-align: right;\">          15</td><td style=\"text-align: right;\">          4</td><td style=\"text-align: right;\">      729</td><td style=\"text-align: right;\">         730</td><td style=\"text-align: right;\">      903</td><td style=\"text-align: right;\">         849</td><td>PS             </td><td style=\"text-align: right;\">       1451</td><td>NA       </td><td style=\"text-align: right;\">                 94</td><td style=\"text-align: right;\">              79</td><td style=\"text-align: right;\">      nan</td><td style=\"text-align: right;\">        14</td><td style=\"text-align: right;\">        -1</td><td>SAN     </td><td>SFO   </td><td style=\"text-align: right;\">       447</td><td style=\"text-align: right;\">     nan</td><td style=\"text-align: right;\">      nan</td><td style=\"text-align: right;\">          0</td><td>NA                </td><td style=\"text-align: right;\">         0</td><td style=\"text-align: right;\">           nan</td><td style=\"text-align: right;\">           nan</td><td style=\"text-align: right;\">       nan</td><td style=\"text-align: right;\">            nan</td><td style=\"text-align: right;\">                nan</td><td>YES           </td><td>NO            </td></tr>\n",
       "<tr><td style=\"text-align: right;\">  1987</td><td style=\"text-align: right;\">     10</td><td style=\"text-align: right;\">          17</td><td style=\"text-align: right;\">          6</td><td style=\"text-align: right;\">      741</td><td style=\"text-align: right;\">         730</td><td style=\"text-align: right;\">      918</td><td style=\"text-align: right;\">         849</td><td>PS             </td><td style=\"text-align: right;\">       1451</td><td>NA       </td><td style=\"text-align: right;\">                 97</td><td style=\"text-align: right;\">              79</td><td style=\"text-align: right;\">      nan</td><td style=\"text-align: right;\">        29</td><td style=\"text-align: right;\">        11</td><td>SAN     </td><td>SFO   </td><td style=\"text-align: right;\">       447</td><td style=\"text-align: right;\">     nan</td><td style=\"text-align: right;\">      nan</td><td style=\"text-align: right;\">          0</td><td>NA                </td><td style=\"text-align: right;\">         0</td><td style=\"text-align: right;\">           nan</td><td style=\"text-align: right;\">           nan</td><td style=\"text-align: right;\">       nan</td><td style=\"text-align: right;\">            nan</td><td style=\"text-align: right;\">                nan</td><td>YES           </td><td>YES           </td></tr>\n",
       "<tr><td style=\"text-align: right;\">  1987</td><td style=\"text-align: right;\">     10</td><td style=\"text-align: right;\">          18</td><td style=\"text-align: right;\">          7</td><td style=\"text-align: right;\">      729</td><td style=\"text-align: right;\">         730</td><td style=\"text-align: right;\">      847</td><td style=\"text-align: right;\">         849</td><td>PS             </td><td style=\"text-align: right;\">       1451</td><td>NA       </td><td style=\"text-align: right;\">                 78</td><td style=\"text-align: right;\">              79</td><td style=\"text-align: right;\">      nan</td><td style=\"text-align: right;\">        -2</td><td style=\"text-align: right;\">        -1</td><td>SAN     </td><td>SFO   </td><td style=\"text-align: right;\">       447</td><td style=\"text-align: right;\">     nan</td><td style=\"text-align: right;\">      nan</td><td style=\"text-align: right;\">          0</td><td>NA                </td><td style=\"text-align: right;\">         0</td><td style=\"text-align: right;\">           nan</td><td style=\"text-align: right;\">           nan</td><td style=\"text-align: right;\">       nan</td><td style=\"text-align: right;\">            nan</td><td style=\"text-align: right;\">                nan</td><td>NO            </td><td>NO            </td></tr>\n",
       "</tbody>\n",
       "</table>"
      ]
     },
     "metadata": {},
     "output_type": "display_data"
    },
    {
     "data": {
      "text/plain": []
     },
     "execution_count": 13,
     "metadata": {},
     "output_type": "execute_result"
    },
    {
     "data": {
      "text/plain": [
       "['Year',\n",
       " 'Month',\n",
       " 'DayofMonth',\n",
       " 'DayOfWeek',\n",
       " 'DepTime',\n",
       " 'CRSDepTime',\n",
       " 'ArrTime',\n",
       " 'CRSArrTime',\n",
       " 'UniqueCarrier',\n",
       " 'FlightNum',\n",
       " 'TailNum',\n",
       " 'ActualElapsedTime',\n",
       " 'CRSElapsedTime',\n",
       " 'AirTime',\n",
       " 'ArrDelay',\n",
       " 'DepDelay',\n",
       " 'Origin',\n",
       " 'Dest',\n",
       " 'Distance',\n",
       " 'TaxiIn',\n",
       " 'TaxiOut',\n",
       " 'Cancelled',\n",
       " 'CancellationCode',\n",
       " 'Diverted',\n",
       " 'CarrierDelay',\n",
       " 'WeatherDelay',\n",
       " 'NASDelay',\n",
       " 'SecurityDelay',\n",
       " 'LateAircraftDelay',\n",
       " 'IsArrDelayed',\n",
       " 'IsDepDelayed']"
      ]
     },
     "execution_count": 13,
     "metadata": {},
     "output_type": "execute_result"
    },
    {
     "data": {
      "text/plain": [
       "['Year',\n",
       " 'Month',\n",
       " 'DayofMonth',\n",
       " 'DayOfWeek',\n",
       " 'DepTime',\n",
       " 'CRSDepTime',\n",
       " 'ArrTime',\n",
       " 'CRSArrTime',\n",
       " 'UniqueCarrier',\n",
       " 'FlightNum',\n",
       " 'TailNum',\n",
       " 'ActualElapsedTime',\n",
       " 'CRSElapsedTime',\n",
       " 'AirTime',\n",
       " 'ArrDelay',\n",
       " 'DepDelay',\n",
       " 'Origin',\n",
       " 'Dest',\n",
       " 'Distance',\n",
       " 'TaxiIn',\n",
       " 'TaxiOut',\n",
       " 'Cancelled',\n",
       " 'CancellationCode',\n",
       " 'Diverted',\n",
       " 'CarrierDelay',\n",
       " 'WeatherDelay',\n",
       " 'NASDelay',\n",
       " 'SecurityDelay',\n",
       " 'LateAircraftDelay',\n",
       " 'IsArrDelayed',\n",
       " 'IsDepDelayed']"
      ]
     },
     "execution_count": 13,
     "metadata": {},
     "output_type": "execute_result"
    },
    {
     "data": {
      "text/plain": [
       "(43978, 31)"
      ]
     },
     "execution_count": 13,
     "metadata": {},
     "output_type": "execute_result"
    },
    {
     "name": "stdout",
     "output_type": "stream",
     "text": [
      "H2OFrame: 'Key_Frame__https___s3_amazonaws_com_h2o_public_test_data_smalldata_airlines_allyears2k_headers.hex' \n",
      "Dimensions: 43978 obs. of 31 variables\n",
      "$ Year              :  num 1987 1987 1987 1987 1987 1987 1987 1987 1987 1987\n",
      "$ Month             :  num 10 10 10 10 10 10 10 10 10 10\n",
      "$ DayofMonth        :  num 14 15 17 18 19 21 22 23 24 25\n",
      "$ DayOfWeek         :  num 3 4 6 7 1 3 4 5 6 7\n",
      "$ DepTime           :  num 741 729 741 729 749 728 728 731 744 729\n",
      "$ CRSDepTime        :  num 730 730 730 730 730 730 730 730 730 730\n",
      "$ ArrTime           :  num 912 903 918 847 922 848 852 902 908 851\n",
      "$ CRSArrTime        :  num 849 849 849 849 849 849 849 849 849 849\n",
      "$ UniqueCarrier     :  Factor w/ 10 level(s) \"AA\",\"CO\",\"DL\",\"HP\",\"PI\",\"PS\",\"TW\",\"UA\",\"US\",\"WN\" \n",
      "$ FlightNum         :  num 1451 1451 1451 1451 1451 1451 1451 1451 1451 1451\n"
     ]
    },
    {
     "name": "stdout",
     "output_type": "stream",
     "text": [
      "$ TailNum           :  Factor w/ 3501 level(s) \"-N912<0xE5>\",\"-N913<0xE5>\",\"-N918<0xE5>\",\"-N919<0xE5>\",\"-N920<0xE5>\",\"-N922<0xE5>\",\"-N923<0xE5>\",\"-N924<0xE5>\",\"-N925<0xE5>\",\"-N926<0xE5>\",\"-N927<0xE5>\",\"-N928<0xE5>\",\"-N934<0xE5>\",\"-N936<0xE5>\",\"-N955<0xE5>\",\"-N958<0xE5>\",\"-N959<0xE5>\",\"-N965<0xE5>\",\"-N967<0xE5>\",\"-N970<0xE5>\",\"-N991<0xE5>\",\"0\",\"000000\",\"112\",\"<0xE4>NKNO<0xE6>\",\"EI-BWD\",\"N055AA\",\"N056AA\",\"N057AA\",\"N058AA\",\"N059AA\",\"N060AA\",\"N061AA\",\"N064AA\",\"N066AA\",\"N067AA\",\"N068AA\",\"N069AA\",\"N070AA\",\"N071AA\",\"N073AA\",\"N076AA\",\"N077AA\",\"N078AA\",\"N079AA\",\"N082AA\",\"N084AA\",\"N101<0xE4E6>\",\"N102\",\"N102UW\",\"N103\",\"N10323\",\"N103DA\",\"N103UW\",\"N104\",\"N104UW\",\"N105\",\"N105UW\",\"N106DA\",\"N106UW\",\"N107UW\",\"N108<0xE4E6>\",\"N108DL\",\"N108UW\",\"N109UW\",\"N110HM\",\"N110UW\",\"N111UW\",\"N112DL\",\"N112UW\",\"N113<0xE4E6>\",\"N113DA\",\"N113UW\",\"N114<0xE4E6>\",\"N114UW\",\"N115<0xE4E6>\",\"N116<0xE4E6>\",\"N116DL\",\"N117<0xE4E6>\",\"N117DL\",\"N118<0xE4E6>\",\"N118DL\",\"N118UW\",\"N119<0xE4E6>\",\"N119DL\",\"N119UW\",\"N120<0xE4E6>\",\"N120DL\",\"N121<0xE4E6>\",\"N121DE\",\"N121UW\",\"N122<0xE4E6>\",\"N122DL\",\"N122UW\",\"N12313\",\"N12318\",\"N12319\",\"N12322\",\"N12327\",\"N12349\",\"N123<0xE4E6>\",\"N123DN\",\"N123UW\",\"N124<0xE4E6>\",\"N124DE\",\"N124UW\",\"N125DL\",\"N126AW\",\"N126DL\",\"N127AW\",\"N127DL\",\"N128AW\",\"N128DL\",\"N129\",\"N130\",\"N130DL\",\"N131DN\",\"N132AA\",\"N132DN\",\"N13331\",\"N133DN\",\"N134DL\",\"N135DL\",\"N13624\",\"N136DL\",\"N13716\",\"N13718\",\"N13720\",\"N13750\",\"N137DL\",\"N138AW\",\"N138DL\",\"N139DL\",\"N1402A\",\"N140LL\",\"N141AW\",\"N14308\",\"N14320\",\"N14324\",\"N14335\",\"N14336\",\"N14337\",\"N14341\",\"N14342\",\"N14347\",\"N14383\",\"N145AW\",\"N14629\",\"N14639\",\"N14704\",\"N14731\",\"N14735\",\"N147AW\",\"N149AW\",\"N150AW\",\"N151AW\",\"N154AW\",\"N155AW\",\"N156AW\",\"N15710\",\"N15712\",\"N157AW\",\"N158AW\",\"N160AW\",\"N161<0xE4E6>\",\"N161UW\",\"N162UW\",\"N16301\",\"N16310\",\"N163UW\",\"N164AW\",\"N164UW\",\"N165AW\",\"N165UW\",\"N16618\",\"N16648\",\"N16649\",\"N16650\",\"N16651\",\"N166AW\",\"N166UW\",\"N16701\",\"N16703\",\"N16713\",\"N16732\",\"N167AW\",\"N167UW\",\"N168AW\",\"N168UW\",\"N169AW\",\"N169UW\",\"N170UW\",\"N171UW\",\"N172AW\",\"N172UW\",\"N17306\",\"N17309\",\"N17317\",\"N17321\",\"N17329\",\"N17344\",\"N17345\",\"N17386\",\"N173AW\",\"N173UW\",\"N174<0xE4E6>\",\"N174AW\",\"N174UW\",\"N175AW\",\"N175UW\",\"N17614\",\"N17619\",\"N17620\",\"N17627\",\"N17640\",\"N176UW\",\"N17719\",\"N17730\",\"N177UW\",\"N178AW\",\"N178UW\",\"N179AW\",\"N179UW\",\"N180<0xE4E6>\",\"N180AW\",\"N180UW\",\"N1810U\",\"N1811U\",\"N1812U\",\"N1813U\",\"N1814U\",\"N1815U\",\"N1816U\",\"N1817U\",\"N181AW\",\"N181UW\",\"N1823U\",\"N1824U\",\"N1825U\",\"N182AW\",\"N182UW\",\"N1830U\",\"N1831U\",\"N1832U\",\"N1838U\",\"N183<0xE4E6>\",\"N183AW\",\"N183UW\",\"N1841U\",\"N1842U\",\"N1844U\",\"N1846U\",\"N184AW\",\"N184UW\",\"N185AW\",\"N185UW\",\"N18611\",\"N18622\",\"N186AW\",\"N186UW\",\"N187AW\",\"N187UW\",\"N188AW\",\"N188UW\",\"N189AW\",\"N19357\",\"N19382\",\"N19621\",\"N19623\",\"N19634\",\"N197UA\",\"N20\",\"N200WN\",\"N201\",\"N201LV\",\"N202\",\"N202AA\",\"N202UA\",\"N202WN\",\"N203AU\",\"N203UA\",\"N203WN\",\"N204\",\"N204UA\",\"N204WN\",\"N205\",\"N205AA\",\"N205WN\",\"N206\",\"N20643\",\"N206UA\",\"N206WN\",\"N207\",\"N207AA\",\"N207WN\",\"N208\",\"N208AA\",\"N208WN\",\"N209\",\"N209WN\",\"N210\",\"N210AA\",\"N210WN\",\"N211\",\"N211WN\",\"N212\",\"N212WN\",\"N213\",\"N213UA\",\"N213WN\",\"N214\",\"N214WN\",\"N215\",\"N215AA\",\"N215WN\",\"N216\",\"N216AA\",\"N216UA\",\"N216WR\",\"N217\",\"N21723\",\"N217JC\",\"N218\",\"N218AA\",\"N218WN\",\"N219\",\"N219WN\",\"N220\",\"N220US\",\"N220WN\",\"N221\",\"N221WN\",\"N222\",\"N222WN\",\"N223\",\"N223AA\",\"N223US\",\"N223WN\",\"N224\",\"N224AA\",\"N224US\",\"N224WN\",\"N225\",\"N225AA\",\"N225US\",\"N225WN\",\"N226\",\"N226AA\",\"N226US\",\"N226WN\",\"N227\",\"N227AA\",\"N227AU\",\"N227UA\",\"N227WN\",\"N228\",\"N228AA\",\"N228US\",\"N228WN\",\"N229\",\"N229US\",\"N229WN\",\"N23\",\"N230\",\"N230AU\",\"N230WN\",\"N231\",\"N231US\",\"N231WN\",\"N232\",\"N232AA\",\"N232US\",\"N232WN\",\"N233\",\"N233AA\",\"N233LV\",\"N233US\",\"N234\",\"N234AA\",\"N234US\",\"N235\",\"N235US\",\"N235WN\",\"N236\",\"N236AA\",\"N236US\",\"N236WN\",\"N237\",\"N23707\",\"N23708\",\"N23721\",\"N237AA\",\"N237US\",\"N237WN\",\"N238\",\"N238US\",\"N238WN\",\"N239\",\"N239US\",\"N239WN\",\"N24\",\"N240\",\"N240AU\",\"N240WN\",\"N241\",\"N241AA\",\"N241US\",\"N241WN\",\"N242AA\",\"N242US\",\"N242WN\",\"N243\",\"N24343\",\"N243US\",\"N243WN\",\"N244\",\"N244AA\",\"N244US\",\"N244WN\",\"N245\",\"N245AA\",\"N245US\",\"N245WN\",\"N246\",\"N24633\",\"N246AA\",\"N246LV\",\"N246US\",\"N247\",\"N24702\",\"N24706\",\"N24715\",\"N24736\",\"N247US\",\"N247WN\",\"N248\",\"N248AA\",\"N248US\",\"N248WN\",\"N249\",\"N249AA\",\"N249US\",\"N249WN\",\"N250\",\"N250WN\",\"N251\",\"N251AA\",\"N251AU\",\"N251WN\",\"N252\",\"N252AU\",\"N252WN\",\"N253\",\"N253AA\",\"N253AU\",\"N253WN\",\"N254\",\"N254AU\",\"N254WN\",\"N255\",\"N255AA\",\"N255AU\",\"N255WN\",\"N256\",\"N256AU\",\"N256WN\",\"N257\",\"N25705\",\"N257AU\",\"N257WN\",\"N258\",\"N258AA\",\"N258WN\",\"N259\",\"N259AA\",\"N259AU\",\"N259WN\",\"N26\",\"N260\",\"N260AU\",\"N260WN\",\"N261\",\"N261AU\",\"N261WN\",\"N262\",\"N262AU\",\"N262WN\",\"N263AU\",\"N263WN\",\"N264AU\",\"N264LV\",\"N265AU\",\"N265WN\",\"N266AA\",\"N266AU\",\"N266WN\",\"N267AU\",\"N267WN\",\"N268AU\",\"N268WN\",\"N269AA\",\"N269AU\",\"N269WN\",\"N27\",\"N270\",\"N270AU\",\"N270WN\",\"N271\",\"N271AA\",\"N271AU\",\"N271WN\",\"N272AU\",\"N272WN\",\"N273AU\",\"N273WN\",\"N274AA\",\"N274US\",\"N274WN\",\"N275AU\",\"N275WN\",\"N27610\",\"N276AA\",\"N276AU\",\"N276WN\",\"N27722\",\"N27733\",\"N27734\",\"N277AU\",\"N277WN\",\"N278AA\",\"N278WN\",\"N279AA\",\"N279AU\",\"N279WN\",\"N28\",\"N2807W\",\"N2809W\",\"N280AU\",\"N280WN\",\"N2812W\",\"N2813W\",\"N2814W\",\"N2815W\",\"N2816W\",\"N2817W\",\"N2819W\",\"N281AU\",\"N281WN\",\"N2820W\",\"N2821W\",\"N2824W\",\"N2826W\",\"N2829W\",\"N282AU\",\"N282WA\",\"N282WN\",\"N283AA\",\"N283AU\",\"N283WA\",\"N283WN\",\"N284AU\",\"N284WN\",\"N285AA\",\"N285AU\",\"N285WN\",\"N286\",\"N286AA\",\"N286AU\",\"N286WN\",\"N287AA\",\"N287AU\",\"N287WN\",\"N288AA\",\"N288AU\",\"N288WN\",\"N289AA\",\"N289CT\",\"N29\",\"N290AA\",\"N290WA\",\"N290WN\",\"N291AA\",\"N291WA\",\"N291WN\",\"N292AA\",\"N292WA\",\"N292WN\",\"N293\",\"N293AA\",\"N293WA\",\"N294AA\",\"N294WA\",\"N294WN\",\"N295AA\",\"N295WA\",\"N295WN\",\"N296AA\",\"N296WA\",\"N296WN\",\"N29717\",\"N297AA\",\"N297WA\",\"N297WN\",\"N298AA\",\"N298WN\",\"N299WN\",\"N300\",\"N300A<0xE4>\",\"N300AU\",\"N300SW\",\"N301\",\"N301AU\",\"N301SW\",\"N301UA\",\"N302\",\"N302AU\",\"N302AW\",\"N302SW\",\"N302UA\",\"N303\",\"N303AW\",\"N303SW\",\"N303UA\",\"N304\",\"N304AW\",\"N304SW\",\"N304UA\",\"N305\",\"N305AW\",\"N305SW\",\"N305UA\",\"N306\",\"N306AW\",\"N306SW\",\"N306UA\",\"N307\",\"N307AW\",\"N307SW\",\"N307UA\",\"N308\",\"N308AW\",\"N308SA\",\"N308SW\",\"N308UA\",\"N309\",\"N309AW\",\"N309SW\",\"N309UA\",\"N310\",\"N310SW\",\"N310UA\",\"N311\",\"N311AW\",\"N311SW\",\"N311UA\",\"N312\",\"N312AW\",\"N312SW\",\"N312UA\",\"N313\",\"N313AW\",\"N313SW\",\"N313UA\",\"N314\",\"N314AW\",\"N314SW\",\"N314UA\",\"N315\",\"N315AW\",\"N315SW\",\"N315UA\",\"N316\",\"N316AW\",\"N316SW\",\"N316UA\",\"N317\",\"N317SW\",\"N317UA\",\"N318\",\"N318SW\",\"N318UA\",\"N319\",\"N319UA\",\"N320\",\"N320SW\",\"N320UA\",\"N321\",\"N321SW\",\"N321UA\",\"N322\",\"N322AW\",\"N322UA\",\"N323\",\"N323AW\",\"N323SW\",\"N323UA\",\"N324\",\"N324AW\",\"N324SW\",\"N324UA\",\"N325\",\"N325AW\",\"N325SW\",\"N325UA\",\"N326\",\"N326AW\",\"N326SW\",\"N326UA\",\"N327\",\"N327AW\",\"N327SW\",\"N327UA\",\"N327US\",\"N328\",\"N328AW\",\"N328SW\",\"N328UA\",\"N329\",\"N329AW\",\"N329SW\",\"N329UA\",\"N329US\",\"N330\",\"N330AW\",\"N330SW\",\"N330UA\",\"N331\",\"N331AW\",\"N331SW\",\"N331UA\",\"N332\",\"N332AW\",\"N332SW\",\"N332UA\",\"N333\",\"N333SW\",\"N333UA\",\"N334\",\"N334<0xE4E2>\",\"N334AW\",\"N334SW\",\"N334UA\",\"N334US\",\"N335\",\"N335<0xE4E2>\",\"N335AW\",\"N335SW\",\"N335UA\",\"N335US\",\"N336\",\"N33635\",\"N33637\",\"N336<0xE4E2>\",\"N336AW\",\"N336SW\",\"N336UA\",\"N336US\",\"N337\",\"N337<0xE4E2>\",\"N337SW\",\"N337UA\",\"N337US\",\"N338\",\"N338<0xE4E2>\",\"N338SW\",\"N338UA\",\"N338US\",\"N339\",\"N339<0xE4E2>\",\"N339SW\",\"N339UA\",\"N339US\",\"N340\",\"N340<0xE4E2>\",\"N340LV\",\"N340UA\",\"N340US\",\"N341\",\"N341<0xE4E2>\",\"N341SW\",\"N341UA\",\"N341US\",\"N342\",\"N342<0xE4E2>\",\"N342SW\",\"N342UA\",\"N342US\",\"N343\",\"N34315\",\"N343SW\",\"N343UA\",\"N344\",\"N344SW\",\"N344UA\",\"N345\",\"N345SA\",\"N345UA\",\"N346\",\"N346<0xE4E2>\",\"N346SW\",\"N346UA\",\"N346US\",\"N347\",\"N347SW\",\"N347UA\",\"N348\",\"N348SW\",\"N348UA\",\"N349\",\"N349<0xE4E2>\",\"N349UA\",\"N349US\",\"N350\",\"N350<0xE4E2>\",\"N350SW\",\"N350UA\",\"N350US\",\"N351\",\"N351<0xE4E2>\",\"N351SW\",\"N351UA\",\"N351US\",\"N352\",\"N352<0xE4E2>\",\"N352SW\",\"N352UA\",\"N352US\",\"N353\",\"N353<0xE4E2>\",\"N353SW\",\"N353UA\",\"N353US\",\"N354\",\"N354<0xE4E2>\",\"N354SW\",\"N354UA\",\"N354US\",\"N355\",\"N355<0xE4E2>\",\"N355SW\",\"N355UA\",\"N355US\",\"N356\",\"N356<0xE4E2>\",\"N356SW\",\"N356UA\",\"N356US\",\"N357\",\"N357SW\",\"N357UA\",\"N358\",\"N358SW\",\"N358UA\",\"N359\",\"N359SW\",\"N360\",\"N360SW\",\"N360UA\",\"N361\",\"N361SW\",\"N361UA\",\"N362\",\"N362SW\",\"N362UA\",\"N363\",\"N363SW\",\"N363UA\",\"N364\",\"N364SW\",\"N364UA\",\"N365\",\"N365SW\",\"N365UA\",\"N366\",\"N366SW\",\"N366UA\",\"N367\",\"N367SW\",\"N367UA\",\"N368\",\"N368SW\",\"N368UA\",\"N369\",\"N369SW\",\"N369UA\",\"N370\",\"N370SW\",\"N370UA\",\"N371\",\"N371<0xE4E2>\",\"N371SW\",\"N371UA\",\"N371US\",\"N372\",\"N372UA\",\"N372US\",\"N373\",\"N373<0xE4E2>\",\"N373UA\",\"N373US\",\"N374\",\"N374<0xE4E2>\",\"N374SW\",\"N374UA\",\"N374US\",\"N375\",\"N375<0xE4E2>\",\"N375UA\",\"N375US\",\"N376\",\"N376<0xE4E2>\",\"N376SW\",\"N376UA\",\"N376US\",\"N377UA\",\"N378\",\"N378SW\",\"N378UA\",\"N379\",\"N379SW\",\"N379UA\",\"N380\",\"N380SW\",\"N380UA\",\"N381UA\",\"N382\",\"N382SW\",\"N382UA\",\"N383\",\"N383<0xE4E2>\",\"N383SW\",\"N383UA\",\"N383US\",\"N384\",\"N384<0xE4E2>\",\"N384SW\",\"N384UA\",\"N384US\",\"N385\",\"N385<0xE4E2>\",\"N385SW\",\"N385UA\",\"N385US\",\"N386\",\"N386SW\",\"N386UA\",\"N387\",\"N38727\",\"N387<0xE4E2>\",\"N387SW\",\"N387UA\",\"N387US\",\"N388\",\"N388SW\",\"N388UA\",\"N389\",\"N389<0xE4E2>\",\"N389SW\",\"N389UA\",\"N389US\",\"N390\",\"N390<0xE4E2>\",\"N390SW\",\"N390UA\",\"N390US\",\"N391\",\"N391<0xE4E2>\",\"N391SW\",\"N391UA\",\"N391US\",\"N392\",\"N392<0xE4E2>\",\"N392SW\",\"N392UA\",\"N392US\",\"N39340\",\"N39343\",\"N393<0xE4E2>\",\"N393UA\",\"N393US\",\"N394\",\"N394<0xE4E2>\",\"N394SW\",\"N394UA\",\"N394US\",\"N395\",\"N395<0xE4E2>\",\"N395SW\",\"N395UA\",\"N395US\",\"N396\",\"N396<0xE4E2>\",\"N396SW\",\"N396UA\",\"N396US\",\"N397\",\"N39726\",\"N397<0xE4E2>\",\"N397SW\",\"N397UA\",\"N397US\",\"N398\",\"N398SW\",\"N398UA\",\"N398US\",\"N399\",\"N399UA\",\"N399WN\",\"N400\",\"N400AA\",\"N400DA\",\"N400WN\",\"N401\",\"N401AA\",\"N401DA\",\"N401UA\",\"N401WN\",\"N402\",\"N402DA\",\"N402UA\",\"N402WN\",\"N403\",\"N403AA\",\"N403DA\",\"N403UA\",\"N403WN\",\"N404<0xE4E2>\",\"N404AA\",\"N404DA\",\"N404UA\",\"N404US\",\"N404WN\",\"N405\",\"N405<0xE4E2>\",\"N405AA\",\"N405DA\",\"N405EA\",\"N405UA\",\"N405US\",\"N405WN\",\"N406\",\"N406<0xE4E2>\",\"N406AA\",\"N406DA\",\"N406UA\",\"N406US\",\"N406WN\",\"N407\",\"N407<0xE4E2>\",\"N407AA\",\"N407DA\",\"N407UA\",\"N407US\",\"N407WN\",\"N408\",\"N408<0xE4E2>\",\"N408DA\",\"N408EA\",\"N408UA\",\"N408US\",\"N408WN\",\"N409\",\"N409<0xE4E2>\",\"N409AA\",\"N409DA\",\"N409UA\",\"N409US\",\"N409WN\",\"N410\",\"N410AA\",\"N410EA\",\"N410UA\",\"N410WN\",\"N411\",\"N411<0xE4E2>\",\"N411EA\",\"N411UA\",\"N411US\",\"N411WN\",\"N412\",\"N412<0xE4E2>\",\"N412AA\",\"N412EA\",\"N412UA\",\"N412US\",\"N412WN\",\"N413\",\"N413<0xE4E2>\",\"N413AA\",\"N413UA\",\"N413US\",\"N413WN\",\"N414\",\"N414AA\",\"N414UA\",\"N414WN\",\"N415\",\"N415<0xE4E2>\",\"N415AA\",\"N415UA\",\"N415US\",\"N415WN\",\"N416\",\"N416AA\",\"N416DA\",\"N416EA\",\"N416UA\",\"N416WN\",\"N417\",\"N417<0xE4E2>\",\"N417AA\",\"N417EA\",\"N417UA\",\"N417US\",\"N417WN\",\"N418\",\"N418<0xE4E2>\",\"N418AA\",\"N418DA\",\"N418EA\",\"N418UA\",\"N418US\",\"N418WN\",\"N419\",\"N419<0xE4E2>\",\"N419AA\",\"N419DA\",\"N419UA\",\"N419US\",\"N419WN\",\"N420\",\"N420<0xE4E2>\",\"N420AA\",\"N420DA\",\"N420UA\",\"N420US\",\"N420WN\",\"N421\",\"N421<0xE4E2>\",\"N421AA\",\"N421DA\",\"N421LV\",\"N421UA\",\"N421US\",\"N422\",\"N422<0xE4E2>\",\"N422AA\",\"N422UA\",\"N422US\",\"N422WN\",\"N423\",\"N423<0xE4E2>\",\"N423AA\",\"N423UA\",\"N423US\",\"N423WN\",\"N424\",\"N424<0xE4E2>\",\"N424UA\",\"N424US\",\"N424WN\",\"N425\",\"N425<0xE4E2>\",\"N425AA\",\"N425LV\",\"N425UA\",\"N425US\",\"N426\",\"N426<0xE4E2>\",\"N426AA\",\"N426UA\",\"N426US\",\"N426WN\",\"N427\",\"N427<0xE4E2>\",\"N427UA\",\"N427US\",\"N427WN\",\"N428\",\"N428<0xE4E2>\",\"N428AA\",\"N428UA\",\"N428US\",\"N428WN\",\"N429\",\"N429<0xE4E2>\",\"N429AA\",\"N429UA\",\"N429US\",\"N429WN\",\"N430\",\"N430<0xE4E2>\",\"N430AA\",\"N430UA\",\"N430US\",\"N430WN\",\"N431\",\"N431<0xE4E2>\",\"N431AA\",\"N431UA\",\"N431US\",\"N431WN\",\"N432\",\"N432<0xE4E2>\",\"N432UA\",\"N432US\",\"N432WN\",\"N433\",\"N433<0xE4E2>\",\"N433LV\",\"N433UA\",\"N433US\",\"N434\",\"N434<0xE4E2>\",\"N434AA\",\"N434UA\",\"N434US\",\"N434WN\",\"N435\",\"N435<0xE4E2>\",\"N435AA\",\"N435UA\",\"N435US\",\"N435WN\",\"N436\",\"N436<0xE4E2>\",\"N436UA\",\"N436US\",\"N436WN\",\"N437\",\"N437<0xE4E2>\",\"N437UA\",\"N437US\",\"N437WN\",\"N438\",\"N438<0xE4E2>\",\"N438UA\",\"N438US\",\"N438WN\",\"N439\",\"N439<0xE4E2>\",\"N439UA\",\"N439US\",\"N439WN\",\"N440\",\"N440<0xE4E2>\",\"N440AA\",\"N440LV\",\"N440UA\",\"N440US\",\"N441\",\"N441<0xE4E2>\",\"N441AA\",\"N441UA\",\"N441US\",\"N441WN\",\"N442\",\"N442<0xE4E2>\",\"N442UA\",\"N442US\",\"N442WN\",\"N443\",\"N443<0xE4E2>\",\"N443AA\",\"N443UA\",\"N443US\",\"N443WN\",\"N444\",\"N444<0xE4E2>\",\"N444AA\",\"N444UA\",\"N444US\",\"N444WN\",\"N445\",\"N445<0xE4E2>\",\"N445AA\",\"N445UA\",\"N445US\",\"N445WN\",\"N446\",\"N446<0xE4E2>\",\"N446AA\",\"N446UA\",\"N446US\",\"N446WN\",\"N447\",\"N447<0xE4E2>\",\"N447AA\",\"N447UA\",\"N447US\",\"N447WN\",\"N448\",\"N448<0xE4E2>\",\"N448AA\",\"N448UA\",\"N448US\",\"N448WN\",\"N449\",\"N449<0xE4E2>\",\"N449AA\",\"N449UA\",\"N449US\",\"N449WN\",\"N450\",\"N450AA\",\"N450UA\",\"N450WN\",\"N451\",\"N451AA\",\"N451UA\",\"N451WN\",\"N452\",\"N452AA\",\"N452UA\",\"N452WN\",\"N453AA\",\"N453UA\",\"N453WN\",\"N454\",\"N454UA\",\"N454WN\",\"N455\",\"N455AA\",\"N455UA\",\"N455WN\",\"N456\",\"N456AA\",\"N456UA\",\"N456WN\",\"N457\",\"N457AA\",\"N457UA\",\"N457WN\",\"N458\",\"N458AA\",\"N458UA\",\"N458WN\",\"N459\",\"N459AA\",\"N459UA\",\"N459WN\",\"N460\",\"N460AA\",\"N460UA\",\"N460WN\",\"N461\",\"N461AA\",\"N461UA\",\"N461WN\",\"N462\",\"N462AA\",\"N462UA\",\"N462WN\",\"N463AA\",\"N463UA\",\"N463WN\",\"N464\",\"N464AA\",\"N464UA\",\"N464WN\",\"N465\",\"N465UA\",\"N465WN\",\"N466\",\"N46625\",\"N466UA\",\"N466WN\",\"N467\",\"N467AA\",\"N467UA\",\"N467WN\",\"N468\",\"N468AA\",\"N468DA\",\"N468UA\",\"N468WN\",\"N469\",\"N469AA\",\"N469DA\",\"N469UA\",\"N469WN\",\"N470\",\"N470AA\",\"N470DA\",\"N470UA\",\"N470WN\",\"N471AA\",\"N471UA\",\"N472\",\"N472AA\",\"N472UA\",\"N472WN\",\"N473\",\"N47332\",\"N473AA\",\"N473UA\",\"N473WN\",\"N474\",\"N474AA\",\"N474UA\",\"N474WN\",\"N475\",\"N475AA\",\"N475DA\",\"N475UA\",\"N475WN\",\"N476\",\"N476AA\",\"N476DA\",\"N476UA\",\"N476WN\",\"N477\",\"N477AA\",\"N477DA\",\"N477UA\",\"N477WN\",\"N478\",\"N478AA\",\"N478DA\",\"N478UA\",\"N478WN\",\"N479\",\"N479AA\",\"N479UA\",\"N479WN\",\"N480\",\"N480AA\",\"N480UA\",\"N480WN\",\"N481AA\",\"N481UA\",\"N481WN\",\"N482\",\"N482AA\",\"N482DA\",\"N482UA\",\"N482WN\",\"N483\",\"N483AA\",\"N483DA\",\"N483UA\",\"N483WN\",\"N484\",\"N484AA\",\"N484DA\",\"N484UA\",\"N484WN\",\"N485\",\"N485AA\",\"N485DA\",\"N485UA\",\"N485WN\",\"N486\",\"N486AA\",\"N486UA\",\"N486WN\",\"N487\",\"N487AA\",\"N487UA\",\"N487WN\",\"N488\",\"N488AA\",\"N488UA\",\"N488WN\",\"N489\",\"N489AA\",\"N489DA\",\"N489UA\",\"N489WN\",\"N490\",\"N490DA\",\"N490UA\",\"N490WN\",\"N491\",\"N491AA\",\"N491SA\",\"N491UA\",\"N491WN\",\"N492\",\"N492AA\",\"N492DA\",\"N492UA\",\"N492WN\",\"N493\",\"N493DA\",\"N493UA\",\"N493WN\",\"N494\",\"N494AA\",\"N494DA\",\"N494UA\",\"N494WN\",\"N495\",\"N495AA\",\"N495DA\",\"N495UA\",\"N495WN\",\"N496\",\"N496AA\",\"N496UA\",\"N496WN\",\"N497\",\"N497AA\",\"N497DA\",\"N497UA\",\"N497WN\",\"N498\",\"N498AA\",\"N498DA\",\"N498UA\",\"N498WN\",\"N499\",\"N499AA\",\"N499DA\",\"N499WN\",\"N50\",\"N501\",\"N501AA\",\"N501AU\",\"N501DA\",\"N501SW\",\"N501UA\",\"N502\",\"N502AU\",\"N502SW\",\"N502UA\",\"N503\",\"N503AA\",\"N503AU\",\"N503SW\",\"N503UA\",\"N504\",\"N504A<0xE4>\",\"N504AA\",\"N504AU\",\"N504DA\",\"N504SW\",\"N504UA\",\"N505\",\"N505A<0xE4>\",\"N505AA\",\"N505AU\",\"N505DA\",\"N505UA\",\"N506\",\"N506A<0xE4>\",\"N506AA\",\"N506AU\",\"N506DA\",\"N506SW\",\"N506UA\",\"N507\",\"N507A<0xE4>\",\"N507AA\",\"N507AU\",\"N507DA\",\"N507SW\",\"N507UA\",\"N508\",\"N508A<0xE4>\",\"N508AA\",\"N508AU\",\"N508DA\",\"N508UA\",\"N509\",\"N509AA\",\"N509AU\",\"N509DA\",\"N509DC\",\"N509SW\",\"N509UA\",\"N51\",\"N510\",\"N510A<0xE4>\",\"N510AA\",\"N510AU\",\"N510DA\",\"N510UA\",\"N511\",\"N511A<0xE4>\",\"N511AA\",\"N511AU\",\"N511DA\",\"N511SW\",\"N511UA\",\"N512\",\"N512A<0xE4>\",\"N512AU\",\"N512DA\",\"N512SW\",\"N512UA\",\"N513\",\"N513DA\",\"N513SW\",\"N513UA\",\"N514\",\"N514A<0xE4>\",\"N514AA\",\"N514AU\",\"N514DA\",\"N514SW\",\"N514UA\",\"N515\",\"N515A<0xE4>\",\"N515AA\",\"N515AU\",\"N515DA\",\"N515SW\",\"N515UA\",\"N516A<0xE4>\",\"N516AA\",\"N516AU\",\"N516DA\",\"N516UA\",\"N517A<0xE4>\",\"N517AA\",\"N517AU\",\"N517DA\",\"N517UA\",\"N518A<0xE4>\",\"N518AU\",\"N518DA\",\"N518UA\",\"N519\",\"N519A<0xE4>\",\"N519AA\",\"N519AU\",\"N519DA\",\"N519SW\",\"N519UA\",\"N52\",\"N520\",\"N520A<0xE4>\",\"N520AA\",\"N520AU\",\"N520DA\",\"N520SW\",\"N520UA\",\"N521\",\"N521A<0xE4>\",\"N521AA\",\"N521AU\",\"N521DA\",\"N521SW\",\"N521UA\",\"N522\",\"N522A<0xE4>\",\"N522AA\",\"N522AU\",\"N522DA\",\"N522SW\",\"N522UA\",\"N523\",\"N52312\",\"N52313\",\"N523A<0xE4>\",\"N523AA\",\"N523AU\",\"N523DA\",\"N523SW\",\"N523UA\",\"N524\",\"N524A<0xE4>\",\"N524AA\",\"N524AU\",\"N524UA\",\"N525\",\"N525A<0xE4>\",\"N525AA\",\"N525AU\",\"N525DA\",\"N525SW\",\"N525UA\",\"N526\",\"N52616\",\"N526A<0xE4>\",\"N526AU\",\"N526DA\",\"N526UA\",\"N527\",\"N527A<0xE4>\",\"N527AA\",\"N527AU\",\"N527DA\",\"N527SW\",\"N527UA\",\"N528\",\"N528A<0xE4>\",\"N528AA\",\"N528AU\",\"N528DA\",\"N528SW\",\"N528UA\",\"N529A<0xE4>\",\"N529AA\",\"N529AU\",\"N529DA\",\"N529UA\",\"N53\",\"N530A<0xE4>\",\"N530AA\",\"N530AU\",\"N530UA\",\"N531A<0xE4>\",\"N531AA\",\"N531AU\",\"N531DA\",\"N531UA\",\"N532A<0xE4>\",\"N532AA\",\"N532AU\",\"N532DA\",\"N532UA\",\"N533A<0xE4>\",\"N533AA\",\"N533AU\",\"N533DA\",\"N533UA\",\"N534A<0xE4>\",\"N534AA\",\"N534AU\",\"N534DA\",\"N534UA\",\"N535AA\",\"N535DA\",\"N535UA\",\"N536AA\",\"N536DA\",\"N536UA\",\"N537AA\",\"N537DA\",\"N537UA\",\"N538AA\",\"N538DA\",\"N538UA\",\"N539AA\",\"N539DA\",\"N539UA\",\"N54\",\"N540AA\",\"N540DA\",\"N540UA\",\"N541AA\",\"N541DA\",\"N541UA\",\"N542AA\",\"N542DA\",\"N542UA\",\"N54325\",\"N54326\",\"N54327\",\"N54329\",\"N54333\",\"N54334\",\"N54335\",\"N54336\",\"N54338\",\"N54340\",\"N54341\",\"N54342\",\"N54344\",\"N54348\",\"N54349\",\"N54350\",\"N54351\",\"N54353\",\"N54354\",\"N543AA\",\"N543DA\",\"N543UA\",\"N544AA\",\"N544DA\",\"N545AA\",\"N545DA\",\"N545UA\",\"N546AA\",\"N546DA\",\"N546UA\",\"N54711\",\"N547AA\",\"N547UA\",\"N548AA\",\"N548UA\",\"N549AA\",\"N55\",\"N550AA\",\"N550UA\",\"N550WN\",\"N551AA\",\"N551UA\",\"N551WN\",\"N552AA\",\"N552UA\",\"N553AA\",\"N553UA\",\"N554UA\",\"N555AA\",\"N555UA\",\"N556AA\",\"N556UA\",\"N557AA\",\"N557UA\",\"N558A<0xE4>\",\"N558AA\",\"N558AU\",\"N558UA\",\"N559A<0xE4>\",\"N559AA\",\"N559AU\",\"N559UA\",\"N56\",\"N560A<0xE4>\",\"N560AU\",\"N560UA\",\"N561UA\",\"N562A<0xE4>\",\"N562AA\",\"N562AU\",\"N562UA\",\"N563<0xE4E2>\",\"N563UA\",\"N563US\",\"N564UA\",\"N565UA\",\"N566UA\",\"N567AA\",\"N567UA\",\"N568AA\",\"N568UA\",\"N569AA\",\"N569UA\",\"N57\",\"N570AA\",\"N570UA\",\"N571UA\",\"N572UA\",\"N573<0xE4E2>\",\"N573AA\",\"N573UA\",\"N573US\",\"N574<0xE4E2>\",\"N574AA\",\"N574UA\",\"N574US\",\"N575<0xE4E2>\",\"N575UA\",\"N575US\",\"N576<0xE4E2>\",\"N576AA\",\"N576UA\",\"N576US\",\"N577<0xE4E2>\",\"N577AA\",\"N577UA\",\"N577US\",\"N578UA\",\"N578US\",\"N579AA\",\"N579UA\",\"N579US\",\"N580AA\",\"N580UA\",\"N581AA\",\"N581UA\",\"N581US\",\"N582AA\",\"N582UA\",\"N582US\",\"N583UA\",\"N583US\",\"N584<0xE4E2>\",\"N584AA\",\"N584UA\",\"N584US\",\"N585<0xE4E2>\",\"N585AA\",\"N585UA\",\"N585US\",\"N586<0xE4E2>\",\"N586AA\",\"N586UA\",\"N586US\",\"N587<0xE4E2>\",\"N587AA\",\"N587UA\",\"N587US\",\"N588<0xE4E2>\",\"N588UA\",\"N588US\",\"N589<0xE4E2>\",\"N589UA\",\"N589US\",\"N59\",\"N590<0xE4E2>\",\"N590AA\",\"N590UA\",\"N590US\",\"N591<0xE4E2>\",\"N591US\",\"N592<0xE4E2>\",\"N592UA\",\"N592US\",\"N59338\",\"N593AA\",\"N593UA\",\"N594AA\",\"N594UA\",\"N595AA\",\"N595UA\",\"N596AA\",\"N596UA\",\"N597AA\",\"N599AA\",\"N5BRAA\",\"N5BSAA\",\"N5BTAA\",\"N5BVAA\",\"N5BWAA\",\"N5CAAA\",\"N5CCAA\",\"N5CDAA\",\"N5CFAA\",\"N5CGAA\",\"N5CHAA\",\"N5CKAA\",\"N5CLAA\",\"N5CMAA\",\"N5CXAA\",\"N5DEAA\",\"N5DHAA\",\"N5DJAA\",\"N5DMAA\",\"N5DNAA\",\"N5DRAA\",\"N5DSAA\",\"N5DTAA\",\"N5DVAA\",\"N5DXAA\",\"N5DYAA\",\"N5EAAA\",\"N5EDAA\",\"N5EFAA\",\"N5EGAA\",\"N5EHAA\",\"N5ELAA\",\"N60\",\"N600\",\"N600A<0xE4>\",\"N600AU\",\"N600WN\",\"N601\",\"N601A<0xE4>\",\"N601AU\",\"N601AW\",\"N601DL\",\"N601WN\",\"N602\",\"N602A<0xE4>\",\"N602AU\",\"N602SW\",\"N603\",\"N60312\",\"N603A<0xE4>\",\"N603AU\",\"N603AW\",\"N603DL\",\"N603SW\",\"N604\",\"N604A<0xE4>\",\"N604AU\",\"N604AW\",\"N604DL\",\"N604SW\",\"N605\",\"N605A<0xE4>\",\"N605AU\",\"N605AW\",\"N605DL\",\"N605SW\",\"N606\",\"N606A<0xE4>\",\"N606AU\",\"N606DL\",\"N606SW\",\"N607\",\"N607A<0xE4>\",\"N607AU\",\"N607DL\",\"N607SW\",\"N608\",\"N608A<0xE4>\",\"N608AU\",\"N608DA\",\"N608SW\",\"N609\",\"N609A<0xE4>\",\"N609AU\",\"N609DL\",\"N609SW\",\"N61\",\"N610\",\"N610A<0xE4>\",\"N610AU\",\"N610DL\",\"N610SW\",\"N610WN\",\"N611\",\"N611A<0xE4>\",\"N611AA\",\"N611AU\",\"N611DL\",\"N611SW\",\"N612\",\"N612A<0xE4>\",\"N612AU\",\"N612DL\",\"N612SW\",\"N613\",\"N613A<0xE4>\",\"N613AA\",\"N613AU\",\"N613DL\",\"N613SW\",\"N613UA\",\"N614\",\"N614A<0xE4>\",\"N614AA\",\"N614AU\",\"N614DL\",\"N614SW\",\"N615\",\"N615A<0xE4>\",\"N615AU\",\"N615DL\",\"N615SW\",\"N616\",\"N616A<0xE4>\",\"N616AA\",\"N616AU\",\"N616AW\",\"N616DL\",\"N616SW\",\"N617\",\"N617A<0xE4>\",\"N617AU\",\"N617DL\",\"N617SW\",\"N618\",\"N618A<0xE4>\",\"N618AU\",\"N618AW\",\"N618DL\",\"N618WN\",\"N619\",\"N619A<0xE4>\",\"N619AU\",\"N619AW\",\"N619DL\",\"N619SW\",\"N62\",\"N620\",\"N620A<0xE4>\",\"N620AU\",\"N620AW\",\"N620DL\",\"N620SW\",\"N621\",\"N621A<0xE4>\",\"N621AA\",\"N621AU\",\"N621AW\",\"N621DL\",\"N621SW\",\"N622\",\"N622A<0xE4>\",\"N622AA\",\"N622AU\",\"N622AW\",\"N622DL\",\"N622SW\",\"N623\",\"N623A<0xE4>\",\"N623AA\",\"N623AU\",\"N623DL\",\"N623SW\",\"N624\",\"N624A<0xE4>\",\"N624AU\",\"N624AW\",\"N624DL\",\"N624SW\",\"N625\",\"N625A<0xE4>\",\"N625AU\",\"N625AW\",\"N625DL\",\"N625SW\",\"N626\",\"N626A<0xE4>\",\"N626AU\",\"N626AW\",\"N626DL\",\"N626SW\",\"N627\",\"N627A<0xE4>\",\"N627AA\",\"N627AU\",\"N627AW\",\"N627DL\",\"N627SW\",\"N628\",\"N628A<0xE4>\",\"N628AU\",\"N628AW\",\"N628DL\",\"N628SW\",\"N629\",\"N629A<0xE4>\",\"N629AU\",\"N629AW\",\"N629DL\",\"N629SW\",\"N63\",\"N630\",\"N630A<0xE4>\",\"N630AA\",\"N630AU\",\"N630DL\",\"N630WN\",\"N631\",\"N631A<0xE4>\",\"N631AU\",\"N631AW\",\"N631DL\",\"N631SW\",\"N632\",\"N632A<0xE4>\",\"N632AU\",\"N632AW\",\"N632DL\",\"N632SW\",\"N633\",\"N63305\",\"N633A<0xE4>\",\"N633AU\",\"N633AW\",\"N633DL\",\"N633SW\",\"N634\",\"N634AW\",\"N634DL\",\"N634SW\",\"N635\",\"N635AW\",\"N635DL\",\"N635SW\",\"N636\",\"N636AW\",\"N636DL\",\"N636WN\",\"N637\",\"N637AW\",\"N637DL\",\"N637SW\",\"N638\",\"N638AW\",\"N638DL\",\"N638SW\",\"N639\",\"N639AW\",\"N639DL\",\"N639SW\",\"N64\",\"N640\",\"N640AW\",\"N640DL\",\"N640SW\",\"N641\",\"N641AA\",\"N641AW\",\"N641DL\",\"N641SW\",\"N642\",\"N642AW\",\"N642DL\",\"N642UA\",\"N642WN\",\"N643\",\"N64315\",\"N64319\",\"N64320\",\"N64322\",\"N64347\",\"N643AW\",\"N643SW\",\"N644\",\"N644AW\",\"N644DL\",\"N645\",\"N645AW\",\"N645DL\",\"N645SW\",\"N645US\",\"N646\",\"N646AW\",\"N646DL\",\"N646SW\",\"N646US\",\"N647\",\"N647AW\",\"N647DL\",\"N647SW\",\"N648\",\"N648AW\",\"N648DL\",\"N648SW\",\"N648UA\",\"N648US\",\"N649\",\"N649AW\",\"N649DL\",\"N649SW\",\"N649US\",\"N650\",\"N650AW\",\"N650DL\",\"N650SW\",\"N651\",\"N651AW\",\"N651DL\",\"N651SW\",\"N651US\",\"N652\",\"N652AW\",\"N652DL\",\"N652SW\",\"N652US\",\"N653\",\"N653AW\",\"N653DL\",\"N653SW\",\"N654\",\"N654AW\",\"N654DL\",\"N654SW\",\"N655\",\"N655AW\",\"N655DL\",\"N655US\",\"N655WN\",\"N656AW\",\"N656DL\",\"N656SW\",\"N656US\",\"N657AW\",\"N657DL\",\"N657SW\",\"N658\",\"N658AW\",\"N658DL\",\"N658SW\",\"N659\",\"N659AW\",\"N659DL\",\"N659SW\",\"N660\",\"N660AW\",\"N660DL\",\"N660SW\",\"N661\",\"N661AW\",\"N661SW\",\"N662\",\"N662AW\",\"N662DN\",\"N662SW\",\"N662UA\",\"N663\",\"N663AW\",\"N663DN\",\"N663SW\",\"N664\",\"N664DN\",\"N664UA\",\"N664WN\",\"N665\",\"N665AW\",\"N665DN\",\"N665WN\",\"N666DN\",\"N667\",\"N667AW\",\"N667DN\",\"N667SW\",\"N668\",\"N668AW\",\"N668DN\",\"N669\",\"N669AW\",\"N669DN\",\"N669SW\",\"N67\",\"N670\",\"N6700\",\"N6702\",\"N670DN\",\"N670SW\",\"N670UA\",\"N671\",\"N671DN\",\"N671SW\",\"N672\",\"N672AW\",\"N672DL\",\"N672SW\",\"N672UA\",\"N673\",\"N673AA\",\"N673AW\",\"N673DL\",\"N673UA\",\"N674\",\"N674AA\",\"N674AW\",\"N674DL\",\"N674UA\",\"N675\",\"N675AA\",\"N675AW\",\"N675DL\",\"N676\",\"N676AW\",\"N676DL\",\"N676SW\",\"N677\",\"N677AA\",\"N677AW\",\"N677DL\",\"N678\",\"N678AA\",\"N678AW\",\"N678DL\",\"N679\",\"N679AA\",\"N679AW\",\"N679DA\",\"N68\",\"N680\",\"N680AA\",\"N680AW\",\"N680DA\",\"N681DA\",\"N682\",\"N682DA\",\"N682SW\",\"N683\",\"N683DA\",\"N683SW\",\"N684\",\"N684DA\",\"N684WN\",\"N685\",\"N685DA\",\"N685SW\",\"N686\",\"N686DA\",\"N686SW\",\"N687\",\"N687DL\",\"N687SW\",\"N688\",\"N688DL\",\"N688SW\",\"N689\",\"N689SW\",\"N690\",\"N690DL\",\"N690SW\",\"N691\",\"N691WN\",\"N692\",\"N692DL\",\"N692SW\",\"N693\",\"N69311\",\"N693DL\",\"N693SW\",\"N694\",\"N694DA\",\"N694SW\",\"N695\",\"N695SW\",\"N696\",\"N696SW\",\"N697\",\"N697DL\",\"N697SW\",\"N698\",\"N698DL\",\"N698SW\",\"N699\",\"N699SW\",\"N700\",\"N700<0xE4E6>\",\"N700GS\",\"N700UW\",\"N701\",\"N701<0xE4E6>\",\"N701AA\",\"N701GS\",\"N701UW\",\"N702\",\"N702<0xE4E6>\",\"N702AA\",\"N702UW\",\"N703\",\"N703<0xE4E6>\",\"N703AA\",\"N703SW\",\"N703UW\",\"N704\",\"N704<0xE4E6>\",\"N704SW\",\"N704UW\",\"N705\",\"N705<0xE4E6>\",\"N705AA\",\"N705SW\",\"N705UW\",\"N706\",\"N706<0xE4E6>\",\"N706AA\",\"N706SW\",\"N706UW\",\"N707\",\"N707<0xE4E6>\",\"N707AA\",\"N707SA\",\"N707UW\",\"N708\",\"N708<0xE4E6>\",\"N708AA\",\"N708SA\",\"N708UW\",\"N709\",\"N709<0xE4E6>\",\"N709AA\",\"N709SW\",\"N709UW\",\"N71\",\"N710\",\"N710<0xE4E6>\",\"N710AA\",\"N710SW\",\"N710UW\",\"N711\",\"N711<0xE4E6>\",\"N711HK\",\"N711UW\",\"N712\",\"N712<0xE4E6>\",\"N712AA\",\"N712SW\",\"N712UW\",\"N713\",\"N713<0xE4E6>\",\"N713AA\",\"N713SW\",\"N713UW\",\"N714\",\"N714<0xE4E6>\",\"N714CB\",\"N714UW\",\"N715\",\"N715<0xE4E6>\",\"N715AA\",\"N715SW\",\"N715UW\",\"N716\",\"N716<0xE4E6>\",\"N716SW\",\"N716UW\",\"N717\",\"N717<0xE4E6>\",\"N717SA\",\"N717UW\",\"N718\",\"N718<0xE4E6>\",\"N718SW\",\"N718UW\",\"N719\",\"N719<0xE4E6>\",\"N719SW\",\"N719UW\",\"N720\",\"N720<0xE4E6>\",\"N720WN\",\"N721\",\"N721<0xE4E6>\",\"N721UW\",\"N722\",\"N722<0xE4E6>\",\"N722UW\",\"N723\",\"N723<0xE4E6>\",\"N723AA\",\"N723SW\",\"N723UW\",\"N724\",\"N724<0xE4E6>\",\"N724SW\",\"N724UW\",\"N725\",\"N7251U\",\"N7252U\",\"N7253U\",\"N7254U\",\"N7255U\",\"N7256U\",\"N7257U\",\"N7258U\",\"N7259U\",\"N725<0xE4E6>\",\"N725SW\",\"N725UW\",\"N726\",\"N7260U\",\"N7261U\",\"N7262U\",\"N7263U\",\"N7264U\",\"N7265U\",\"N7266U\",\"N7267U\",\"N7268U\",\"N7269U\",\"N726<0xE4E6>\",\"N726SW\",\"N727\",\"N7270U\",\"N7271U\",\"N7272U\",\"N7273U\",\"N7274U\",\"N7275U\",\"N7276U\",\"N7277U\",\"N7278U\",\"N7279U\",\"N727<0xE4E6>\",\"N727SW\",\"N728\",\"N7280U\",\"N7281U\",\"N7282U\",\"N7283U\",\"N7284U\",\"N7285U\",\"N7286U\",\"N7287U\",\"N7288U\",\"N7289U\",\"N728<0xE4E6>\",\"N728SW\",\"N728UW\",\"N729\",\"N7290U\",\"N7291U\",\"N7292U\",\"N7293U\",\"N7294U\",\"N7295U\",\"N7297U\",\"N7298U\",\"N7299U\",\"N729<0xE4E6>\",\"N729SW\",\"N73\",\"N730\",\"N730<0xE4E6>\",\"N730AA\",\"N730MA\",\"N730SW\",\"N730UW\",\"N731\",\"N731AA\",\"N731SA\",\"N732\",\"N732<0xE4E6>\",\"N732SW\",\"N732UW\",\"N733\",\"N73380\",\"N733<0xE4E6>\",\"N733SA\",\"N733SW\",\"N733UW\",\"N734\",\"N734SA\",\"N734SW\",\"N735\",\"N735SA\",\"N736\",\"N736<0xE4E6>\",\"N736SA\",\"N737\",\"N737<0xE4E6>\",\"N737JW\",\"N737UW\",\"N738\",\"N738<0xE4E6>\",\"N738CB\",\"N738UW\",\"N739\",\"N739<0xE4E6>\",\"N739GB\",\"N74\",\"N740\",\"N740<0xE4E6>\",\"N740SW\",\"N740UW\",\"N741\",\"N741<0xE4E6>\",\"N741SA\",\"N741UW\",\"N742\",\"N742<0xE4E6>\",\"N742SW\",\"N742UW\",\"N743\",\"N743<0xE4E6>\",\"N743SW\",\"N744\",\"N7441U\",\"N7442U\",\"N7443U\",\"N7444U\",\"N7445U\",\"N7446U\",\"N7447U\",\"N7448U\",\"N7449U\",\"N744<0xE4E6>\",\"N744SW\",\"N744UW\",\"N745\",\"N7450U\",\"N7451U\",\"N7452U\",\"N7453U\",\"N7454U\",\"N7455U\",\"N7456U\",\"N7458U\",\"N7459U\",\"N745<0xE4E6>\",\"N745SW\",\"N745UW\",\"N746\",\"N7460U\",\"N7461U\",\"N7462U\",\"N7463U\",\"N7464U\",\"N7465U\",\"N7466U\",\"N7467U\",\"N746<0xE4E6>\",\"N746SW\",\"N746UW\",\"N747\",\"N747<0xE4E6>\",\"N747SA\",\"N747UW\",\"N748\",\"N748<0xE4E6>\",\"N748SW\",\"N748UW\",\"N749\",\"N749<0xE4E6>\",\"N749SW\",\"N749UW\",\"N750\",\"N750AT\",\"N750SA\",\"N750UW\",\"N751\",\"N751AT\",\"N751SW\",\"N751UW\",\"N752\",\"N752SW\",\"N752UW\",\"N753\",\"N753SW\",\"N753UW\",\"N754\",\"N754SW\",\"N754UW\",\"N755\",\"N755SA\",\"N755UW\",\"N756\",\"N756SA\",\"N756UW\",\"N757\",\"N757AT\",\"N757LV\",\"N757UW\",\"N758\",\"N758<0xE4E6>\",\"N758SW\",\"N758UW\",\"N759\",\"N759GS\",\"N760\",\"N760<0xE4E6>\",\"N760UW\",\"N761\",\"N761RR\",\"N762\",\"N762<0xE4E6>\",\"N762SW\",\"N762UW\",\"N763\",\"N763<0xE4E6>\",\"N763SW\",\"N763UW\",\"N764<0xE4E6>\",\"N764SW\",\"N764UW\",\"N765\",\"N765<0xE4E6>\",\"N765SW\",\"N765UW\",\"N766\",\"N766<0xE4E6>\",\"N766SW\",\"N766UW\",\"N767\",\"N767<0xE4E6>\",\"N767SW\",\"N767UW\",\"N768\",\"N768<0xE4E6>\",\"N768SW\",\"N768UW\",\"N769\",\"N769<0xE4E6>\",\"N769SW\",\"N769UW\",\"N770\",\"N770<0xE4E6>\",\"N770SA\",\"N770UW\",\"N771\",\"N771SA\",\"N772\",\"N772SW\",\"N772UA\",\"N773\",\"N77303\",\"N773SA\",\"N774\",\"N774SW\",\"N774UA\",\"N775\",\"N775A<0xE4>\",\"N775AU\",\"N775SW\",\"N776\",\"N776A<0xE4>\",\"N776AU\",\"N776WN\",\"N777\",\"N777A<0xE4>\",\"N777AU\",\"N777QC\",\"N778\",\"N778A<0xE4>\",\"N778AU\",\"N778SW\",\"N779\",\"N779A<0xE4>\",\"N779AU\",\"N779SW\",\"N780\",\"N780A<0xE4>\",\"N780AU\",\"N780SW\",\"N781\",\"N781A<0xE4>\",\"N781AU\",\"N781WN\",\"N782\",\"N782A<0xE4>\",\"N782AU\",\"N782SA\",\"N783\",\"N783A<0xE4>\",\"N783AU\",\"N783SW\",\"N784\",\"N784A<0xE4>\",\"N784AU\",\"N784SW\",\"N785\",\"N785A<0xE4>\",\"N785AU\",\"N785SW\",\"N786\",\"N786SW\",\"N787\",\"N787SA\",\"N787UA\",\"N788\",\"N788SA\",\"N789\",\"N789SW\",\"N790\",\"N790SW\",\"N791SW\",\"N792\",\"N792SW\",\"N792UA\",\"N793\",\"N793SA\",\"N793UA\",\"N794\",\"N794SW\",\"N795\",\"N795SW\",\"N796\",\"N796SW\",\"N797\",\"N797MX\",\"N798\",\"N798SW\",\"N799\",\"N799SW\",\"N80\",\"N800<0xE4E2>\",\"N800US\",\"N801<0xE4E2>\",\"N801AW\",\"N801MA\",\"N801UA\",\"N801US\",\"N802<0xE4E2>\",\"N802AW\",\"N802MD\",\"N802UA\",\"N802US\",\"N803<0xE4E2>\",\"N803AW\",\"N803UA\",\"N803US\",\"N804<0xE4E2>\",\"N804AW\",\"N804MD\",\"N804UA\",\"N804US\",\"N805<0xE4E2>\",\"N805AW\",\"N805EA\",\"N805UA\",\"N805US\",\"N806<0xE4E2>\",\"N806AW\",\"N806UA\",\"N806US\",\"N807AW\",\"N807MD\",\"N807UA\",\"N807US\",\"N808<0xE4E2>\",\"N808AW\",\"N808MD\",\"N808UA\",\"N808US\",\"N809<0xE4E2>\",\"N809AW\",\"N809UA\",\"N809US\",\"N81\",\"N810<0xE4E2>\",\"N810AW\",\"N810UA\",\"N810US\",\"N811<0xE4E2>\",\"N811MD\",\"N811UA\",\"N811US\",\"N812<0xE4E2>\",\"N812AW\",\"N812MD\",\"N812UA\",\"N812US\",\"N813<0xE4E2>\",\"N813AW\",\"N813MA\",\"N813UA\",\"N813US\",\"N814<0xE4E2>\",\"N814AW\",\"N814MD\",\"N814UA\",\"N814US\",\"N815<0xE4E2>\",\"N815AW\",\"N815UA\",\"N815US\",\"N816<0xE4E2>\",\"N816MA\",\"N816UA\",\"N817<0xE4E2>\",\"N817AW\",\"N817MD\",\"N817UA\",\"N817US\",\"N818<0xE4E2>\",\"N818AA\",\"N818AW\",\"N818MD\",\"N818UA\",\"N818US\",\"N819<0xE4E2>\",\"N819AW\",\"N819MD\",\"N819UA\",\"N819US\",\"N82\",\"N820<0xE4E2>\",\"N820AW\",\"N820MD\",\"N820UA\",\"N820US\",\"N821<0xE4E2>\",\"N821AW\",\"N821MD\",\"N821UA\",\"N821US\",\"N822<0xE4E2>\",\"N822AW\",\"N822MD\",\"N822UA\",\"N822US\",\"N823<0xE4E2>\",\"N823AW\",\"N823UA\",\"N823US\",\"N824<0xE4E2>\",\"N824AW\",\"N824UA\",\"N824US\",\"N825<0xE4E2>\",\"N825AW\",\"N825UA\",\"N825US\",\"N826<0xE4E2>\",\"N826AW\",\"N826MD\",\"N826UA\",\"N826US\",\"N827<0xE4E2>\",\"N827AW\",\"N827UA\",\"N827US\",\"N828<0xE4E2>\",\"N828AW\",\"N828UA\",\"N828US\",\"N829<0xE4E2>\",\"N829AW\",\"N829UA\",\"N829US\",\"N830<0xE4E2>\",\"N830AW\",\"N830UA\",\"N830US\",\"N830WA\",\"N831AW\",\"N831L\",\"N831UA\",\"N831WA\",\"N832AW\",\"N832UA\",\"N833AW\",\"N833UA\",\"N834AW\",\"N834UA\",\"N835AW\",\"N835UA\",\"N836UA\",\"N837AW\",\"N837UA\",\"N838UA\",\"N839UA\",\"N840UA\",\"N841UA\",\"N842UA\",\"N84355\",\"N843UA\",\"N844UA\",\"N845UA\",\"N846UA\",\"N847UA\",\"N848UA\",\"N849UA\",\"N85\",\"N850<0xE4E2>\",\"N850UA\",\"N850US\",\"N851<0xE4E2>\",\"N851UA\",\"N851US\",\"N852<0xE4E2>\",\"N852UA\",\"N852US\",\"N853<0xE4E2>\",\"N853UA\",\"N853US\",\"N854<0xE4E2>\",\"N854UA\",\"N854US\",\"N855<0xE4E2>\",\"N855UA\",\"N855US\",\"N856<0xE4E2>\",\"N856US\",\"N857<0xE4E2>\",\"N857US\",\"N858<0xE4E2>\",\"N858US\",\"N859<0xE4E2>\",\"N859US\",\"N86\",\"N860<0xE4E2>\",\"N860US\",\"N861<0xE4E2>\",\"N861US\",\"N862<0xE4E2>\",\"N862AA\",\"N862US\",\"N863<0xE4E2>\",\"N863US\",\"N864<0xE4E2>\",\"N864US\",\"N865<0xE4E2>\",\"N865US\",\"N866<0xE4E2>\",\"N866US\",\"N867<0xE4E2>\",\"N867AA\",\"N867US\",\"N868<0xE4E2>\",\"N868AA\",\"N868US\",\"N869<0xE4E2>\",\"N869AA\",\"N869US\",\"N87\",\"N873AA\",\"N877AA\",\"N878AA\",\"N880<0xE4E2>\",\"N880AA\",\"N880US\",\"N881<0xE4E2>\",\"N881US\",\"N882<0xE4E2>\",\"N882US\",\"N883<0xE4E2>\",\"N883US\",\"N884<0xE4E2>\",\"N884US\",\"N885<0xE4E2>\",\"N885AA\",\"N885US\",\"N886<0xE4E2>\",\"N886US\",\"N8873Z\",\"N8875Z\",\"N887<0xE4E2>\",\"N887US\",\"N8882Z\",\"N8889Z\",\"N888A<0xE4>\",\"N888AU\",\"N8891Z\",\"N889<0xE4E2>\",\"N889US\",\"N89\",\"N890<0xE4E2>\",\"N890AA\",\"N890US\",\"N891<0xE4E2>\",\"N891AA\",\"N891US\",\"N892<0xE4E2>\",\"N892AA\",\"N892US\",\"N893<0xE4E2>\",\"N893AA\",\"N893US\",\"N894<0xE4E2>\",\"N894AA\",\"N894US\",\"N895<0xE4E2>\",\"N895AA\",\"N895US\",\"N896<0xE4E2>\",\"N896AA\",\"N896US\",\"N897<0xE4E2>\",\"N897AA\",\"N897US\",\"N898<0xE4E2>\",\"N898AA\",\"N898US\",\"N899<0xE4E2>\",\"N899AA\",\"N899US\",\"N90\",\"N9003U\",\"N9007U\",\"N9009U\",\"N900DE\",\"N900PC\",\"N900WN\",\"N9010U\",\"N9013U\",\"N901AW\",\"N901DL\",\"N901TW\",\"N901UA\",\"N901WN\",\"N9022U\",\"N9024U\",\"N9027U\",\"N902AW\",\"N902DL\",\"N902TW\",\"N902UA\",\"N902WN\",\"N9030U\",\"N9032U\",\"N9039U\",\"N903AW\",\"N903DE\",\"N903TW\",\"N903UA\",\"N9040U\",\"N904AW\",\"N904DE\",\"N904TW\",\"N904UA\",\"N9051U\",\"N9053U\",\"N905AW\",\"N905DE\",\"N905DL\",\"N905TW\",\"N905UA\",\"N9060U\",\"N9063U\",\"N9065U\",\"N9067U\",\"N9068U\",\"N9069U\",\"N906AW\",\"N906DL\",\"N906TW\",\"N906UA\",\"N9072U\",\"N907AW\",\"N907TW\",\"N907UA\",\"N908AW\",\"N908DE\",\"N908DL\",\"N908TW\",\"N908UA\",\"N909AW\",\"N909DE\",\"N909TW\",\"N909UA\",\"N91\",\"N910AW\",\"N910DE\",\"N910DL\",\"N910UA\",\"N911DE\",\"N911DL\",\"N911TW\",\"N911UA\",\"N912DE\",\"N912TW\",\"N912UA\",\"N912VJ\",\"N913AW\",\"N913DE\",\"N913DL\",\"N913TW\",\"N913UA\",\"N913VJ\",\"N914AW\",\"N914DE\",\"N914DL\",\"N914TW\",\"N914UA\",\"N914VJ\",\"N915AW\",\"N915DE\",\"N915DL\",\"N915TW\",\"N915UA\",\"N916AW\",\"N916DE\",\"N916DL\",\"N916TW\",\"N916UA\",\"N916VJ\",\"N917DE\",\"N917DL\",\"N917TW\",\"N917UA\",\"N918DE\",\"N918DL\",\"N918TW\",\"N918UA\",\"N918VJ\",\"N919DE\",\"N919DL\",\"N919TW\",\"N919UA\",\"N919VJ\",\"N92\",\"N920DL\",\"N920TW\",\"N920UA\",\"N920VJ\",\"N921DL\",\"N921L\",\"N921UA\",\"N921VJ\",\"N922L\",\"N922TW\",\"N922UA\",\"N922VJ\",\"N923DL\",\"N923L\",\"N923TW\",\"N923UA\",\"N923VJ\",\"N924DL\",\"N924UA\",\"N924VJ\",\"N925DL\",\"N925L\",\"N925TW\",\"N925UA\",\"N925VJ\",\"N926TW\",\"N926UA\",\"N926VJ\",\"N927DA\",\"N927L\",\"N927TW\",\"N927UA\",\"N927VJ\",\"N928DL\",\"N928L\",\"N928TW\",\"N928UA\",\"N928VJ\",\"N929DL\",\"N929L\",\"N929TW\",\"N929UA\",\"N929VJ\",\"N93\",\"N9302B\",\"N9303K\",\"N9304C\",\"N9305N\",\"N9306T\",\"N9307R\",\"N930DL\",\"N930UA\",\"N930VJ\",\"N931DL\",\"N931L\",\"N931UA\",\"N931VJ\",\"N932DL\",\"N932UA\",\"N932VJ\",\"N933L\",\"N933UA\",\"N933VJ\",\"N934L\",\"N934UA\",\"N934VJ\",\"N935DL\",\"N935UA\",\"N935VJ\",\"N936DL\",\"N936L\",\"N936UA\",\"N936VJ\",\"N937DL\",\"N937F\",\"N937UA\",\"N937VJ\",\"N938DL\",\"N938UA\",\"N938VJ\",\"N939DL\",\"N939UA\",\"N939VJ\",\"N94\",\"N9401W\",\"N9402W\",\"N9403W\",\"N9404V\",\"N9405T\",\"N9406W\",\"N9407R\",\"N9409F\",\"N940AS\",\"N940DL\",\"N940UA\",\"N9412W\",\"N9413T\",\"N9414W\",\"N941DL\",\"N941UA\",\"N9420D\",\"N942DL\",\"N942UA\",\"N942VJ\",\"N94314\",\"N943DL\",\"N943UA\",\"N943VJ\",\"N944DL\",\"N944UA\",\"N945UA\",\"N945VJ\",\"N946UA\",\"N947DL\",\"N947UA\",\"N948DL\",\"N948UA\",\"N949DL\",\"N949UA\",\"N95\",\"N950DL\",\"N950UA\",\"N951DL\",\"N951U\",\"N951UA\",\"N951VJ\",\"N952DL\",\"N952U\",\"N952UA\",\"N952VJ\",\"N953DL\",\"N953U\",\"N953UA\",\"N953VJ\",\"N954DL\",\"N954U\",\"N954UA\",\"N955DL\",\"N955U\",\"N955UA\",\"N955VJ\",\"N956DL\",\"N956U\",\"N956UA\",\"N957DL\",\"N957U\",\"N957UA\",\"N958DL\",\"N958U\",\"N958VJ\",\"N959DL\",\"N959U\",\"N959VJ\",\"N96\",\"N960TW\",\"N960VJ\",\"N9615W\",\"N9617R\",\"N9618A\",\"N9619V\",\"N9620D\",\"N9622A\",\"N9624T\",\"N9626F\",\"N9627R\",\"N962DL\",\"N9630A\",\"N963DL\",\"N963VJ\",\"N964DL\",\"N965DL\",\"N965VJ\",\"N966DL\",\"N966VJ\",\"N967DL\",\"N967VJ\",\"N968DL\",\"N968VJ\",\"N969DL\",\"N969VJ\",\"N970DL\",\"N970VJ\",\"N971VJ\",\"N972VJ\",\"N973DL\",\"N973VJ\",\"N974DL\",\"N974UA\",\"N974VJ\",\"N975DL\",\"N975VJ\",\"N976DL\",\"N976VJ\",\"N976Z\",\"N977DL\",\"N977UA\",\"N977VJ\",\"N978AS\",\"N978DL\",\"N978UA\",\"N978VJ\",\"N978Z\",\"N979DL\",\"N979UA\",\"N979VJ\",\"N979Z\",\"N980UA\",\"N980VJ\",\"N980Z\",\"N981DL\",\"N981UA\",\"N981US\",\"N981Z\",\"N982DL\",\"N982PS\",\"N982UA\",\"N982VJ\",\"N983DL\",\"N983UA\",\"N983VJ\",\"N983Z\",\"N984DL\",\"N984UA\",\"N984VJ\",\"N984Z\",\"N985DL\",\"N985VJ\",\"N985Z\",\"N986DL\",\"N987UA\",\"N987VJ\",\"N988DL\",\"N989DL\",\"N989UA\",\"N989VJ\",\"N989Z\",\"N990DL\",\"N990Z\",\"N991DL\",\"N991VJ\",\"N991Z\",\"N992DL\",\"N992Z\",\"N993DL\",\"N993UA\",\"N993VJ\",\"N994DL\",\"N994UA\",\"N995DL\",\"N995UA\",\"N995VJ\",\"N996DL\",\"N996VJ\",\"N996Z\",\"N997DL\",\"N997UA\",\"N997VJ\",\"N998DL\",\"N998UA\",\"N999DN\",\"NA\",\"UNKNOW\" \n"
     ]
    },
    {
     "name": "stdout",
     "output_type": "stream",
     "text": [
      "$ ActualElapsedTime :  num 91 94 97 78 93 80 84 91 84 82\n",
      "$ CRSElapsedTime    :  num 79 79 79 79 79 79 79 79 79 79\n",
      "$ AirTime           :  num nan nan nan nan nan nan nan nan nan nan\n",
      "$ ArrDelay          :  num 23 14 29 -2 33 -1 3 13 19 2\n",
      "$ DepDelay          :  num 11 -1 11 -1 19 -2 -2 1 14 -1\n",
      "$ Origin            :  Factor w/ 132 level(s) \"ABE\",\"ABQ\",\"ACY\",\"ALB\",\"AMA\",\"ANC\",\"ATL\",\"AUS\",\"AVP\",\"BDL\",\"BGM\",\"BHM\",\"BIL\",\"BNA\",\"BOI\",\"BOS\",\"BTV\",\"BUF\",\"BUR\",\"BWI\",\"CAE\",\"CHO\",\"CHS\",\"CLE\",\"CLT\",\"CMH\",\"COS\",\"CRP\",\"CRW\",\"CVG\",\"DAL\",\"DAY\",\"DCA\",\"DEN\",\"DFW\",\"DSM\",\"DTW\",\"EGE\",\"ELP\",\"ERI\",\"EWR\",\"EYW\",\"FLL\",\"GEG\",\"GNV\",\"GRR\",\"GSO\",\"HNL\",\"HOU\",\"HPN\",\"HRL\",\"IAD\",\"IAH\",\"ICT\",\"IND\",\"ISP\",\"JAN\",\"JAX\",\"JFK\",\"KOA\",\"LAN\",\"LAS\",\"LAX\",\"LBB\",\"LEX\",\"LGA\",\"LIH\",\"LIT\",\"LYH\",\"MAF\",\"MCI\",\"MCO\",\"MDT\",\"MDW\",\"MEM\",\"MFR\",\"MHT\",\"MIA\",\"MKE\",\"MLB\",\"MRY\",\"MSP\",\"MSY\",\"MYR\",\"OAK\",\"OGG\",\"OKC\",\"OMA\",\"ONT\",\"ORD\",\"ORF\",\"PBI\",\"PDX\",\"PHF\",\"PHL\",\"PHX\",\"PIT\",\"PSP\",\"PVD\",\"PWM\",\"RDU\",\"RIC\",\"RNO\",\"ROA\",\"ROC\",\"RSW\",\"SAN\",\"SAT\",\"SAV\",\"SBN\",\"SCK\",\"SDF\",\"SEA\",\"SFO\",\"SJC\",\"SJU\",\"SLC\",\"SMF\",\"SNA\",\"SRQ\",\"STL\",\"STT\",\"STX\",\"SWF\",\"SYR\",\"TLH\",\"TPA\",\"TRI\",\"TUL\",\"TUS\",\"TYS\",\"UCA\" \n",
      "$ Dest              :  Factor w/ 134 level(s) \"ABE\",\"ABQ\",\"ACY\",\"ALB\",\"AMA\",\"ANC\",\"ATL\",\"AUS\",\"AVL\",\"AVP\",\"BDL\",\"BGM\",\"BHM\",\"BNA\",\"BOI\",\"BOS\",\"BTV\",\"BUF\",\"BUR\",\"BWI\",\"CAE\",\"CAK\",\"CHA\",\"CHO\",\"CHS\",\"CLE\",\"CLT\",\"CMH\",\"COS\",\"CRP\",\"CVG\",\"DAL\",\"DAY\",\"DCA\",\"DEN\",\"DFW\",\"DSM\",\"DTW\",\"ELM\",\"ELP\",\"ERI\",\"EUG\",\"EWR\",\"EYW\",\"FAT\",\"FAY\",\"FLL\",\"FNT\",\"GEG\",\"GRR\",\"GSO\",\"GSP\",\"HNL\",\"HOU\",\"HPN\",\"HRL\",\"HTS\",\"IAD\",\"IAH\",\"ICT\",\"ILM\",\"IND\",\"ISP\",\"JAN\",\"JAX\",\"JFK\",\"KOA\",\"LAS\",\"LAX\",\"LBB\",\"LEX\",\"LGA\",\"LIH\",\"LIT\",\"LYH\",\"MAF\",\"MCI\",\"MCO\",\"MDT\",\"MDW\",\"MHT\",\"MIA\",\"MKE\",\"MRY\",\"MSP\",\"MSY\",\"MYR\",\"OAJ\",\"OAK\",\"OGG\",\"OKC\",\"OMA\",\"ONT\",\"ORD\",\"ORF\",\"ORH\",\"PBI\",\"PDX\",\"PHF\",\"PHL\",\"PHX\",\"PIT\",\"PNS\",\"PSP\",\"PVD\",\"PWM\",\"RDU\",\"RIC\",\"RNO\",\"ROA\",\"ROC\",\"RSW\",\"SAN\",\"SAT\",\"SBN\",\"SCK\",\"SDF\",\"SEA\",\"SFO\",\"SJC\",\"SJU\",\"SLC\",\"SMF\",\"SNA\",\"SRQ\",\"STL\",\"STT\",\"SWF\",\"SYR\",\"TOL\",\"TPA\",\"TUL\",\"TUS\",\"UCA\" \n",
      "$ Distance          :  num 447 447 447 447 447 447 447 447 447 447\n",
      "$ TaxiIn            :  num nan nan nan nan nan nan nan nan nan nan\n",
      "$ TaxiOut           :  num nan nan nan nan nan nan nan nan nan nan\n",
      "$ Cancelled         :  num 0 0 0 0 0 0 0 0 0 0\n",
      "$ CancellationCode  :  Factor w/ 4 level(s) \"A\",\"B\",\"C\",\"NA\" \n",
      "$ Diverted          :  num 0 0 0 0 0 0 0 0 0 0\n",
      "$ CarrierDelay      :  num nan nan nan nan nan nan nan nan nan nan\n",
      "$ WeatherDelay      :  num nan nan nan nan nan nan nan nan nan nan\n",
      "$ NASDelay          :  num nan nan nan nan nan nan nan nan nan nan\n",
      "$ SecurityDelay     :  num nan nan nan nan nan nan nan nan nan nan\n",
      "$ LateAircraftDelay :  num nan nan nan nan nan nan nan nan nan nan\n",
      "$ IsArrDelayed      :  Factor w/ 2 level(s) \"NO\",\"YES\" \n",
      "$ IsDepDelayed      :  Factor w/ 2 level(s) \"NO\",\"YES\" \n",
      "Rows:43978\n",
      "Cols:31\n",
      "\n",
      "\n"
     ]
    },
    {
     "data": {
      "text/html": [
       "<table>\n",
       "<thead>\n",
       "<tr><th>       </th><th>Year              </th><th>Month             </th><th>DayofMonth        </th><th>DayOfWeek         </th><th>DepTime          </th><th>CRSDepTime        </th><th>ArrTime          </th><th>CRSArrTime        </th><th>UniqueCarrier  </th><th>FlightNum        </th><th>TailNum  </th><th>ActualElapsedTime  </th><th>CRSElapsedTime    </th><th>AirTime           </th><th>ArrDelay          </th><th>DepDelay          </th><th>Origin  </th><th>Dest  </th><th>Distance         </th><th>TaxiIn           </th><th>TaxiOut          </th><th>Cancelled           </th><th>CancellationCode  </th><th>Diverted             </th><th>CarrierDelay     </th><th>WeatherDelay      </th><th>NASDelay          </th><th>SecurityDelay     </th><th>LateAircraftDelay  </th><th>IsArrDelayed  </th><th>IsDepDelayed  </th></tr>\n",
       "</thead>\n",
       "<tbody>\n",
       "<tr><td>type   </td><td>int               </td><td>int               </td><td>int               </td><td>int               </td><td>int              </td><td>int               </td><td>int              </td><td>int               </td><td>enum           </td><td>int              </td><td>enum     </td><td>int                </td><td>int               </td><td>int               </td><td>int               </td><td>int               </td><td>enum    </td><td>enum  </td><td>int              </td><td>int              </td><td>int              </td><td>int                 </td><td>enum              </td><td>int                  </td><td>int              </td><td>int               </td><td>int               </td><td>int               </td><td>int                </td><td>enum          </td><td>enum          </td></tr>\n",
       "<tr><td>mins   </td><td>1987.0            </td><td>1.0               </td><td>1.0               </td><td>1.0               </td><td>1.0              </td><td>0.0               </td><td>1.0              </td><td>0.0               </td><td>               </td><td>1.0              </td><td>         </td><td>16.0               </td><td>17.0              </td><td>14.0              </td><td>-63.0             </td><td>-16.0             </td><td>        </td><td>      </td><td>11.0             </td><td>0.0              </td><td>0.0              </td><td>0.0                 </td><td>                  </td><td>0.0                  </td><td>0.0              </td><td>0.0               </td><td>0.0               </td><td>0.0               </td><td>0.0                </td><td>              </td><td>              </td></tr>\n",
       "<tr><td>mean   </td><td>1997.5000000000068</td><td>1.409090909090916 </td><td>14.601073263904551</td><td>3.8206148528809845</td><td>1345.846661382077</td><td>1313.2228614307262</td><td>1504.634130378886</td><td>1485.2891673109345</td><td>               </td><td>818.8429896766576</td><td>         </td><td>124.8145291354039  </td><td>125.02156260661906</td><td>114.31611109078231</td><td>9.317111936984306 </td><td>10.007390655600112</td><td>        </td><td>      </td><td>730.1821905650557</td><td>5.381368059530588</td><td>14.16863418473208</td><td>0.024694165264450407</td><td>                  </td><td>0.0024785119832643593</td><td>4.047800291055639</td><td>0.2893764692712412</td><td>4.8550319041755365</td><td>0.0170155602821001</td><td>7.620060450016796  </td><td>              </td><td>              </td></tr>\n",
       "<tr><td>maxs   </td><td>2008.0            </td><td>10.0              </td><td>31.0              </td><td>7.0               </td><td>2400.0           </td><td>2359.0            </td><td>2400.0           </td><td>2359.0            </td><td>               </td><td>3949.0           </td><td>         </td><td>475.0              </td><td>437.0             </td><td>402.0             </td><td>475.0             </td><td>473.0             </td><td>        </td><td>      </td><td>3365.0           </td><td>128.0            </td><td>254.0            </td><td>1.0                 </td><td>                  </td><td>1.0                  </td><td>369.0            </td><td>201.0             </td><td>323.0             </td><td>14.0              </td><td>373.0              </td><td>              </td><td>              </td></tr>\n",
       "<tr><td>sigma  </td><td>6.344360901707349 </td><td>1.8747113713439618</td><td>9.175790425861413 </td><td>1.9050131191329014</td><td>465.3408991242322</td><td>476.2511399926005 </td><td>484.3474879035152</td><td>492.75043412270105</td><td>               </td><td>777.4043691636341</td><td>         </td><td>73.97444166059017  </td><td>73.40159463000951 </td><td>69.6363295150612  </td><td>29.840221962414837</td><td>26.438809042916418</td><td>        </td><td>      </td><td>578.4380082304235</td><td>4.201979939864826</td><td>9.905085747204279</td><td>0.15519314135784237 </td><td>                  </td><td>0.049723487218862286 </td><td>16.2057299044842 </td><td>4.416779898734125 </td><td>18.619776221475654</td><td>0.403940182101512 </td><td>23.48756587410621  </td><td>              </td><td>              </td></tr>\n",
       "<tr><td>zeros  </td><td>0                 </td><td>0                 </td><td>0                 </td><td>0                 </td><td>0                </td><td>569               </td><td>0                </td><td>569               </td><td>               </td><td>0                </td><td>         </td><td>0                  </td><td>0                 </td><td>0                 </td><td>1514              </td><td>6393              </td><td>        </td><td>      </td><td>0                </td><td>623              </td><td>557              </td><td>42892               </td><td>                  </td><td>43869                </td><td>7344             </td><td>8840              </td><td>7388              </td><td>8914              </td><td>7140               </td><td>              </td><td>              </td></tr>\n",
       "<tr><td>missing</td><td>0                 </td><td>0                 </td><td>0                 </td><td>0                 </td><td>1086             </td><td>0                 </td><td>1195             </td><td>0                 </td><td>0              </td><td>0                </td><td>32       </td><td>1195               </td><td>13                </td><td>16649             </td><td>1195              </td><td>1086              </td><td>0       </td><td>0     </td><td>35               </td><td>16026            </td><td>16024            </td><td>0                   </td><td>9774              </td><td>0                    </td><td>35045            </td><td>35045             </td><td>35045             </td><td>35045             </td><td>35045              </td><td>0             </td><td>0             </td></tr>\n",
       "<tr><td>0      </td><td>1987.0            </td><td>10.0              </td><td>14.0              </td><td>3.0               </td><td>741.0            </td><td>730.0             </td><td>912.0            </td><td>849.0             </td><td>PS             </td><td>1451.0           </td><td>NA       </td><td>91.0               </td><td>79.0              </td><td>nan               </td><td>23.0              </td><td>11.0              </td><td>SAN     </td><td>SFO   </td><td>447.0            </td><td>nan              </td><td>nan              </td><td>0.0                 </td><td>NA                </td><td>0.0                  </td><td>nan              </td><td>nan               </td><td>nan               </td><td>nan               </td><td>nan                </td><td>YES           </td><td>YES           </td></tr>\n",
       "<tr><td>1      </td><td>1987.0            </td><td>10.0              </td><td>15.0              </td><td>4.0               </td><td>729.0            </td><td>730.0             </td><td>903.0            </td><td>849.0             </td><td>PS             </td><td>1451.0           </td><td>NA       </td><td>94.0               </td><td>79.0              </td><td>nan               </td><td>14.0              </td><td>-1.0              </td><td>SAN     </td><td>SFO   </td><td>447.0            </td><td>nan              </td><td>nan              </td><td>0.0                 </td><td>NA                </td><td>0.0                  </td><td>nan              </td><td>nan               </td><td>nan               </td><td>nan               </td><td>nan                </td><td>YES           </td><td>NO            </td></tr>\n",
       "<tr><td>2      </td><td>1987.0            </td><td>10.0              </td><td>17.0              </td><td>6.0               </td><td>741.0            </td><td>730.0             </td><td>918.0            </td><td>849.0             </td><td>PS             </td><td>1451.0           </td><td>NA       </td><td>97.0               </td><td>79.0              </td><td>nan               </td><td>29.0              </td><td>11.0              </td><td>SAN     </td><td>SFO   </td><td>447.0            </td><td>nan              </td><td>nan              </td><td>0.0                 </td><td>NA                </td><td>0.0                  </td><td>nan              </td><td>nan               </td><td>nan               </td><td>nan               </td><td>nan                </td><td>YES           </td><td>YES           </td></tr>\n",
       "<tr><td>3      </td><td>1987.0            </td><td>10.0              </td><td>18.0              </td><td>7.0               </td><td>729.0            </td><td>730.0             </td><td>847.0            </td><td>849.0             </td><td>PS             </td><td>1451.0           </td><td>NA       </td><td>78.0               </td><td>79.0              </td><td>nan               </td><td>-2.0              </td><td>-1.0              </td><td>SAN     </td><td>SFO   </td><td>447.0            </td><td>nan              </td><td>nan              </td><td>0.0                 </td><td>NA                </td><td>0.0                  </td><td>nan              </td><td>nan               </td><td>nan               </td><td>nan               </td><td>nan                </td><td>NO            </td><td>NO            </td></tr>\n",
       "<tr><td>4      </td><td>1987.0            </td><td>10.0              </td><td>19.0              </td><td>1.0               </td><td>749.0            </td><td>730.0             </td><td>922.0            </td><td>849.0             </td><td>PS             </td><td>1451.0           </td><td>NA       </td><td>93.0               </td><td>79.0              </td><td>nan               </td><td>33.0              </td><td>19.0              </td><td>SAN     </td><td>SFO   </td><td>447.0            </td><td>nan              </td><td>nan              </td><td>0.0                 </td><td>NA                </td><td>0.0                  </td><td>nan              </td><td>nan               </td><td>nan               </td><td>nan               </td><td>nan                </td><td>YES           </td><td>YES           </td></tr>\n",
       "<tr><td>5      </td><td>1987.0            </td><td>10.0              </td><td>21.0              </td><td>3.0               </td><td>728.0            </td><td>730.0             </td><td>848.0            </td><td>849.0             </td><td>PS             </td><td>1451.0           </td><td>NA       </td><td>80.0               </td><td>79.0              </td><td>nan               </td><td>-1.0              </td><td>-2.0              </td><td>SAN     </td><td>SFO   </td><td>447.0            </td><td>nan              </td><td>nan              </td><td>0.0                 </td><td>NA                </td><td>0.0                  </td><td>nan              </td><td>nan               </td><td>nan               </td><td>nan               </td><td>nan                </td><td>NO            </td><td>NO            </td></tr>\n",
       "<tr><td>6      </td><td>1987.0            </td><td>10.0              </td><td>22.0              </td><td>4.0               </td><td>728.0            </td><td>730.0             </td><td>852.0            </td><td>849.0             </td><td>PS             </td><td>1451.0           </td><td>NA       </td><td>84.0               </td><td>79.0              </td><td>nan               </td><td>3.0               </td><td>-2.0              </td><td>SAN     </td><td>SFO   </td><td>447.0            </td><td>nan              </td><td>nan              </td><td>0.0                 </td><td>NA                </td><td>0.0                  </td><td>nan              </td><td>nan               </td><td>nan               </td><td>nan               </td><td>nan                </td><td>YES           </td><td>NO            </td></tr>\n",
       "<tr><td>7      </td><td>1987.0            </td><td>10.0              </td><td>23.0              </td><td>5.0               </td><td>731.0            </td><td>730.0             </td><td>902.0            </td><td>849.0             </td><td>PS             </td><td>1451.0           </td><td>NA       </td><td>91.0               </td><td>79.0              </td><td>nan               </td><td>13.0              </td><td>1.0               </td><td>SAN     </td><td>SFO   </td><td>447.0            </td><td>nan              </td><td>nan              </td><td>0.0                 </td><td>NA                </td><td>0.0                  </td><td>nan              </td><td>nan               </td><td>nan               </td><td>nan               </td><td>nan                </td><td>YES           </td><td>YES           </td></tr>\n",
       "<tr><td>8      </td><td>1987.0            </td><td>10.0              </td><td>24.0              </td><td>6.0               </td><td>744.0            </td><td>730.0             </td><td>908.0            </td><td>849.0             </td><td>PS             </td><td>1451.0           </td><td>NA       </td><td>84.0               </td><td>79.0              </td><td>nan               </td><td>19.0              </td><td>14.0              </td><td>SAN     </td><td>SFO   </td><td>447.0            </td><td>nan              </td><td>nan              </td><td>0.0                 </td><td>NA                </td><td>0.0                  </td><td>nan              </td><td>nan               </td><td>nan               </td><td>nan               </td><td>nan                </td><td>YES           </td><td>YES           </td></tr>\n",
       "<tr><td>9      </td><td>1987.0            </td><td>10.0              </td><td>25.0              </td><td>7.0               </td><td>729.0            </td><td>730.0             </td><td>851.0            </td><td>849.0             </td><td>PS             </td><td>1451.0           </td><td>NA       </td><td>82.0               </td><td>79.0              </td><td>nan               </td><td>2.0               </td><td>-1.0              </td><td>SAN     </td><td>SFO   </td><td>447.0            </td><td>nan              </td><td>nan              </td><td>0.0                 </td><td>NA                </td><td>0.0                  </td><td>nan              </td><td>nan               </td><td>nan               </td><td>nan               </td><td>nan                </td><td>YES           </td><td>NO            </td></tr>\n",
       "</tbody>\n",
       "</table>"
      ]
     },
     "metadata": {},
     "output_type": "display_data"
    },
    {
     "data": {
      "text/html": [
       "<table>\n",
       "<thead>\n",
       "<tr><th>       </th><th>Year              </th><th>Month             </th><th>DayofMonth        </th><th>DayOfWeek         </th><th>DepTime          </th><th>CRSDepTime        </th><th>ArrTime          </th><th>CRSArrTime        </th><th>UniqueCarrier  </th><th>FlightNum        </th><th>TailNum  </th><th>ActualElapsedTime  </th><th>CRSElapsedTime    </th><th>AirTime           </th><th>ArrDelay          </th><th>DepDelay          </th><th>Origin  </th><th>Dest  </th><th>Distance         </th><th>TaxiIn           </th><th>TaxiOut          </th><th>Cancelled           </th><th>CancellationCode  </th><th>Diverted             </th><th>CarrierDelay     </th><th>WeatherDelay      </th><th>NASDelay          </th><th>SecurityDelay     </th><th>LateAircraftDelay  </th><th>IsArrDelayed  </th><th>IsDepDelayed  </th></tr>\n",
       "</thead>\n",
       "<tbody>\n",
       "<tr><td>type   </td><td>int               </td><td>int               </td><td>int               </td><td>int               </td><td>int              </td><td>int               </td><td>int              </td><td>int               </td><td>enum           </td><td>int              </td><td>enum     </td><td>int                </td><td>int               </td><td>int               </td><td>int               </td><td>int               </td><td>enum    </td><td>enum  </td><td>int              </td><td>int              </td><td>int              </td><td>int                 </td><td>enum              </td><td>int                  </td><td>int              </td><td>int               </td><td>int               </td><td>int               </td><td>int                </td><td>enum          </td><td>enum          </td></tr>\n",
       "<tr><td>mins   </td><td>1987.0            </td><td>1.0               </td><td>1.0               </td><td>1.0               </td><td>1.0              </td><td>0.0               </td><td>1.0              </td><td>0.0               </td><td>               </td><td>1.0              </td><td>         </td><td>16.0               </td><td>17.0              </td><td>14.0              </td><td>-63.0             </td><td>-16.0             </td><td>        </td><td>      </td><td>11.0             </td><td>0.0              </td><td>0.0              </td><td>0.0                 </td><td>                  </td><td>0.0                  </td><td>0.0              </td><td>0.0               </td><td>0.0               </td><td>0.0               </td><td>0.0                </td><td>              </td><td>              </td></tr>\n",
       "<tr><td>mean   </td><td>1997.5000000000068</td><td>1.409090909090916 </td><td>14.601073263904551</td><td>3.8206148528809845</td><td>1345.846661382077</td><td>1313.2228614307262</td><td>1504.634130378886</td><td>1485.2891673109345</td><td>               </td><td>818.8429896766576</td><td>         </td><td>124.8145291354039  </td><td>125.02156260661906</td><td>114.31611109078231</td><td>9.317111936984306 </td><td>10.007390655600112</td><td>        </td><td>      </td><td>730.1821905650557</td><td>5.381368059530588</td><td>14.16863418473208</td><td>0.024694165264450407</td><td>                  </td><td>0.0024785119832643593</td><td>4.047800291055639</td><td>0.2893764692712412</td><td>4.8550319041755365</td><td>0.0170155602821001</td><td>7.620060450016796  </td><td>              </td><td>              </td></tr>\n",
       "<tr><td>maxs   </td><td>2008.0            </td><td>10.0              </td><td>31.0              </td><td>7.0               </td><td>2400.0           </td><td>2359.0            </td><td>2400.0           </td><td>2359.0            </td><td>               </td><td>3949.0           </td><td>         </td><td>475.0              </td><td>437.0             </td><td>402.0             </td><td>475.0             </td><td>473.0             </td><td>        </td><td>      </td><td>3365.0           </td><td>128.0            </td><td>254.0            </td><td>1.0                 </td><td>                  </td><td>1.0                  </td><td>369.0            </td><td>201.0             </td><td>323.0             </td><td>14.0              </td><td>373.0              </td><td>              </td><td>              </td></tr>\n",
       "<tr><td>sigma  </td><td>6.344360901707349 </td><td>1.8747113713439618</td><td>9.175790425861413 </td><td>1.9050131191329014</td><td>465.3408991242322</td><td>476.2511399926005 </td><td>484.3474879035152</td><td>492.75043412270105</td><td>               </td><td>777.4043691636341</td><td>         </td><td>73.97444166059017  </td><td>73.40159463000951 </td><td>69.6363295150612  </td><td>29.840221962414837</td><td>26.438809042916418</td><td>        </td><td>      </td><td>578.4380082304235</td><td>4.201979939864826</td><td>9.905085747204279</td><td>0.15519314135784237 </td><td>                  </td><td>0.049723487218862286 </td><td>16.2057299044842 </td><td>4.416779898734125 </td><td>18.619776221475654</td><td>0.403940182101512 </td><td>23.48756587410621  </td><td>              </td><td>              </td></tr>\n",
       "<tr><td>zeros  </td><td>0                 </td><td>0                 </td><td>0                 </td><td>0                 </td><td>0                </td><td>569               </td><td>0                </td><td>569               </td><td>               </td><td>0                </td><td>         </td><td>0                  </td><td>0                 </td><td>0                 </td><td>1514              </td><td>6393              </td><td>        </td><td>      </td><td>0                </td><td>623              </td><td>557              </td><td>42892               </td><td>                  </td><td>43869                </td><td>7344             </td><td>8840              </td><td>7388              </td><td>8914              </td><td>7140               </td><td>              </td><td>              </td></tr>\n",
       "<tr><td>missing</td><td>0                 </td><td>0                 </td><td>0                 </td><td>0                 </td><td>1086             </td><td>0                 </td><td>1195             </td><td>0                 </td><td>0              </td><td>0                </td><td>32       </td><td>1195               </td><td>13                </td><td>16649             </td><td>1195              </td><td>1086              </td><td>0       </td><td>0     </td><td>35               </td><td>16026            </td><td>16024            </td><td>0                   </td><td>9774              </td><td>0                    </td><td>35045            </td><td>35045             </td><td>35045             </td><td>35045             </td><td>35045              </td><td>0             </td><td>0             </td></tr>\n",
       "<tr><td>0      </td><td>1987.0            </td><td>10.0              </td><td>14.0              </td><td>3.0               </td><td>741.0            </td><td>730.0             </td><td>912.0            </td><td>849.0             </td><td>PS             </td><td>1451.0           </td><td>NA       </td><td>91.0               </td><td>79.0              </td><td>nan               </td><td>23.0              </td><td>11.0              </td><td>SAN     </td><td>SFO   </td><td>447.0            </td><td>nan              </td><td>nan              </td><td>0.0                 </td><td>NA                </td><td>0.0                  </td><td>nan              </td><td>nan               </td><td>nan               </td><td>nan               </td><td>nan                </td><td>YES           </td><td>YES           </td></tr>\n",
       "<tr><td>1      </td><td>1987.0            </td><td>10.0              </td><td>15.0              </td><td>4.0               </td><td>729.0            </td><td>730.0             </td><td>903.0            </td><td>849.0             </td><td>PS             </td><td>1451.0           </td><td>NA       </td><td>94.0               </td><td>79.0              </td><td>nan               </td><td>14.0              </td><td>-1.0              </td><td>SAN     </td><td>SFO   </td><td>447.0            </td><td>nan              </td><td>nan              </td><td>0.0                 </td><td>NA                </td><td>0.0                  </td><td>nan              </td><td>nan               </td><td>nan               </td><td>nan               </td><td>nan                </td><td>YES           </td><td>NO            </td></tr>\n",
       "<tr><td>2      </td><td>1987.0            </td><td>10.0              </td><td>17.0              </td><td>6.0               </td><td>741.0            </td><td>730.0             </td><td>918.0            </td><td>849.0             </td><td>PS             </td><td>1451.0           </td><td>NA       </td><td>97.0               </td><td>79.0              </td><td>nan               </td><td>29.0              </td><td>11.0              </td><td>SAN     </td><td>SFO   </td><td>447.0            </td><td>nan              </td><td>nan              </td><td>0.0                 </td><td>NA                </td><td>0.0                  </td><td>nan              </td><td>nan               </td><td>nan               </td><td>nan               </td><td>nan                </td><td>YES           </td><td>YES           </td></tr>\n",
       "<tr><td>3      </td><td>1987.0            </td><td>10.0              </td><td>18.0              </td><td>7.0               </td><td>729.0            </td><td>730.0             </td><td>847.0            </td><td>849.0             </td><td>PS             </td><td>1451.0           </td><td>NA       </td><td>78.0               </td><td>79.0              </td><td>nan               </td><td>-2.0              </td><td>-1.0              </td><td>SAN     </td><td>SFO   </td><td>447.0            </td><td>nan              </td><td>nan              </td><td>0.0                 </td><td>NA                </td><td>0.0                  </td><td>nan              </td><td>nan               </td><td>nan               </td><td>nan               </td><td>nan                </td><td>NO            </td><td>NO            </td></tr>\n",
       "<tr><td>4      </td><td>1987.0            </td><td>10.0              </td><td>19.0              </td><td>1.0               </td><td>749.0            </td><td>730.0             </td><td>922.0            </td><td>849.0             </td><td>PS             </td><td>1451.0           </td><td>NA       </td><td>93.0               </td><td>79.0              </td><td>nan               </td><td>33.0              </td><td>19.0              </td><td>SAN     </td><td>SFO   </td><td>447.0            </td><td>nan              </td><td>nan              </td><td>0.0                 </td><td>NA                </td><td>0.0                  </td><td>nan              </td><td>nan               </td><td>nan               </td><td>nan               </td><td>nan                </td><td>YES           </td><td>YES           </td></tr>\n",
       "<tr><td>5      </td><td>1987.0            </td><td>10.0              </td><td>21.0              </td><td>3.0               </td><td>728.0            </td><td>730.0             </td><td>848.0            </td><td>849.0             </td><td>PS             </td><td>1451.0           </td><td>NA       </td><td>80.0               </td><td>79.0              </td><td>nan               </td><td>-1.0              </td><td>-2.0              </td><td>SAN     </td><td>SFO   </td><td>447.0            </td><td>nan              </td><td>nan              </td><td>0.0                 </td><td>NA                </td><td>0.0                  </td><td>nan              </td><td>nan               </td><td>nan               </td><td>nan               </td><td>nan                </td><td>NO            </td><td>NO            </td></tr>\n",
       "<tr><td>6      </td><td>1987.0            </td><td>10.0              </td><td>22.0              </td><td>4.0               </td><td>728.0            </td><td>730.0             </td><td>852.0            </td><td>849.0             </td><td>PS             </td><td>1451.0           </td><td>NA       </td><td>84.0               </td><td>79.0              </td><td>nan               </td><td>3.0               </td><td>-2.0              </td><td>SAN     </td><td>SFO   </td><td>447.0            </td><td>nan              </td><td>nan              </td><td>0.0                 </td><td>NA                </td><td>0.0                  </td><td>nan              </td><td>nan               </td><td>nan               </td><td>nan               </td><td>nan                </td><td>YES           </td><td>NO            </td></tr>\n",
       "<tr><td>7      </td><td>1987.0            </td><td>10.0              </td><td>23.0              </td><td>5.0               </td><td>731.0            </td><td>730.0             </td><td>902.0            </td><td>849.0             </td><td>PS             </td><td>1451.0           </td><td>NA       </td><td>91.0               </td><td>79.0              </td><td>nan               </td><td>13.0              </td><td>1.0               </td><td>SAN     </td><td>SFO   </td><td>447.0            </td><td>nan              </td><td>nan              </td><td>0.0                 </td><td>NA                </td><td>0.0                  </td><td>nan              </td><td>nan               </td><td>nan               </td><td>nan               </td><td>nan                </td><td>YES           </td><td>YES           </td></tr>\n",
       "<tr><td>8      </td><td>1987.0            </td><td>10.0              </td><td>24.0              </td><td>6.0               </td><td>744.0            </td><td>730.0             </td><td>908.0            </td><td>849.0             </td><td>PS             </td><td>1451.0           </td><td>NA       </td><td>84.0               </td><td>79.0              </td><td>nan               </td><td>19.0              </td><td>14.0              </td><td>SAN     </td><td>SFO   </td><td>447.0            </td><td>nan              </td><td>nan              </td><td>0.0                 </td><td>NA                </td><td>0.0                  </td><td>nan              </td><td>nan               </td><td>nan               </td><td>nan               </td><td>nan                </td><td>YES           </td><td>YES           </td></tr>\n",
       "<tr><td>9      </td><td>1987.0            </td><td>10.0              </td><td>25.0              </td><td>7.0               </td><td>729.0            </td><td>730.0             </td><td>851.0            </td><td>849.0             </td><td>PS             </td><td>1451.0           </td><td>NA       </td><td>82.0               </td><td>79.0              </td><td>nan               </td><td>2.0               </td><td>-1.0              </td><td>SAN     </td><td>SFO   </td><td>447.0            </td><td>nan              </td><td>nan              </td><td>0.0                 </td><td>NA                </td><td>0.0                  </td><td>nan              </td><td>nan               </td><td>nan               </td><td>nan               </td><td>nan                </td><td>YES           </td><td>NO            </td></tr>\n",
       "</tbody>\n",
       "</table>"
      ]
     },
     "metadata": {},
     "output_type": "display_data"
    }
   ],
   "source": [
    "type(airlines)\n",
    "# 4.1 Data explore\n",
    "airlines.head(4)\n",
    "\n",
    "# 4.1.1\n",
    "airlines.col_names\n",
    "airlines.columns      # Same as above\n",
    "\n",
    "# 4.1.2\n",
    "airlines.shape        # (43978, 31)\n",
    "\n",
    "# 4.1.3\n",
    "airlines.structure()\n",
    "airlines.describe()\n",
    "airlines.summary()    # Same as describe()"
   ]
  },
  {
   "cell_type": "code",
   "execution_count": 14,
   "metadata": {},
   "outputs": [
    {
     "data": {
      "text/plain": [
       "['Year',\n",
       " 'Month',\n",
       " 'DayofMonth',\n",
       " 'DayOfWeek',\n",
       " 'DepTime',\n",
       " 'CRSDepTime',\n",
       " 'ArrTime',\n",
       " 'CRSArrTime',\n",
       " 'UniqueCarrier',\n",
       " 'FlightNum',\n",
       " 'TailNum',\n",
       " 'ActualElapsedTime',\n",
       " 'CRSElapsedTime',\n",
       " 'AirTime',\n",
       " 'ArrDelay',\n",
       " 'DepDelay',\n",
       " 'Origin',\n",
       " 'Dest',\n",
       " 'Distance',\n",
       " 'TaxiIn',\n",
       " 'TaxiOut',\n",
       " 'Cancelled',\n",
       " 'CancellationCode',\n",
       " 'Diverted',\n",
       " 'CarrierDelay',\n",
       " 'WeatherDelay',\n",
       " 'NASDelay',\n",
       " 'SecurityDelay',\n",
       " 'LateAircraftDelay',\n",
       " 'IsArrDelayed',\n",
       " 'IsDepDelayed',\n",
       " 'AD',\n",
       " 'CD']"
      ]
     },
     "execution_count": 14,
     "metadata": {},
     "output_type": "execute_result"
    },
    {
     "data": {
      "text/html": [
       "<table>\n",
       "<thead>\n",
       "<tr><th style=\"text-align: right;\">  Year</th><th style=\"text-align: right;\">  Month</th><th style=\"text-align: right;\">  DayofMonth</th><th style=\"text-align: right;\">  DayOfWeek</th><th style=\"text-align: right;\">  DepTime</th><th style=\"text-align: right;\">  CRSDepTime</th><th style=\"text-align: right;\">  ArrTime</th><th style=\"text-align: right;\">  CRSArrTime</th><th>UniqueCarrier  </th><th style=\"text-align: right;\">  FlightNum</th><th>TailNum  </th><th style=\"text-align: right;\">  ActualElapsedTime</th><th style=\"text-align: right;\">  CRSElapsedTime</th><th style=\"text-align: right;\">  AirTime</th><th style=\"text-align: right;\">  ArrDelay</th><th style=\"text-align: right;\">  DepDelay</th><th>Origin  </th><th>Dest  </th><th style=\"text-align: right;\">  Distance</th><th style=\"text-align: right;\">  TaxiIn</th><th style=\"text-align: right;\">  TaxiOut</th><th style=\"text-align: right;\">  Cancelled</th><th>CancellationCode  </th><th style=\"text-align: right;\">  Diverted</th><th style=\"text-align: right;\">  CarrierDelay</th><th style=\"text-align: right;\">  WeatherDelay</th><th style=\"text-align: right;\">  NASDelay</th><th style=\"text-align: right;\">  SecurityDelay</th><th style=\"text-align: right;\">  LateAircraftDelay</th><th>IsArrDelayed  </th><th>IsDepDelayed  </th></tr>\n",
       "</thead>\n",
       "<tbody>\n",
       "<tr><td style=\"text-align: right;\">  1987</td><td style=\"text-align: right;\">     10</td><td style=\"text-align: right;\">          14</td><td style=\"text-align: right;\">          3</td><td style=\"text-align: right;\">      741</td><td style=\"text-align: right;\">         730</td><td style=\"text-align: right;\">      912</td><td style=\"text-align: right;\">         849</td><td>PS             </td><td style=\"text-align: right;\">       1451</td><td>NA       </td><td style=\"text-align: right;\">                 91</td><td style=\"text-align: right;\">              79</td><td style=\"text-align: right;\">      nan</td><td style=\"text-align: right;\">        23</td><td style=\"text-align: right;\">        11</td><td>SAN     </td><td>SFO   </td><td style=\"text-align: right;\">       447</td><td style=\"text-align: right;\">     nan</td><td style=\"text-align: right;\">      nan</td><td style=\"text-align: right;\">          0</td><td>NA                </td><td style=\"text-align: right;\">         0</td><td style=\"text-align: right;\">           nan</td><td style=\"text-align: right;\">           nan</td><td style=\"text-align: right;\">       nan</td><td style=\"text-align: right;\">            nan</td><td style=\"text-align: right;\">                nan</td><td>YES           </td><td>YES           </td></tr>\n",
       "<tr><td style=\"text-align: right;\">  1987</td><td style=\"text-align: right;\">     10</td><td style=\"text-align: right;\">          15</td><td style=\"text-align: right;\">          4</td><td style=\"text-align: right;\">      729</td><td style=\"text-align: right;\">         730</td><td style=\"text-align: right;\">      903</td><td style=\"text-align: right;\">         849</td><td>PS             </td><td style=\"text-align: right;\">       1451</td><td>NA       </td><td style=\"text-align: right;\">                 94</td><td style=\"text-align: right;\">              79</td><td style=\"text-align: right;\">      nan</td><td style=\"text-align: right;\">        14</td><td style=\"text-align: right;\">        -1</td><td>SAN     </td><td>SFO   </td><td style=\"text-align: right;\">       447</td><td style=\"text-align: right;\">     nan</td><td style=\"text-align: right;\">      nan</td><td style=\"text-align: right;\">          0</td><td>NA                </td><td style=\"text-align: right;\">         0</td><td style=\"text-align: right;\">           nan</td><td style=\"text-align: right;\">           nan</td><td style=\"text-align: right;\">       nan</td><td style=\"text-align: right;\">            nan</td><td style=\"text-align: right;\">                nan</td><td>YES           </td><td>NO            </td></tr>\n",
       "<tr><td style=\"text-align: right;\">  1987</td><td style=\"text-align: right;\">     10</td><td style=\"text-align: right;\">          17</td><td style=\"text-align: right;\">          6</td><td style=\"text-align: right;\">      741</td><td style=\"text-align: right;\">         730</td><td style=\"text-align: right;\">      918</td><td style=\"text-align: right;\">         849</td><td>PS             </td><td style=\"text-align: right;\">       1451</td><td>NA       </td><td style=\"text-align: right;\">                 97</td><td style=\"text-align: right;\">              79</td><td style=\"text-align: right;\">      nan</td><td style=\"text-align: right;\">        29</td><td style=\"text-align: right;\">        11</td><td>SAN     </td><td>SFO   </td><td style=\"text-align: right;\">       447</td><td style=\"text-align: right;\">     nan</td><td style=\"text-align: right;\">      nan</td><td style=\"text-align: right;\">          0</td><td>NA                </td><td style=\"text-align: right;\">         0</td><td style=\"text-align: right;\">           nan</td><td style=\"text-align: right;\">           nan</td><td style=\"text-align: right;\">       nan</td><td style=\"text-align: right;\">            nan</td><td style=\"text-align: right;\">                nan</td><td>YES           </td><td>YES           </td></tr>\n",
       "</tbody>\n",
       "</table>"
      ]
     },
     "metadata": {},
     "output_type": "display_data"
    },
    {
     "data": {
      "text/plain": []
     },
     "execution_count": 14,
     "metadata": {},
     "output_type": "execute_result"
    },
    {
     "data": {
      "text/plain": [
       "['Year',\n",
       " 'Month',\n",
       " 'DayofMonth',\n",
       " 'DayOfWeek',\n",
       " 'DepTime',\n",
       " 'CRSDepTime',\n",
       " 'ArrTime',\n",
       " 'CRSArrTime',\n",
       " 'UniqueCarrier',\n",
       " 'FlightNum',\n",
       " 'TailNum',\n",
       " 'ActualElapsedTime',\n",
       " 'CRSElapsedTime',\n",
       " 'AirTime',\n",
       " 'ArrDelay',\n",
       " 'DepDelay',\n",
       " 'Origin',\n",
       " 'Dest',\n",
       " 'Distance',\n",
       " 'TaxiIn',\n",
       " 'TaxiOut',\n",
       " 'Cancelled',\n",
       " 'CancellationCode',\n",
       " 'Diverted',\n",
       " 'CarrierDelay',\n",
       " 'WeatherDelay',\n",
       " 'NASDelay',\n",
       " 'SecurityDelay',\n",
       " 'LateAircraftDelay',\n",
       " 'IsArrDelayed',\n",
       " 'IsDepDelayed']"
      ]
     },
     "execution_count": 14,
     "metadata": {},
     "output_type": "execute_result"
    }
   ],
   "source": [
    "# 4.2 Create/drop columns/rows\n",
    "airlines['AD'] = airlines['ArrDelay'] * airlines['DepDelay']\n",
    "airlines['CD'] = airlines['ArrDelay'] / airlines['DepDelay']\n",
    "\n",
    "# 4.2.1\n",
    "airlines.columns\n",
    "\n",
    "# 4.2.2\n",
    "airlines.drop(['AD','CD'], axis = 1).head(3)     # 'inplace' is not supported\n",
    "airlines = airlines.drop(['AD','CD'], axis = 1)  # Overwrite the earlier DataFrame\n",
    "airlines.columns"
   ]
  },
  {
   "cell_type": "code",
   "execution_count": null,
   "metadata": {},
   "outputs": [],
   "source": [
    "# 4.3 Drop rows with index 1 and 3\n",
    "airlines.head(5)\n",
    "airlines.drop([1,3], axis = 0).head(5)"
   ]
  },
  {
   "cell_type": "code",
   "execution_count": null,
   "metadata": {},
   "outputs": [],
   "source": [
    "# 4.4 To drop rows where DayOfMonth > 23\n",
    "#     See use of Mask below"
   ]
  },
  {
   "cell_type": "markdown",
   "metadata": {},
   "source": [
    "### Data slicing"
   ]
  },
  {
   "cell_type": "code",
   "execution_count": 15,
   "metadata": {},
   "outputs": [
    {
     "data": {
      "text/html": [
       "<table>\n",
       "<thead>\n",
       "<tr><th style=\"text-align: right;\">  Year</th><th style=\"text-align: right;\">  Month</th><th style=\"text-align: right;\">  DayofMonth</th></tr>\n",
       "</thead>\n",
       "<tbody>\n",
       "<tr><td style=\"text-align: right;\">  1987</td><td style=\"text-align: right;\">     10</td><td style=\"text-align: right;\">          14</td></tr>\n",
       "<tr><td style=\"text-align: right;\">  1987</td><td style=\"text-align: right;\">     10</td><td style=\"text-align: right;\">          15</td></tr>\n",
       "<tr><td style=\"text-align: right;\">  1987</td><td style=\"text-align: right;\">     10</td><td style=\"text-align: right;\">          17</td></tr>\n",
       "</tbody>\n",
       "</table>"
      ]
     },
     "metadata": {},
     "output_type": "display_data"
    },
    {
     "data": {
      "text/plain": []
     },
     "execution_count": 15,
     "metadata": {},
     "output_type": "execute_result"
    },
    {
     "data": {
      "text/html": [
       "<table>\n",
       "<thead>\n",
       "<tr><th style=\"text-align: right;\">  Year</th></tr>\n",
       "</thead>\n",
       "<tbody>\n",
       "<tr><td style=\"text-align: right;\">  1987</td></tr>\n",
       "<tr><td style=\"text-align: right;\">  1987</td></tr>\n",
       "<tr><td style=\"text-align: right;\">  1987</td></tr>\n",
       "<tr><td style=\"text-align: right;\">  1987</td></tr>\n",
       "<tr><td style=\"text-align: right;\">  1987</td></tr>\n",
       "<tr><td style=\"text-align: right;\">  1987</td></tr>\n",
       "<tr><td style=\"text-align: right;\">  1987</td></tr>\n",
       "<tr><td style=\"text-align: right;\">  1987</td></tr>\n",
       "<tr><td style=\"text-align: right;\">  1987</td></tr>\n",
       "<tr><td style=\"text-align: right;\">  1987</td></tr>\n",
       "</tbody>\n",
       "</table>"
      ]
     },
     "metadata": {},
     "output_type": "display_data"
    },
    {
     "data": {
      "text/plain": []
     },
     "execution_count": 15,
     "metadata": {},
     "output_type": "execute_result"
    },
    {
     "data": {
      "text/html": [
       "<table>\n",
       "<thead>\n",
       "<tr><th style=\"text-align: right;\">  CRSDepTime</th><th>UniqueCarrier  </th></tr>\n",
       "</thead>\n",
       "<tbody>\n",
       "<tr><td style=\"text-align: right;\">         730</td><td>PS             </td></tr>\n",
       "<tr><td style=\"text-align: right;\">         730</td><td>PS             </td></tr>\n",
       "</tbody>\n",
       "</table>"
      ]
     },
     "metadata": {},
     "output_type": "display_data"
    },
    {
     "data": {
      "text/plain": []
     },
     "execution_count": 15,
     "metadata": {},
     "output_type": "execute_result"
    },
    {
     "data": {
      "text/html": [
       "<table>\n",
       "<thead>\n",
       "<tr><th style=\"text-align: right;\">  Year</th><th style=\"text-align: right;\">  DayofMonth</th></tr>\n",
       "</thead>\n",
       "<tbody>\n",
       "<tr><td style=\"text-align: right;\">  1987</td><td style=\"text-align: right;\">          14</td></tr>\n",
       "<tr><td style=\"text-align: right;\">  1987</td><td style=\"text-align: right;\">          15</td></tr>\n",
       "<tr><td style=\"text-align: right;\">  1987</td><td style=\"text-align: right;\">          17</td></tr>\n",
       "<tr><td style=\"text-align: right;\">  1987</td><td style=\"text-align: right;\">          18</td></tr>\n",
       "<tr><td style=\"text-align: right;\">  1987</td><td style=\"text-align: right;\">          19</td></tr>\n",
       "<tr><td style=\"text-align: right;\">  1987</td><td style=\"text-align: right;\">          21</td></tr>\n",
       "<tr><td style=\"text-align: right;\">  1987</td><td style=\"text-align: right;\">          22</td></tr>\n",
       "<tr><td style=\"text-align: right;\">  1987</td><td style=\"text-align: right;\">          23</td></tr>\n",
       "<tr><td style=\"text-align: right;\">  1987</td><td style=\"text-align: right;\">          24</td></tr>\n",
       "<tr><td style=\"text-align: right;\">  1987</td><td style=\"text-align: right;\">          25</td></tr>\n",
       "</tbody>\n",
       "</table>"
      ]
     },
     "metadata": {},
     "output_type": "display_data"
    },
    {
     "data": {
      "text/plain": []
     },
     "execution_count": 15,
     "metadata": {},
     "output_type": "execute_result"
    },
    {
     "data": {
      "text/html": [
       "<table>\n",
       "<thead>\n",
       "<tr><th style=\"text-align: right;\">  Year</th><th style=\"text-align: right;\">  Month</th><th style=\"text-align: right;\">  DayofMonth</th><th style=\"text-align: right;\">  DayOfWeek</th><th style=\"text-align: right;\">  DepTime</th><th style=\"text-align: right;\">  CRSDepTime</th><th style=\"text-align: right;\">  ArrTime</th><th style=\"text-align: right;\">  CRSArrTime</th><th>UniqueCarrier  </th><th style=\"text-align: right;\">  FlightNum</th><th>TailNum  </th><th style=\"text-align: right;\">  ActualElapsedTime</th><th style=\"text-align: right;\">  CRSElapsedTime</th><th style=\"text-align: right;\">  AirTime</th><th style=\"text-align: right;\">  ArrDelay</th><th style=\"text-align: right;\">  DepDelay</th><th>Origin  </th><th>Dest  </th><th style=\"text-align: right;\">  Distance</th><th style=\"text-align: right;\">  TaxiIn</th><th style=\"text-align: right;\">  TaxiOut</th><th style=\"text-align: right;\">  Cancelled</th><th>CancellationCode  </th><th style=\"text-align: right;\">  Diverted</th><th style=\"text-align: right;\">  CarrierDelay</th><th style=\"text-align: right;\">  WeatherDelay</th><th style=\"text-align: right;\">  NASDelay</th><th style=\"text-align: right;\">  SecurityDelay</th><th style=\"text-align: right;\">  LateAircraftDelay</th><th>IsArrDelayed  </th><th>IsDepDelayed  </th></tr>\n",
       "</thead>\n",
       "<tbody>\n",
       "<tr><td style=\"text-align: right;\">  1987</td><td style=\"text-align: right;\">     10</td><td style=\"text-align: right;\">          17</td><td style=\"text-align: right;\">          6</td><td style=\"text-align: right;\">      741</td><td style=\"text-align: right;\">         730</td><td style=\"text-align: right;\">      918</td><td style=\"text-align: right;\">         849</td><td>PS             </td><td style=\"text-align: right;\">       1451</td><td>NA       </td><td style=\"text-align: right;\">                 97</td><td style=\"text-align: right;\">              79</td><td style=\"text-align: right;\">      nan</td><td style=\"text-align: right;\">        29</td><td style=\"text-align: right;\">        11</td><td>SAN     </td><td>SFO   </td><td style=\"text-align: right;\">       447</td><td style=\"text-align: right;\">     nan</td><td style=\"text-align: right;\">      nan</td><td style=\"text-align: right;\">          0</td><td>NA                </td><td style=\"text-align: right;\">         0</td><td style=\"text-align: right;\">           nan</td><td style=\"text-align: right;\">           nan</td><td style=\"text-align: right;\">       nan</td><td style=\"text-align: right;\">            nan</td><td style=\"text-align: right;\">                nan</td><td>YES           </td><td>YES           </td></tr>\n",
       "<tr><td style=\"text-align: right;\">  1987</td><td style=\"text-align: right;\">     10</td><td style=\"text-align: right;\">          19</td><td style=\"text-align: right;\">          1</td><td style=\"text-align: right;\">      749</td><td style=\"text-align: right;\">         730</td><td style=\"text-align: right;\">      922</td><td style=\"text-align: right;\">         849</td><td>PS             </td><td style=\"text-align: right;\">       1451</td><td>NA       </td><td style=\"text-align: right;\">                 93</td><td style=\"text-align: right;\">              79</td><td style=\"text-align: right;\">      nan</td><td style=\"text-align: right;\">        33</td><td style=\"text-align: right;\">        19</td><td>SAN     </td><td>SFO   </td><td style=\"text-align: right;\">       447</td><td style=\"text-align: right;\">     nan</td><td style=\"text-align: right;\">      nan</td><td style=\"text-align: right;\">          0</td><td>NA                </td><td style=\"text-align: right;\">         0</td><td style=\"text-align: right;\">           nan</td><td style=\"text-align: right;\">           nan</td><td style=\"text-align: right;\">       nan</td><td style=\"text-align: right;\">            nan</td><td style=\"text-align: right;\">                nan</td><td>YES           </td><td>YES           </td></tr>\n",
       "</tbody>\n",
       "</table>"
      ]
     },
     "metadata": {},
     "output_type": "display_data"
    },
    {
     "data": {
      "text/plain": []
     },
     "execution_count": 15,
     "metadata": {},
     "output_type": "execute_result"
    },
    {
     "data": {
      "text/html": [
       "<table>\n",
       "<thead>\n",
       "<tr><th style=\"text-align: right;\">  Year</th><th style=\"text-align: right;\">  DepTime</th></tr>\n",
       "</thead>\n",
       "<tbody>\n",
       "<tr><td style=\"text-align: right;\">  1987</td><td style=\"text-align: right;\">      741</td></tr>\n",
       "<tr><td style=\"text-align: right;\">  1987</td><td style=\"text-align: right;\">      729</td></tr>\n",
       "<tr><td style=\"text-align: right;\">  1987</td><td style=\"text-align: right;\">      741</td></tr>\n",
       "<tr><td style=\"text-align: right;\">  1987</td><td style=\"text-align: right;\">      729</td></tr>\n",
       "<tr><td style=\"text-align: right;\">  1987</td><td style=\"text-align: right;\">      749</td></tr>\n",
       "<tr><td style=\"text-align: right;\">  1987</td><td style=\"text-align: right;\">      728</td></tr>\n",
       "<tr><td style=\"text-align: right;\">  1987</td><td style=\"text-align: right;\">      728</td></tr>\n",
       "<tr><td style=\"text-align: right;\">  1987</td><td style=\"text-align: right;\">      731</td></tr>\n",
       "<tr><td style=\"text-align: right;\">  1987</td><td style=\"text-align: right;\">      744</td></tr>\n",
       "<tr><td style=\"text-align: right;\">  1987</td><td style=\"text-align: right;\">      729</td></tr>\n",
       "</tbody>\n",
       "</table>"
      ]
     },
     "metadata": {},
     "output_type": "display_data"
    },
    {
     "data": {
      "text/plain": []
     },
     "execution_count": 15,
     "metadata": {},
     "output_type": "execute_result"
    },
    {
     "data": {
      "text/html": [
       "<table>\n",
       "<thead>\n",
       "<tr><th style=\"text-align: right;\">  Month</th><th style=\"text-align: right;\">  DepTime</th></tr>\n",
       "</thead>\n",
       "<tbody>\n",
       "<tr><td style=\"text-align: right;\">     10</td><td style=\"text-align: right;\">      741</td></tr>\n",
       "<tr><td style=\"text-align: right;\">     10</td><td style=\"text-align: right;\">      729</td></tr>\n",
       "<tr><td style=\"text-align: right;\">     10</td><td style=\"text-align: right;\">      741</td></tr>\n",
       "<tr><td style=\"text-align: right;\">     10</td><td style=\"text-align: right;\">      729</td></tr>\n",
       "<tr><td style=\"text-align: right;\">     10</td><td style=\"text-align: right;\">      749</td></tr>\n",
       "<tr><td style=\"text-align: right;\">     10</td><td style=\"text-align: right;\">      728</td></tr>\n",
       "<tr><td style=\"text-align: right;\">     10</td><td style=\"text-align: right;\">      728</td></tr>\n",
       "<tr><td style=\"text-align: right;\">     10</td><td style=\"text-align: right;\">      731</td></tr>\n",
       "<tr><td style=\"text-align: right;\">     10</td><td style=\"text-align: right;\">      744</td></tr>\n",
       "<tr><td style=\"text-align: right;\">     10</td><td style=\"text-align: right;\">      729</td></tr>\n",
       "</tbody>\n",
       "</table>"
      ]
     },
     "metadata": {},
     "output_type": "display_data"
    },
    {
     "data": {
      "text/plain": []
     },
     "execution_count": 15,
     "metadata": {},
     "output_type": "execute_result"
    }
   ],
   "source": [
    "# 5.0 Data Slicing\n",
    "airlines[:3,:3]\n",
    "airlines[0].head()\n",
    "airlines[[0,1], [5,8]]\n",
    "airlines[:, [0,2]]\n",
    "airlines[[2,4], :]\n",
    "airlines[['Year', 'DepTime']]\n",
    "airlines[[1,4]]"
   ]
  },
  {
   "cell_type": "code",
   "execution_count": 16,
   "metadata": {},
   "outputs": [
    {
     "data": {
      "text/html": [
       "<table>\n",
       "<thead>\n",
       "<tr><th style=\"text-align: right;\">  Year</th><th style=\"text-align: right;\">  Month</th><th style=\"text-align: right;\">  DayofMonth</th><th style=\"text-align: right;\">  DayOfWeek</th><th style=\"text-align: right;\">  DepTime</th><th style=\"text-align: right;\">  CRSDepTime</th><th style=\"text-align: right;\">  ArrTime</th><th style=\"text-align: right;\">  CRSArrTime</th><th>UniqueCarrier  </th><th style=\"text-align: right;\">  FlightNum</th><th>TailNum  </th><th style=\"text-align: right;\">  ActualElapsedTime</th><th style=\"text-align: right;\">  CRSElapsedTime</th><th style=\"text-align: right;\">  AirTime</th><th style=\"text-align: right;\">  ArrDelay</th><th style=\"text-align: right;\">  DepDelay</th><th>Origin  </th><th>Dest  </th><th style=\"text-align: right;\">  Distance</th><th style=\"text-align: right;\">  TaxiIn</th><th style=\"text-align: right;\">  TaxiOut</th><th style=\"text-align: right;\">  Cancelled</th><th>CancellationCode  </th><th style=\"text-align: right;\">  Diverted</th><th style=\"text-align: right;\">  CarrierDelay</th><th style=\"text-align: right;\">  WeatherDelay</th><th style=\"text-align: right;\">  NASDelay</th><th style=\"text-align: right;\">  SecurityDelay</th><th style=\"text-align: right;\">  LateAircraftDelay</th><th>IsArrDelayed  </th><th>IsDepDelayed  </th></tr>\n",
       "</thead>\n",
       "<tbody>\n",
       "<tr><td style=\"text-align: right;\">  1987</td><td style=\"text-align: right;\">     10</td><td style=\"text-align: right;\">          18</td><td style=\"text-align: right;\">          7</td><td style=\"text-align: right;\">      729</td><td style=\"text-align: right;\">         730</td><td style=\"text-align: right;\">      847</td><td style=\"text-align: right;\">         849</td><td>PS             </td><td style=\"text-align: right;\">       1451</td><td>NA       </td><td style=\"text-align: right;\">                 78</td><td style=\"text-align: right;\">              79</td><td style=\"text-align: right;\">      nan</td><td style=\"text-align: right;\">        -2</td><td style=\"text-align: right;\">        -1</td><td>SAN     </td><td>SFO   </td><td style=\"text-align: right;\">       447</td><td style=\"text-align: right;\">     nan</td><td style=\"text-align: right;\">      nan</td><td style=\"text-align: right;\">          0</td><td>NA                </td><td style=\"text-align: right;\">         0</td><td style=\"text-align: right;\">           nan</td><td style=\"text-align: right;\">           nan</td><td style=\"text-align: right;\">       nan</td><td style=\"text-align: right;\">            nan</td><td style=\"text-align: right;\">                nan</td><td>NO            </td><td>NO            </td></tr>\n",
       "<tr><td style=\"text-align: right;\">  1987</td><td style=\"text-align: right;\">     10</td><td style=\"text-align: right;\">          19</td><td style=\"text-align: right;\">          1</td><td style=\"text-align: right;\">      749</td><td style=\"text-align: right;\">         730</td><td style=\"text-align: right;\">      922</td><td style=\"text-align: right;\">         849</td><td>PS             </td><td style=\"text-align: right;\">       1451</td><td>NA       </td><td style=\"text-align: right;\">                 93</td><td style=\"text-align: right;\">              79</td><td style=\"text-align: right;\">      nan</td><td style=\"text-align: right;\">        33</td><td style=\"text-align: right;\">        19</td><td>SAN     </td><td>SFO   </td><td style=\"text-align: right;\">       447</td><td style=\"text-align: right;\">     nan</td><td style=\"text-align: right;\">      nan</td><td style=\"text-align: right;\">          0</td><td>NA                </td><td style=\"text-align: right;\">         0</td><td style=\"text-align: right;\">           nan</td><td style=\"text-align: right;\">           nan</td><td style=\"text-align: right;\">       nan</td><td style=\"text-align: right;\">            nan</td><td style=\"text-align: right;\">                nan</td><td>YES           </td><td>YES           </td></tr>\n",
       "<tr><td style=\"text-align: right;\">  1987</td><td style=\"text-align: right;\">     10</td><td style=\"text-align: right;\">          21</td><td style=\"text-align: right;\">          3</td><td style=\"text-align: right;\">      728</td><td style=\"text-align: right;\">         730</td><td style=\"text-align: right;\">      848</td><td style=\"text-align: right;\">         849</td><td>PS             </td><td style=\"text-align: right;\">       1451</td><td>NA       </td><td style=\"text-align: right;\">                 80</td><td style=\"text-align: right;\">              79</td><td style=\"text-align: right;\">      nan</td><td style=\"text-align: right;\">        -1</td><td style=\"text-align: right;\">        -2</td><td>SAN     </td><td>SFO   </td><td style=\"text-align: right;\">       447</td><td style=\"text-align: right;\">     nan</td><td style=\"text-align: right;\">      nan</td><td style=\"text-align: right;\">          0</td><td>NA                </td><td style=\"text-align: right;\">         0</td><td style=\"text-align: right;\">           nan</td><td style=\"text-align: right;\">           nan</td><td style=\"text-align: right;\">       nan</td><td style=\"text-align: right;\">            nan</td><td style=\"text-align: right;\">                nan</td><td>NO            </td><td>NO            </td></tr>\n",
       "</tbody>\n",
       "</table>"
      ]
     },
     "metadata": {},
     "output_type": "display_data"
    },
    {
     "data": {
      "text/plain": []
     },
     "execution_count": 16,
     "metadata": {},
     "output_type": "execute_result"
    },
    {
     "data": {
      "text/html": [
       "<table>\n",
       "<thead>\n",
       "<tr><th style=\"text-align: right;\">  Year</th><th style=\"text-align: right;\">  Month</th><th style=\"text-align: right;\">  DayofMonth</th><th style=\"text-align: right;\">  DayOfWeek</th><th style=\"text-align: right;\">  DepTime</th><th style=\"text-align: right;\">  CRSDepTime</th><th style=\"text-align: right;\">  ArrTime</th><th style=\"text-align: right;\">  CRSArrTime</th><th>UniqueCarrier  </th><th style=\"text-align: right;\">  FlightNum</th><th>TailNum  </th><th style=\"text-align: right;\">  ActualElapsedTime</th><th style=\"text-align: right;\">  CRSElapsedTime</th><th style=\"text-align: right;\">  AirTime</th><th style=\"text-align: right;\">  ArrDelay</th><th style=\"text-align: right;\">  DepDelay</th><th>Origin  </th><th>Dest  </th><th style=\"text-align: right;\">  Distance</th><th style=\"text-align: right;\">  TaxiIn</th><th style=\"text-align: right;\">  TaxiOut</th><th style=\"text-align: right;\">  Cancelled</th><th>CancellationCode  </th><th style=\"text-align: right;\">  Diverted</th><th style=\"text-align: right;\">  CarrierDelay</th><th style=\"text-align: right;\">  WeatherDelay</th><th style=\"text-align: right;\">  NASDelay</th><th style=\"text-align: right;\">  SecurityDelay</th><th style=\"text-align: right;\">  LateAircraftDelay</th><th>IsArrDelayed  </th><th>IsDepDelayed  </th></tr>\n",
       "</thead>\n",
       "<tbody>\n",
       "<tr><td style=\"text-align: right;\">  1987</td><td style=\"text-align: right;\">     10</td><td style=\"text-align: right;\">          18</td><td style=\"text-align: right;\">          7</td><td style=\"text-align: right;\">      729</td><td style=\"text-align: right;\">         730</td><td style=\"text-align: right;\">      847</td><td style=\"text-align: right;\">         849</td><td>PS             </td><td style=\"text-align: right;\">       1451</td><td>NA       </td><td style=\"text-align: right;\">                 78</td><td style=\"text-align: right;\">              79</td><td style=\"text-align: right;\">      nan</td><td style=\"text-align: right;\">        -2</td><td style=\"text-align: right;\">        -1</td><td>SAN     </td><td>SFO   </td><td style=\"text-align: right;\">       447</td><td style=\"text-align: right;\">     nan</td><td style=\"text-align: right;\">      nan</td><td style=\"text-align: right;\">          0</td><td>NA                </td><td style=\"text-align: right;\">         0</td><td style=\"text-align: right;\">           nan</td><td style=\"text-align: right;\">           nan</td><td style=\"text-align: right;\">       nan</td><td style=\"text-align: right;\">            nan</td><td style=\"text-align: right;\">                nan</td><td>NO            </td><td>NO            </td></tr>\n",
       "<tr><td style=\"text-align: right;\">  1987</td><td style=\"text-align: right;\">     10</td><td style=\"text-align: right;\">          22</td><td style=\"text-align: right;\">          4</td><td style=\"text-align: right;\">      728</td><td style=\"text-align: right;\">         730</td><td style=\"text-align: right;\">      852</td><td style=\"text-align: right;\">         849</td><td>PS             </td><td style=\"text-align: right;\">       1451</td><td>NA       </td><td style=\"text-align: right;\">                 84</td><td style=\"text-align: right;\">              79</td><td style=\"text-align: right;\">      nan</td><td style=\"text-align: right;\">         3</td><td style=\"text-align: right;\">        -2</td><td>SAN     </td><td>SFO   </td><td style=\"text-align: right;\">       447</td><td style=\"text-align: right;\">     nan</td><td style=\"text-align: right;\">      nan</td><td style=\"text-align: right;\">          0</td><td>NA                </td><td style=\"text-align: right;\">         0</td><td style=\"text-align: right;\">           nan</td><td style=\"text-align: right;\">           nan</td><td style=\"text-align: right;\">       nan</td><td style=\"text-align: right;\">            nan</td><td style=\"text-align: right;\">                nan</td><td>YES           </td><td>NO            </td></tr>\n",
       "<tr><td style=\"text-align: right;\">  1987</td><td style=\"text-align: right;\">     10</td><td style=\"text-align: right;\">          24</td><td style=\"text-align: right;\">          6</td><td style=\"text-align: right;\">      744</td><td style=\"text-align: right;\">         730</td><td style=\"text-align: right;\">      908</td><td style=\"text-align: right;\">         849</td><td>PS             </td><td style=\"text-align: right;\">       1451</td><td>NA       </td><td style=\"text-align: right;\">                 84</td><td style=\"text-align: right;\">              79</td><td style=\"text-align: right;\">      nan</td><td style=\"text-align: right;\">        19</td><td style=\"text-align: right;\">        14</td><td>SAN     </td><td>SFO   </td><td style=\"text-align: right;\">       447</td><td style=\"text-align: right;\">     nan</td><td style=\"text-align: right;\">      nan</td><td style=\"text-align: right;\">          0</td><td>NA                </td><td style=\"text-align: right;\">         0</td><td style=\"text-align: right;\">           nan</td><td style=\"text-align: right;\">           nan</td><td style=\"text-align: right;\">       nan</td><td style=\"text-align: right;\">            nan</td><td style=\"text-align: right;\">                nan</td><td>YES           </td><td>YES           </td></tr>\n",
       "</tbody>\n",
       "</table>"
      ]
     },
     "metadata": {},
     "output_type": "display_data"
    },
    {
     "data": {
      "text/plain": []
     },
     "execution_count": 16,
     "metadata": {},
     "output_type": "execute_result"
    }
   ],
   "source": [
    "airlines[3:6, :]\n",
    "airlines[[3,6,8], :]"
   ]
  },
  {
   "cell_type": "code",
   "execution_count": 17,
   "metadata": {},
   "outputs": [
    {
     "data": {
      "text/plain": [
       "(20893, 31)"
      ]
     },
     "execution_count": 17,
     "metadata": {},
     "output_type": "execute_result"
    },
    {
     "data": {
      "text/html": [
       "<table>\n",
       "<thead>\n",
       "<tr><th style=\"text-align: right;\">  Year</th><th style=\"text-align: right;\">  Month</th><th style=\"text-align: right;\">  DayofMonth</th><th style=\"text-align: right;\">  DayOfWeek</th><th style=\"text-align: right;\">  DepTime</th><th style=\"text-align: right;\">  CRSDepTime</th><th style=\"text-align: right;\">  ArrTime</th><th style=\"text-align: right;\">  CRSArrTime</th><th>UniqueCarrier  </th><th style=\"text-align: right;\">  FlightNum</th><th>TailNum  </th><th style=\"text-align: right;\">  ActualElapsedTime</th><th style=\"text-align: right;\">  CRSElapsedTime</th><th style=\"text-align: right;\">  AirTime</th><th style=\"text-align: right;\">  ArrDelay</th><th style=\"text-align: right;\">  DepDelay</th><th>Origin  </th><th>Dest  </th><th style=\"text-align: right;\">  Distance</th><th style=\"text-align: right;\">  TaxiIn</th><th style=\"text-align: right;\">  TaxiOut</th><th style=\"text-align: right;\">  Cancelled</th><th>CancellationCode  </th><th style=\"text-align: right;\">  Diverted</th><th style=\"text-align: right;\">  CarrierDelay</th><th style=\"text-align: right;\">  WeatherDelay</th><th style=\"text-align: right;\">  NASDelay</th><th style=\"text-align: right;\">  SecurityDelay</th><th style=\"text-align: right;\">  LateAircraftDelay</th><th>IsArrDelayed  </th><th>IsDepDelayed  </th></tr>\n",
       "</thead>\n",
       "<tbody>\n",
       "<tr><td style=\"text-align: right;\">  1987</td><td style=\"text-align: right;\">     10</td><td style=\"text-align: right;\">          15</td><td style=\"text-align: right;\">          4</td><td style=\"text-align: right;\">      729</td><td style=\"text-align: right;\">         730</td><td style=\"text-align: right;\">      903</td><td style=\"text-align: right;\">         849</td><td>PS             </td><td style=\"text-align: right;\">       1451</td><td>NA       </td><td style=\"text-align: right;\">                 94</td><td style=\"text-align: right;\">              79</td><td style=\"text-align: right;\">      nan</td><td style=\"text-align: right;\">        14</td><td style=\"text-align: right;\">        -1</td><td>SAN     </td><td>SFO   </td><td style=\"text-align: right;\">       447</td><td style=\"text-align: right;\">     nan</td><td style=\"text-align: right;\">      nan</td><td style=\"text-align: right;\">          0</td><td>NA                </td><td style=\"text-align: right;\">         0</td><td style=\"text-align: right;\">           nan</td><td style=\"text-align: right;\">           nan</td><td style=\"text-align: right;\">       nan</td><td style=\"text-align: right;\">            nan</td><td style=\"text-align: right;\">                nan</td><td>YES           </td><td>NO            </td></tr>\n",
       "<tr><td style=\"text-align: right;\">  1987</td><td style=\"text-align: right;\">     10</td><td style=\"text-align: right;\">          17</td><td style=\"text-align: right;\">          6</td><td style=\"text-align: right;\">      741</td><td style=\"text-align: right;\">         730</td><td style=\"text-align: right;\">      918</td><td style=\"text-align: right;\">         849</td><td>PS             </td><td style=\"text-align: right;\">       1451</td><td>NA       </td><td style=\"text-align: right;\">                 97</td><td style=\"text-align: right;\">              79</td><td style=\"text-align: right;\">      nan</td><td style=\"text-align: right;\">        29</td><td style=\"text-align: right;\">        11</td><td>SAN     </td><td>SFO   </td><td style=\"text-align: right;\">       447</td><td style=\"text-align: right;\">     nan</td><td style=\"text-align: right;\">      nan</td><td style=\"text-align: right;\">          0</td><td>NA                </td><td style=\"text-align: right;\">         0</td><td style=\"text-align: right;\">           nan</td><td style=\"text-align: right;\">           nan</td><td style=\"text-align: right;\">       nan</td><td style=\"text-align: right;\">            nan</td><td style=\"text-align: right;\">                nan</td><td>YES           </td><td>YES           </td></tr>\n",
       "</tbody>\n",
       "</table>"
      ]
     },
     "metadata": {},
     "output_type": "display_data"
    },
    {
     "data": {
      "text/plain": []
     },
     "execution_count": 17,
     "metadata": {},
     "output_type": "execute_result"
    }
   ],
   "source": [
    "# 5.1 Using booleans as indexes\n",
    "mask1 = airlines['DayofMonth'] > 14\n",
    "airlines[mask1,:].shape\n",
    "airlines[mask1,:].head(2)"
   ]
  },
  {
   "cell_type": "code",
   "execution_count": 18,
   "metadata": {},
   "outputs": [
    {
     "data": {
      "text/plain": [
       "(7400, 31)"
      ]
     },
     "execution_count": 18,
     "metadata": {},
     "output_type": "execute_result"
    },
    {
     "data": {
      "text/plain": [
       "(43978, 31)"
      ]
     },
     "execution_count": 18,
     "metadata": {},
     "output_type": "execute_result"
    }
   ],
   "source": [
    "# 5.2 AND (&) OR operations:\n",
    "mask2 = (airlines['DayofMonth'] <= 20)\n",
    "airlines[mask1 & mask2,:].shape\n",
    "airlines[mask1 | mask2,:].shape"
   ]
  },
  {
   "cell_type": "markdown",
   "metadata": {},
   "source": [
    "## Categorical features"
   ]
  },
  {
   "cell_type": "code",
   "execution_count": 19,
   "metadata": {},
   "outputs": [
    {
     "data": {
      "text/plain": [
       "[False,\n",
       " False,\n",
       " False,\n",
       " False,\n",
       " False,\n",
       " False,\n",
       " False,\n",
       " False,\n",
       " True,\n",
       " False,\n",
       " True,\n",
       " False,\n",
       " False,\n",
       " False,\n",
       " False,\n",
       " False,\n",
       " True,\n",
       " True,\n",
       " False,\n",
       " False,\n",
       " False,\n",
       " False,\n",
       " True,\n",
       " False,\n",
       " False,\n",
       " False,\n",
       " False,\n",
       " False,\n",
       " False,\n",
       " True,\n",
       " True]"
      ]
     },
     "execution_count": 19,
     "metadata": {},
     "output_type": "execute_result"
    },
    {
     "data": {
      "text/html": [
       "<table>\n",
       "<thead>\n",
       "<tr><th style=\"text-align: right;\">  C1</th></tr>\n",
       "</thead>\n",
       "<tbody>\n",
       "<tr><td style=\"text-align: right;\">  10</td></tr>\n",
       "<tr><td style=\"text-align: right;\">   1</td></tr>\n",
       "</tbody>\n",
       "</table>"
      ]
     },
     "metadata": {},
     "output_type": "display_data"
    },
    {
     "data": {
      "text/plain": []
     },
     "execution_count": 19,
     "metadata": {},
     "output_type": "execute_result"
    },
    {
     "data": {
      "text/plain": [
       "2"
      ]
     },
     "execution_count": 19,
     "metadata": {},
     "output_type": "execute_result"
    }
   ],
   "source": [
    "# 6.0 Which columns are factors\n",
    "airlines.isfactor()\n",
    "\n",
    "# 6.1 Get unique values of a column\n",
    "airlines['Month'].unique()          # 10, 1\n",
    "len(airlines['Month'].unique())"
   ]
  },
  {
   "cell_type": "code",
   "execution_count": 20,
   "metadata": {},
   "outputs": [
    {
     "data": {
      "text/plain": [
       "[['NO', 'YES']]"
      ]
     },
     "execution_count": 20,
     "metadata": {},
     "output_type": "execute_result"
    },
    {
     "data": {
      "text/plain": [
       "[0,\n",
       " 0,\n",
       " 0,\n",
       " 0,\n",
       " 0,\n",
       " 0,\n",
       " 0,\n",
       " 0,\n",
       " 10,\n",
       " 0,\n",
       " 3501,\n",
       " 0,\n",
       " 0,\n",
       " 0,\n",
       " 0,\n",
       " 0,\n",
       " 132,\n",
       " 134,\n",
       " 0,\n",
       " 0,\n",
       " 0,\n",
       " 0,\n",
       " 4,\n",
       " 0,\n",
       " 0,\n",
       " 0,\n",
       " 0,\n",
       " 0,\n",
       " 0,\n",
       " 2,\n",
       " 2]"
      ]
     },
     "execution_count": 20,
     "metadata": {},
     "output_type": "execute_result"
    },
    {
     "data": {
      "text/plain": [
       "True"
      ]
     },
     "execution_count": 20,
     "metadata": {},
     "output_type": "execute_result"
    }
   ],
   "source": [
    "# 7.0 Categorical features\n",
    "airlines['IsArrDelayed'].levels()\n",
    "\n",
    "# 7.1 Get number of levels for \n",
    "#     each one of the columns\n",
    "airlines.nlevels()\n",
    "\n",
    "# 7.2 Are there any factors in the data?\n",
    "airlines.anyfactor()"
   ]
  },
  {
   "cell_type": "markdown",
   "metadata": {},
   "source": [
    "### Column filteration"
   ]
  },
  {
   "cell_type": "code",
   "execution_count": 21,
   "metadata": {},
   "outputs": [
    {
     "data": {
      "text/plain": [
       "pandas.core.frame.DataFrame"
      ]
     },
     "execution_count": 21,
     "metadata": {},
     "output_type": "execute_result"
    },
    {
     "data": {
      "text/html": [
       "<div>\n",
       "<style scoped>\n",
       "    .dataframe tbody tr th:only-of-type {\n",
       "        vertical-align: middle;\n",
       "    }\n",
       "\n",
       "    .dataframe tbody tr th {\n",
       "        vertical-align: top;\n",
       "    }\n",
       "\n",
       "    .dataframe thead th {\n",
       "        text-align: right;\n",
       "    }\n",
       "</style>\n",
       "<table border=\"1\" class=\"dataframe\">\n",
       "  <thead>\n",
       "    <tr style=\"text-align: right;\">\n",
       "      <th></th>\n",
       "      <th>a</th>\n",
       "      <th>b</th>\n",
       "      <th>c</th>\n",
       "    </tr>\n",
       "  </thead>\n",
       "  <tbody>\n",
       "    <tr>\n",
       "      <th>0</th>\n",
       "      <td>1</td>\n",
       "      <td>a</td>\n",
       "      <td>2020-07-23</td>\n",
       "    </tr>\n",
       "    <tr>\n",
       "      <th>1</th>\n",
       "      <td>2</td>\n",
       "      <td>b</td>\n",
       "      <td>1990-02-09</td>\n",
       "    </tr>\n",
       "  </tbody>\n",
       "</table>\n",
       "</div>"
      ],
      "text/plain": [
       "   a  b          c\n",
       "0  1  a 2020-07-23\n",
       "1  2  b 1990-02-09"
      ]
     },
     "execution_count": 21,
     "metadata": {},
     "output_type": "execute_result"
    },
    {
     "data": {
      "text/html": [
       "<div>\n",
       "<style scoped>\n",
       "    .dataframe tbody tr th:only-of-type {\n",
       "        vertical-align: middle;\n",
       "    }\n",
       "\n",
       "    .dataframe tbody tr th {\n",
       "        vertical-align: top;\n",
       "    }\n",
       "\n",
       "    .dataframe thead th {\n",
       "        text-align: right;\n",
       "    }\n",
       "</style>\n",
       "<table border=\"1\" class=\"dataframe\">\n",
       "  <thead>\n",
       "    <tr style=\"text-align: right;\">\n",
       "      <th></th>\n",
       "      <th>a</th>\n",
       "      <th>c</th>\n",
       "    </tr>\n",
       "  </thead>\n",
       "  <tbody>\n",
       "    <tr>\n",
       "      <th>0</th>\n",
       "      <td>1</td>\n",
       "      <td>2020-07-23</td>\n",
       "    </tr>\n",
       "    <tr>\n",
       "      <th>1</th>\n",
       "      <td>2</td>\n",
       "      <td>1990-02-09</td>\n",
       "    </tr>\n",
       "  </tbody>\n",
       "</table>\n",
       "</div>"
      ],
      "text/plain": [
       "   a          c\n",
       "0  1 2020-07-23\n",
       "1  2 1990-02-09"
      ]
     },
     "execution_count": 21,
     "metadata": {},
     "output_type": "execute_result"
    }
   ],
   "source": [
    "# 8.0 Which all columns are factors\n",
    "\n",
    "# 8.0.1 This selection works\n",
    "#       v is pandas DataFrame\n",
    "type(v)\n",
    "v\n",
    "v.loc[: , [True, False, True]]"
   ]
  },
  {
   "cell_type": "code",
   "execution_count": 22,
   "metadata": {},
   "outputs": [
    {
     "data": {
      "text/plain": [
       "7"
      ]
     },
     "execution_count": 22,
     "metadata": {},
     "output_type": "execute_result"
    },
    {
     "ename": "H2OResponseError",
     "evalue": "Server error water.rapids.Rapids.IllegalASTException:\n  Error: java.lang.NumberFormatException: For input string: \"False\"\n  Request: POST /99/Rapids\n    data: {'ast': '(tmp= py_62_sid_8c2d (cols_py py_39_sid_8c2d [False False False False False False False False True False True False False False False False True True False False False False True False False False False False False True True]))', 'session_id': '_sid_8c2d'}\n",
     "output_type": "error",
     "traceback": [
      "\u001b[1;31m---------------------------------------------------------------------------\u001b[0m",
      "\u001b[1;31mH2OResponseError\u001b[0m                          Traceback (most recent call last)",
      "\u001b[1;32md:\\ProgramData\\Anaconda3\\envs\\h2o\\lib\\site-packages\\IPython\\core\\formatters.py\u001b[0m in \u001b[0;36m__call__\u001b[1;34m(self, obj)\u001b[0m\n\u001b[0;32m    700\u001b[0m                 \u001b[0mtype_pprinters\u001b[0m\u001b[1;33m=\u001b[0m\u001b[0mself\u001b[0m\u001b[1;33m.\u001b[0m\u001b[0mtype_printers\u001b[0m\u001b[1;33m,\u001b[0m\u001b[1;33m\u001b[0m\u001b[1;33m\u001b[0m\u001b[0m\n\u001b[0;32m    701\u001b[0m                 deferred_pprinters=self.deferred_printers)\n\u001b[1;32m--> 702\u001b[1;33m             \u001b[0mprinter\u001b[0m\u001b[1;33m.\u001b[0m\u001b[0mpretty\u001b[0m\u001b[1;33m(\u001b[0m\u001b[0mobj\u001b[0m\u001b[1;33m)\u001b[0m\u001b[1;33m\u001b[0m\u001b[1;33m\u001b[0m\u001b[0m\n\u001b[0m\u001b[0;32m    703\u001b[0m             \u001b[0mprinter\u001b[0m\u001b[1;33m.\u001b[0m\u001b[0mflush\u001b[0m\u001b[1;33m(\u001b[0m\u001b[1;33m)\u001b[0m\u001b[1;33m\u001b[0m\u001b[1;33m\u001b[0m\u001b[0m\n\u001b[0;32m    704\u001b[0m             \u001b[1;32mreturn\u001b[0m \u001b[0mstream\u001b[0m\u001b[1;33m.\u001b[0m\u001b[0mgetvalue\u001b[0m\u001b[1;33m(\u001b[0m\u001b[1;33m)\u001b[0m\u001b[1;33m\u001b[0m\u001b[1;33m\u001b[0m\u001b[0m\n",
      "\u001b[1;32md:\\ProgramData\\Anaconda3\\envs\\h2o\\lib\\site-packages\\IPython\\lib\\pretty.py\u001b[0m in \u001b[0;36mpretty\u001b[1;34m(self, obj)\u001b[0m\n\u001b[0;32m    392\u001b[0m                         \u001b[1;32mif\u001b[0m \u001b[0mcls\u001b[0m \u001b[1;32mis\u001b[0m \u001b[1;32mnot\u001b[0m \u001b[0mobject\u001b[0m\u001b[0;31m \u001b[0m\u001b[0;31m\\\u001b[0m\u001b[1;33m\u001b[0m\u001b[1;33m\u001b[0m\u001b[0m\n\u001b[0;32m    393\u001b[0m                                 \u001b[1;32mand\u001b[0m \u001b[0mcallable\u001b[0m\u001b[1;33m(\u001b[0m\u001b[0mcls\u001b[0m\u001b[1;33m.\u001b[0m\u001b[0m__dict__\u001b[0m\u001b[1;33m.\u001b[0m\u001b[0mget\u001b[0m\u001b[1;33m(\u001b[0m\u001b[1;34m'__repr__'\u001b[0m\u001b[1;33m)\u001b[0m\u001b[1;33m)\u001b[0m\u001b[1;33m:\u001b[0m\u001b[1;33m\u001b[0m\u001b[1;33m\u001b[0m\u001b[0m\n\u001b[1;32m--> 394\u001b[1;33m                             \u001b[1;32mreturn\u001b[0m \u001b[0m_repr_pprint\u001b[0m\u001b[1;33m(\u001b[0m\u001b[0mobj\u001b[0m\u001b[1;33m,\u001b[0m \u001b[0mself\u001b[0m\u001b[1;33m,\u001b[0m \u001b[0mcycle\u001b[0m\u001b[1;33m)\u001b[0m\u001b[1;33m\u001b[0m\u001b[1;33m\u001b[0m\u001b[0m\n\u001b[0m\u001b[0;32m    395\u001b[0m \u001b[1;33m\u001b[0m\u001b[0m\n\u001b[0;32m    396\u001b[0m             \u001b[1;32mreturn\u001b[0m \u001b[0m_default_pprint\u001b[0m\u001b[1;33m(\u001b[0m\u001b[0mobj\u001b[0m\u001b[1;33m,\u001b[0m \u001b[0mself\u001b[0m\u001b[1;33m,\u001b[0m \u001b[0mcycle\u001b[0m\u001b[1;33m)\u001b[0m\u001b[1;33m\u001b[0m\u001b[1;33m\u001b[0m\u001b[0m\n",
      "\u001b[1;32md:\\ProgramData\\Anaconda3\\envs\\h2o\\lib\\site-packages\\IPython\\lib\\pretty.py\u001b[0m in \u001b[0;36m_repr_pprint\u001b[1;34m(obj, p, cycle)\u001b[0m\n\u001b[0;32m    698\u001b[0m     \u001b[1;34m\"\"\"A pprint that just redirects to the normal repr function.\"\"\"\u001b[0m\u001b[1;33m\u001b[0m\u001b[1;33m\u001b[0m\u001b[0m\n\u001b[0;32m    699\u001b[0m     \u001b[1;31m# Find newlines and replace them with p.break_()\u001b[0m\u001b[1;33m\u001b[0m\u001b[1;33m\u001b[0m\u001b[1;33m\u001b[0m\u001b[0m\n\u001b[1;32m--> 700\u001b[1;33m     \u001b[0moutput\u001b[0m \u001b[1;33m=\u001b[0m \u001b[0mrepr\u001b[0m\u001b[1;33m(\u001b[0m\u001b[0mobj\u001b[0m\u001b[1;33m)\u001b[0m\u001b[1;33m\u001b[0m\u001b[1;33m\u001b[0m\u001b[0m\n\u001b[0m\u001b[0;32m    701\u001b[0m     \u001b[0mlines\u001b[0m \u001b[1;33m=\u001b[0m \u001b[0moutput\u001b[0m\u001b[1;33m.\u001b[0m\u001b[0msplitlines\u001b[0m\u001b[1;33m(\u001b[0m\u001b[1;33m)\u001b[0m\u001b[1;33m\u001b[0m\u001b[1;33m\u001b[0m\u001b[0m\n\u001b[0;32m    702\u001b[0m     \u001b[1;32mwith\u001b[0m \u001b[0mp\u001b[0m\u001b[1;33m.\u001b[0m\u001b[0mgroup\u001b[0m\u001b[1;33m(\u001b[0m\u001b[1;33m)\u001b[0m\u001b[1;33m:\u001b[0m\u001b[1;33m\u001b[0m\u001b[1;33m\u001b[0m\u001b[0m\n",
      "\u001b[1;32md:\\ProgramData\\Anaconda3\\envs\\h2o\\lib\\site-packages\\h2o\\frame.py\u001b[0m in \u001b[0;36m__repr__\u001b[1;34m(self)\u001b[0m\n\u001b[0;32m    546\u001b[0m             \u001b[0mstk\u001b[0m \u001b[1;33m=\u001b[0m \u001b[0mtraceback\u001b[0m\u001b[1;33m.\u001b[0m\u001b[0mextract_stack\u001b[0m\u001b[1;33m(\u001b[0m\u001b[1;33m)\u001b[0m\u001b[1;33m\u001b[0m\u001b[1;33m\u001b[0m\u001b[0m\n\u001b[0;32m    547\u001b[0m             \u001b[1;32mif\u001b[0m \u001b[1;32mnot\u001b[0m \u001b[1;33m(\u001b[0m\u001b[1;34m\"IPython\"\u001b[0m \u001b[1;32min\u001b[0m \u001b[0mstk\u001b[0m\u001b[1;33m[\u001b[0m\u001b[1;33m-\u001b[0m\u001b[1;36m2\u001b[0m\u001b[1;33m]\u001b[0m\u001b[1;33m[\u001b[0m\u001b[1;36m0\u001b[0m\u001b[1;33m]\u001b[0m \u001b[1;32mand\u001b[0m \u001b[1;34m\"info\"\u001b[0m \u001b[1;33m==\u001b[0m \u001b[0mstk\u001b[0m\u001b[1;33m[\u001b[0m\u001b[1;33m-\u001b[0m\u001b[1;36m2\u001b[0m\u001b[1;33m]\u001b[0m\u001b[1;33m[\u001b[0m\u001b[1;36m2\u001b[0m\u001b[1;33m]\u001b[0m\u001b[1;33m)\u001b[0m\u001b[1;33m:\u001b[0m\u001b[1;33m\u001b[0m\u001b[1;33m\u001b[0m\u001b[0m\n\u001b[1;32m--> 548\u001b[1;33m                 \u001b[0mself\u001b[0m\u001b[1;33m.\u001b[0m\u001b[0mshow\u001b[0m\u001b[1;33m(\u001b[0m\u001b[1;33m)\u001b[0m\u001b[1;33m\u001b[0m\u001b[1;33m\u001b[0m\u001b[0m\n\u001b[0m\u001b[0;32m    549\u001b[0m         \u001b[1;32mreturn\u001b[0m \u001b[1;34m\"\"\u001b[0m\u001b[1;33m\u001b[0m\u001b[1;33m\u001b[0m\u001b[0m\n\u001b[0;32m    550\u001b[0m \u001b[1;33m\u001b[0m\u001b[0m\n",
      "\u001b[1;32md:\\ProgramData\\Anaconda3\\envs\\h2o\\lib\\site-packages\\h2o\\frame.py\u001b[0m in \u001b[0;36mshow\u001b[1;34m(self, use_pandas, rows, cols)\u001b[0m\n\u001b[0;32m    580\u001b[0m             \u001b[0mprint\u001b[0m\u001b[1;33m(\u001b[0m\u001b[1;34m\"This H2OFrame is empty.\"\u001b[0m\u001b[1;33m)\u001b[0m\u001b[1;33m\u001b[0m\u001b[1;33m\u001b[0m\u001b[0m\n\u001b[0;32m    581\u001b[0m             \u001b[1;32mreturn\u001b[0m\u001b[1;33m\u001b[0m\u001b[1;33m\u001b[0m\u001b[0m\n\u001b[1;32m--> 582\u001b[1;33m         \u001b[1;32mif\u001b[0m \u001b[1;32mnot\u001b[0m \u001b[0mself\u001b[0m\u001b[1;33m.\u001b[0m\u001b[0m_ex\u001b[0m\u001b[1;33m.\u001b[0m\u001b[0m_cache\u001b[0m\u001b[1;33m.\u001b[0m\u001b[0mis_valid\u001b[0m\u001b[1;33m(\u001b[0m\u001b[1;33m)\u001b[0m\u001b[1;33m:\u001b[0m \u001b[0mself\u001b[0m\u001b[1;33m.\u001b[0m\u001b[0m_frame\u001b[0m\u001b[1;33m(\u001b[0m\u001b[1;33m)\u001b[0m\u001b[1;33m.\u001b[0m\u001b[0m_ex\u001b[0m\u001b[1;33m.\u001b[0m\u001b[0m_cache\u001b[0m\u001b[1;33m.\u001b[0m\u001b[0mfill\u001b[0m\u001b[1;33m(\u001b[0m\u001b[1;33m)\u001b[0m\u001b[1;33m\u001b[0m\u001b[1;33m\u001b[0m\u001b[0m\n\u001b[0m\u001b[0;32m    583\u001b[0m         \u001b[1;32mif\u001b[0m \u001b[0mH2ODisplay\u001b[0m\u001b[1;33m.\u001b[0m\u001b[0m_in_zep\u001b[0m\u001b[1;33m(\u001b[0m\u001b[1;33m)\u001b[0m\u001b[1;33m:\u001b[0m\u001b[1;33m\u001b[0m\u001b[1;33m\u001b[0m\u001b[0m\n\u001b[0;32m    584\u001b[0m             \u001b[0mprint\u001b[0m\u001b[1;33m(\u001b[0m\u001b[1;34m\"%html \"\u001b[0m \u001b[1;33m+\u001b[0m \u001b[0mself\u001b[0m\u001b[1;33m.\u001b[0m\u001b[0m_ex\u001b[0m\u001b[1;33m.\u001b[0m\u001b[0m_cache\u001b[0m\u001b[1;33m.\u001b[0m\u001b[0m_tabulate\u001b[0m\u001b[1;33m(\u001b[0m\u001b[1;34m\"html\"\u001b[0m\u001b[1;33m,\u001b[0m \u001b[1;32mFalse\u001b[0m\u001b[1;33m,\u001b[0m \u001b[0mrows\u001b[0m\u001b[1;33m=\u001b[0m\u001b[0mrows\u001b[0m\u001b[1;33m)\u001b[0m\u001b[1;33m)\u001b[0m\u001b[1;33m\u001b[0m\u001b[1;33m\u001b[0m\u001b[0m\n",
      "\u001b[1;32md:\\ProgramData\\Anaconda3\\envs\\h2o\\lib\\site-packages\\h2o\\frame.py\u001b[0m in \u001b[0;36m_frame\u001b[1;34m(self, rows, rows_offset, cols, cols_offset, fill_cache)\u001b[0m\n\u001b[0;32m    698\u001b[0m \u001b[1;33m\u001b[0m\u001b[0m\n\u001b[0;32m    699\u001b[0m     \u001b[1;32mdef\u001b[0m \u001b[0m_frame\u001b[0m\u001b[1;33m(\u001b[0m\u001b[0mself\u001b[0m\u001b[1;33m,\u001b[0m \u001b[0mrows\u001b[0m\u001b[1;33m=\u001b[0m\u001b[1;36m10\u001b[0m\u001b[1;33m,\u001b[0m \u001b[0mrows_offset\u001b[0m\u001b[1;33m=\u001b[0m\u001b[1;36m0\u001b[0m\u001b[1;33m,\u001b[0m \u001b[0mcols\u001b[0m\u001b[1;33m=\u001b[0m\u001b[1;33m-\u001b[0m\u001b[1;36m1\u001b[0m\u001b[1;33m,\u001b[0m \u001b[0mcols_offset\u001b[0m\u001b[1;33m=\u001b[0m\u001b[1;36m0\u001b[0m\u001b[1;33m,\u001b[0m \u001b[0mfill_cache\u001b[0m\u001b[1;33m=\u001b[0m\u001b[1;32mFalse\u001b[0m\u001b[1;33m)\u001b[0m\u001b[1;33m:\u001b[0m\u001b[1;33m\u001b[0m\u001b[1;33m\u001b[0m\u001b[0m\n\u001b[1;32m--> 700\u001b[1;33m         \u001b[0mself\u001b[0m\u001b[1;33m.\u001b[0m\u001b[0m_ex\u001b[0m\u001b[1;33m.\u001b[0m\u001b[0m_eager_frame\u001b[0m\u001b[1;33m(\u001b[0m\u001b[1;33m)\u001b[0m\u001b[1;33m\u001b[0m\u001b[1;33m\u001b[0m\u001b[0m\n\u001b[0m\u001b[0;32m    701\u001b[0m         \u001b[1;32mif\u001b[0m \u001b[0mfill_cache\u001b[0m\u001b[1;33m:\u001b[0m\u001b[1;33m\u001b[0m\u001b[1;33m\u001b[0m\u001b[0m\n\u001b[0;32m    702\u001b[0m             \u001b[0mself\u001b[0m\u001b[1;33m.\u001b[0m\u001b[0m_ex\u001b[0m\u001b[1;33m.\u001b[0m\u001b[0m_cache\u001b[0m\u001b[1;33m.\u001b[0m\u001b[0mfill\u001b[0m\u001b[1;33m(\u001b[0m\u001b[0mrows\u001b[0m\u001b[1;33m=\u001b[0m\u001b[0mrows\u001b[0m\u001b[1;33m,\u001b[0m \u001b[0mrows_offset\u001b[0m\u001b[1;33m=\u001b[0m\u001b[0mrows_offset\u001b[0m\u001b[1;33m,\u001b[0m \u001b[0mcols\u001b[0m\u001b[1;33m=\u001b[0m\u001b[0mcols\u001b[0m\u001b[1;33m,\u001b[0m \u001b[0mcols_offset\u001b[0m\u001b[1;33m=\u001b[0m\u001b[0mcols_offset\u001b[0m\u001b[1;33m)\u001b[0m\u001b[1;33m\u001b[0m\u001b[1;33m\u001b[0m\u001b[0m\n",
      "\u001b[1;32md:\\ProgramData\\Anaconda3\\envs\\h2o\\lib\\site-packages\\h2o\\expr.py\u001b[0m in \u001b[0;36m_eager_frame\u001b[1;34m(self)\u001b[0m\n\u001b[0;32m     89\u001b[0m         \u001b[1;32mif\u001b[0m \u001b[1;32mnot\u001b[0m \u001b[0mself\u001b[0m\u001b[1;33m.\u001b[0m\u001b[0m_cache\u001b[0m\u001b[1;33m.\u001b[0m\u001b[0mis_empty\u001b[0m\u001b[1;33m(\u001b[0m\u001b[1;33m)\u001b[0m\u001b[1;33m:\u001b[0m \u001b[1;32mreturn\u001b[0m\u001b[1;33m\u001b[0m\u001b[1;33m\u001b[0m\u001b[0m\n\u001b[0;32m     90\u001b[0m         \u001b[1;32mif\u001b[0m \u001b[0mself\u001b[0m\u001b[1;33m.\u001b[0m\u001b[0m_cache\u001b[0m\u001b[1;33m.\u001b[0m\u001b[0m_id\u001b[0m \u001b[1;32mis\u001b[0m \u001b[1;32mnot\u001b[0m \u001b[1;32mNone\u001b[0m\u001b[1;33m:\u001b[0m \u001b[1;32mreturn\u001b[0m  \u001b[1;31m# Data already computed under ID, but not cached locally\u001b[0m\u001b[1;33m\u001b[0m\u001b[1;33m\u001b[0m\u001b[0m\n\u001b[1;32m---> 91\u001b[1;33m         \u001b[0mself\u001b[0m\u001b[1;33m.\u001b[0m\u001b[0m_eval_driver\u001b[0m\u001b[1;33m(\u001b[0m\u001b[1;34m'frame'\u001b[0m\u001b[1;33m)\u001b[0m\u001b[1;33m\u001b[0m\u001b[1;33m\u001b[0m\u001b[0m\n\u001b[0m\u001b[0;32m     92\u001b[0m \u001b[1;33m\u001b[0m\u001b[0m\n\u001b[0;32m     93\u001b[0m     \u001b[1;32mdef\u001b[0m \u001b[0m_eager_scalar\u001b[0m\u001b[1;33m(\u001b[0m\u001b[0mself\u001b[0m\u001b[1;33m)\u001b[0m\u001b[1;33m:\u001b[0m  \u001b[1;31m# returns a scalar (or a list of scalars)\u001b[0m\u001b[1;33m\u001b[0m\u001b[1;33m\u001b[0m\u001b[0m\n",
      "\u001b[1;32md:\\ProgramData\\Anaconda3\\envs\\h2o\\lib\\site-packages\\h2o\\expr.py\u001b[0m in \u001b[0;36m_eval_driver\u001b[1;34m(self, top)\u001b[0m\n\u001b[0;32m    113\u001b[0m         \"\"\"\n\u001b[0;32m    114\u001b[0m         \u001b[0mexec_str\u001b[0m \u001b[1;33m=\u001b[0m \u001b[0mself\u001b[0m\u001b[1;33m.\u001b[0m\u001b[0m_get_ast_str\u001b[0m\u001b[1;33m(\u001b[0m\u001b[0mtop\u001b[0m\u001b[1;33m)\u001b[0m\u001b[1;33m\u001b[0m\u001b[1;33m\u001b[0m\u001b[0m\n\u001b[1;32m--> 115\u001b[1;33m         \u001b[0mres\u001b[0m \u001b[1;33m=\u001b[0m \u001b[0mExprNode\u001b[0m\u001b[1;33m.\u001b[0m\u001b[0mrapids\u001b[0m\u001b[1;33m(\u001b[0m\u001b[0mexec_str\u001b[0m\u001b[1;33m)\u001b[0m\u001b[1;33m\u001b[0m\u001b[1;33m\u001b[0m\u001b[0m\n\u001b[0m\u001b[0;32m    116\u001b[0m         \u001b[1;32mif\u001b[0m \u001b[1;34m'scalar'\u001b[0m \u001b[1;32min\u001b[0m \u001b[0mres\u001b[0m\u001b[1;33m:\u001b[0m\u001b[1;33m\u001b[0m\u001b[1;33m\u001b[0m\u001b[0m\n\u001b[0;32m    117\u001b[0m             \u001b[1;32mif\u001b[0m \u001b[0misinstance\u001b[0m\u001b[1;33m(\u001b[0m\u001b[0mres\u001b[0m\u001b[1;33m[\u001b[0m\u001b[1;34m'scalar'\u001b[0m\u001b[1;33m]\u001b[0m\u001b[1;33m,\u001b[0m \u001b[0mlist\u001b[0m\u001b[1;33m)\u001b[0m\u001b[1;33m:\u001b[0m\u001b[1;33m\u001b[0m\u001b[1;33m\u001b[0m\u001b[0m\n",
      "\u001b[1;32md:\\ProgramData\\Anaconda3\\envs\\h2o\\lib\\site-packages\\h2o\\expr.py\u001b[0m in \u001b[0;36mrapids\u001b[1;34m(expr)\u001b[0m\n\u001b[0;32m    257\u001b[0m         \u001b[1;33m:\u001b[0m\u001b[0mreturns\u001b[0m\u001b[1;33m:\u001b[0m \u001b[0mThe\u001b[0m \u001b[0mJSON\u001b[0m \u001b[0mresponse\u001b[0m \u001b[1;33m(\u001b[0m\u001b[1;32mas\u001b[0m \u001b[0ma\u001b[0m \u001b[0mpython\u001b[0m \u001b[0mdictionary\u001b[0m\u001b[1;33m)\u001b[0m \u001b[0mof\u001b[0m \u001b[0mthe\u001b[0m \u001b[0mRapids\u001b[0m \u001b[0mexecution\u001b[0m\u001b[1;33m\u001b[0m\u001b[1;33m\u001b[0m\u001b[0m\n\u001b[0;32m    258\u001b[0m         \"\"\"\n\u001b[1;32m--> 259\u001b[1;33m         \u001b[1;32mreturn\u001b[0m \u001b[0mh2o\u001b[0m\u001b[1;33m.\u001b[0m\u001b[0mapi\u001b[0m\u001b[1;33m(\u001b[0m\u001b[1;34m\"POST /99/Rapids\"\u001b[0m\u001b[1;33m,\u001b[0m \u001b[0mdata\u001b[0m\u001b[1;33m=\u001b[0m\u001b[1;33m{\u001b[0m\u001b[1;34m\"ast\"\u001b[0m\u001b[1;33m:\u001b[0m \u001b[0mexpr\u001b[0m\u001b[1;33m,\u001b[0m \u001b[1;34m\"session_id\"\u001b[0m\u001b[1;33m:\u001b[0m \u001b[0mh2o\u001b[0m\u001b[1;33m.\u001b[0m\u001b[0mconnection\u001b[0m\u001b[1;33m(\u001b[0m\u001b[1;33m)\u001b[0m\u001b[1;33m.\u001b[0m\u001b[0msession_id\u001b[0m\u001b[1;33m}\u001b[0m\u001b[1;33m)\u001b[0m\u001b[1;33m\u001b[0m\u001b[1;33m\u001b[0m\u001b[0m\n\u001b[0m\u001b[0;32m    260\u001b[0m \u001b[1;33m\u001b[0m\u001b[0m\n\u001b[0;32m    261\u001b[0m \u001b[1;33m\u001b[0m\u001b[0m\n",
      "\u001b[1;32md:\\ProgramData\\Anaconda3\\envs\\h2o\\lib\\site-packages\\h2o\\h2o.py\u001b[0m in \u001b[0;36mapi\u001b[1;34m(endpoint, data, json, filename, save_to)\u001b[0m\n\u001b[0;32m    107\u001b[0m     \u001b[1;31m# type checks are performed in H2OConnection class\u001b[0m\u001b[1;33m\u001b[0m\u001b[1;33m\u001b[0m\u001b[1;33m\u001b[0m\u001b[0m\n\u001b[0;32m    108\u001b[0m     \u001b[0m_check_connection\u001b[0m\u001b[1;33m(\u001b[0m\u001b[1;33m)\u001b[0m\u001b[1;33m\u001b[0m\u001b[1;33m\u001b[0m\u001b[0m\n\u001b[1;32m--> 109\u001b[1;33m     \u001b[1;32mreturn\u001b[0m \u001b[0mh2oconn\u001b[0m\u001b[1;33m.\u001b[0m\u001b[0mrequest\u001b[0m\u001b[1;33m(\u001b[0m\u001b[0mendpoint\u001b[0m\u001b[1;33m,\u001b[0m \u001b[0mdata\u001b[0m\u001b[1;33m=\u001b[0m\u001b[0mdata\u001b[0m\u001b[1;33m,\u001b[0m \u001b[0mjson\u001b[0m\u001b[1;33m=\u001b[0m\u001b[0mjson\u001b[0m\u001b[1;33m,\u001b[0m \u001b[0mfilename\u001b[0m\u001b[1;33m=\u001b[0m\u001b[0mfilename\u001b[0m\u001b[1;33m,\u001b[0m \u001b[0msave_to\u001b[0m\u001b[1;33m=\u001b[0m\u001b[0msave_to\u001b[0m\u001b[1;33m)\u001b[0m\u001b[1;33m\u001b[0m\u001b[1;33m\u001b[0m\u001b[0m\n\u001b[0m\u001b[0;32m    110\u001b[0m \u001b[1;33m\u001b[0m\u001b[0m\n\u001b[0;32m    111\u001b[0m \u001b[1;33m\u001b[0m\u001b[0m\n",
      "\u001b[1;32md:\\ProgramData\\Anaconda3\\envs\\h2o\\lib\\site-packages\\h2o\\backend\\connection.py\u001b[0m in \u001b[0;36mrequest\u001b[1;34m(self, endpoint, data, json, filename, save_to)\u001b[0m\n\u001b[0;32m    476\u001b[0m                 \u001b[0msave_to\u001b[0m \u001b[1;33m=\u001b[0m \u001b[0msave_to\u001b[0m\u001b[1;33m(\u001b[0m\u001b[0mresp\u001b[0m\u001b[1;33m)\u001b[0m\u001b[1;33m\u001b[0m\u001b[1;33m\u001b[0m\u001b[0m\n\u001b[0;32m    477\u001b[0m             \u001b[0mself\u001b[0m\u001b[1;33m.\u001b[0m\u001b[0m_log_end_transaction\u001b[0m\u001b[1;33m(\u001b[0m\u001b[0mstart_time\u001b[0m\u001b[1;33m,\u001b[0m \u001b[0mresp\u001b[0m\u001b[1;33m)\u001b[0m\u001b[1;33m\u001b[0m\u001b[1;33m\u001b[0m\u001b[0m\n\u001b[1;32m--> 478\u001b[1;33m             \u001b[1;32mreturn\u001b[0m \u001b[0mself\u001b[0m\u001b[1;33m.\u001b[0m\u001b[0m_process_response\u001b[0m\u001b[1;33m(\u001b[0m\u001b[0mresp\u001b[0m\u001b[1;33m,\u001b[0m \u001b[0msave_to\u001b[0m\u001b[1;33m)\u001b[0m\u001b[1;33m\u001b[0m\u001b[1;33m\u001b[0m\u001b[0m\n\u001b[0m\u001b[0;32m    479\u001b[0m \u001b[1;33m\u001b[0m\u001b[0m\n\u001b[0;32m    480\u001b[0m         \u001b[1;32mexcept\u001b[0m \u001b[1;33m(\u001b[0m\u001b[0mrequests\u001b[0m\u001b[1;33m.\u001b[0m\u001b[0mexceptions\u001b[0m\u001b[1;33m.\u001b[0m\u001b[0mConnectionError\u001b[0m\u001b[1;33m,\u001b[0m \u001b[0mrequests\u001b[0m\u001b[1;33m.\u001b[0m\u001b[0mexceptions\u001b[0m\u001b[1;33m.\u001b[0m\u001b[0mHTTPError\u001b[0m\u001b[1;33m)\u001b[0m \u001b[1;32mas\u001b[0m \u001b[0me\u001b[0m\u001b[1;33m:\u001b[0m\u001b[1;33m\u001b[0m\u001b[1;33m\u001b[0m\u001b[0m\n",
      "\u001b[1;32md:\\ProgramData\\Anaconda3\\envs\\h2o\\lib\\site-packages\\h2o\\backend\\connection.py\u001b[0m in \u001b[0;36m_process_response\u001b[1;34m(response, save_to)\u001b[0m\n\u001b[0;32m    822\u001b[0m         \u001b[1;31m# Client errors (400 = \"Bad Request\", 404 = \"Not Found\", 412 = \"Precondition Failed\")\u001b[0m\u001b[1;33m\u001b[0m\u001b[1;33m\u001b[0m\u001b[1;33m\u001b[0m\u001b[0m\n\u001b[0;32m    823\u001b[0m         \u001b[1;32mif\u001b[0m \u001b[0mstatus_code\u001b[0m \u001b[1;32min\u001b[0m \u001b[1;33m{\u001b[0m\u001b[1;36m400\u001b[0m\u001b[1;33m,\u001b[0m \u001b[1;36m404\u001b[0m\u001b[1;33m,\u001b[0m \u001b[1;36m412\u001b[0m\u001b[1;33m}\u001b[0m \u001b[1;32mand\u001b[0m \u001b[0misinstance\u001b[0m\u001b[1;33m(\u001b[0m\u001b[0mdata\u001b[0m\u001b[1;33m,\u001b[0m \u001b[1;33m(\u001b[0m\u001b[0mH2OErrorV3\u001b[0m\u001b[1;33m,\u001b[0m \u001b[0mH2OModelBuilderErrorV3\u001b[0m\u001b[1;33m)\u001b[0m\u001b[1;33m)\u001b[0m\u001b[1;33m:\u001b[0m\u001b[1;33m\u001b[0m\u001b[1;33m\u001b[0m\u001b[0m\n\u001b[1;32m--> 824\u001b[1;33m             \u001b[1;32mraise\u001b[0m \u001b[0mH2OResponseError\u001b[0m\u001b[1;33m(\u001b[0m\u001b[0mdata\u001b[0m\u001b[1;33m)\u001b[0m\u001b[1;33m\u001b[0m\u001b[1;33m\u001b[0m\u001b[0m\n\u001b[0m\u001b[0;32m    825\u001b[0m \u001b[1;33m\u001b[0m\u001b[0m\n\u001b[0;32m    826\u001b[0m         \u001b[1;31m# Server errors (notably 500 = \"Server Error\")\u001b[0m\u001b[1;33m\u001b[0m\u001b[1;33m\u001b[0m\u001b[1;33m\u001b[0m\u001b[0m\n",
      "\u001b[1;31mH2OResponseError\u001b[0m: Server error water.rapids.Rapids.IllegalASTException:\n  Error: java.lang.NumberFormatException: For input string: \"False\"\n  Request: POST /99/Rapids\n    data: {'ast': '(tmp= py_62_sid_8c2d (cols_py py_39_sid_8c2d [False False False False False False False False True False True False False False False False True True False False False False True False False False False False False True True]))', 'session_id': '_sid_8c2d'}\n"
     ]
    }
   ],
   "source": [
    "# 8.1 But this does not work\n",
    "np.sum(airlines.isfactor())\n",
    "airlines[: , airlines.isfactor()]"
   ]
  },
  {
   "cell_type": "code",
   "execution_count": 23,
   "metadata": {},
   "outputs": [
    {
     "data": {
      "text/plain": [
       "[2, 4]"
      ]
     },
     "execution_count": 23,
     "metadata": {},
     "output_type": "execute_result"
    },
    {
     "data": {
      "text/plain": [
       "['UniqueCarrier',\n",
       " 'TailNum',\n",
       " 'Origin',\n",
       " 'Dest',\n",
       " 'CancellationCode',\n",
       " 'IsArrDelayed',\n",
       " 'IsDepDelayed']"
      ]
     },
     "execution_count": 23,
     "metadata": {},
     "output_type": "execute_result"
    }
   ],
   "source": [
    "# 9.0 Filter list--One way\n",
    "t = [2,3,4]\n",
    "g = [True, False,True]\n",
    "[t[i] for i,j in enumerate(g) if j ]\n",
    "\n",
    "# 9.0.1\n",
    "[airlines.columns[i]  for i,j in enumerate(airlines.isfactor())  if j]"
   ]
  },
  {
   "cell_type": "code",
   "execution_count": 24,
   "metadata": {},
   "outputs": [
    {
     "data": {
      "text/plain": [
       "array(['UniqueCarrier', 'TailNum', 'Origin', 'Dest', 'CancellationCode',\n",
       "       'IsArrDelayed', 'IsDepDelayed'], dtype='<U17')"
      ]
     },
     "execution_count": 24,
     "metadata": {},
     "output_type": "execute_result"
    }
   ],
   "source": [
    "# 9.1 OR Alternative way: \n",
    "#     An array of factor columns\n",
    "\n",
    "np.array(airlines.columns)[airlines.isfactor()]"
   ]
  },
  {
   "cell_type": "code",
   "execution_count": null,
   "metadata": {},
   "outputs": [],
   "source": [
    "# 9.2 Fancy indexing demo\n",
    "t = np.array([1,2,3])\n",
    "t\n",
    "t[True,False,False]\n",
    "t[[True,False,False]]\n",
    "t[np.array([True,False,False])]    # Fancy Indexing"
   ]
  },
  {
   "cell_type": "code",
   "execution_count": null,
   "metadata": {},
   "outputs": [],
   "source": [
    "# 9.3 Using numpy arrays\n",
    "# Use:\n",
    "np.logical_not([True,False])\n",
    "\n",
    "#OR\n",
    "~np.array([True,False])\n",
    "\n",
    "# 7.3.1\n",
    "np.array(airlines.columns)[~np.array(airlines.isfactor())]"
   ]
  },
  {
   "cell_type": "code",
   "execution_count": null,
   "metadata": {},
   "outputs": [],
   "source": [
    "# 10.0 Which columns are numeric:\n",
    "airlines.isnumeric()\n",
    "np.array(airlines.columns)[airlines.isnumeric()]"
   ]
  },
  {
   "cell_type": "markdown",
   "metadata": {},
   "source": [
    "##  Handling NAa"
   ]
  },
  {
   "cell_type": "code",
   "execution_count": null,
   "metadata": {},
   "outputs": [],
   "source": [
    "# 11.0\n",
    "help(h2o.create_frame)"
   ]
  },
  {
   "cell_type": "code",
   "execution_count": 25,
   "metadata": {},
   "outputs": [
    {
     "name": "stdout",
     "output_type": "stream",
     "text": [
      "Create Frame progress: |██████████████████████████████████████████████████| 100%\n"
     ]
    },
    {
     "data": {
      "text/html": [
       "<table>\n",
       "<thead>\n",
       "<tr><th>C1    </th><th>C2    </th><th style=\"text-align: right;\">  C3</th><th style=\"text-align: right;\">  C4</th><th>C5    </th><th style=\"text-align: right;\">      C6</th><th style=\"text-align: right;\">      C7</th><th style=\"text-align: right;\">      C8</th><th style=\"text-align: right;\">      C9</th><th style=\"text-align: right;\">  C10</th><th>C11    </th><th style=\"text-align: right;\">      C12</th><th style=\"text-align: right;\">     C13</th><th style=\"text-align: right;\">      C14</th><th style=\"text-align: right;\">     C15</th></tr>\n",
       "</thead>\n",
       "<tbody>\n",
       "<tr><td>c0.l23</td><td>c1.l3 </td><td style=\"text-align: right;\"> nan</td><td style=\"text-align: right;\">   0</td><td>c4.l31</td><td style=\"text-align: right;\"> 77.4746</td><td style=\"text-align: right;\">-56.6057</td><td style=\"text-align: right;\"> 39.574 </td><td style=\"text-align: right;\">-82.0224</td><td style=\"text-align: right;\">   37</td><td>c10.l19</td><td style=\"text-align: right;\"> 74.8705 </td><td style=\"text-align: right;\">-27.8113</td><td style=\"text-align: right;\"> -7.48768</td><td style=\"text-align: right;\">-72.9604</td></tr>\n",
       "<tr><td>c0.l47</td><td>c1.l60</td><td style=\"text-align: right;\">  45</td><td style=\"text-align: right;\"> nan</td><td>c4.l86</td><td style=\"text-align: right;\"> 88.5906</td><td style=\"text-align: right;\"> 49.9206</td><td style=\"text-align: right;\">-99.7264</td><td style=\"text-align: right;\"> 52.3157</td><td style=\"text-align: right;\">   98</td><td>       </td><td style=\"text-align: right;\">-11.809  </td><td style=\"text-align: right;\">-79.6804</td><td style=\"text-align: right;\">-65.0357 </td><td style=\"text-align: right;\">-26.7942</td></tr>\n",
       "<tr><td>c0.l12</td><td>      </td><td style=\"text-align: right;\"> -58</td><td style=\"text-align: right;\"> nan</td><td>c4.l25</td><td style=\"text-align: right;\"> 22.4882</td><td style=\"text-align: right;\"> 95.1331</td><td style=\"text-align: right;\">-25.0171</td><td style=\"text-align: right;\">nan     </td><td style=\"text-align: right;\">  nan</td><td>c10.l30</td><td style=\"text-align: right;\"> -5.54286</td><td style=\"text-align: right;\">-98.4899</td><td style=\"text-align: right;\"> 51.6963 </td><td style=\"text-align: right;\"> 96.2989</td></tr>\n",
       "<tr><td>c0.l44</td><td>c1.l70</td><td style=\"text-align: right;\">  47</td><td style=\"text-align: right;\">   0</td><td>      </td><td style=\"text-align: right;\">nan     </td><td style=\"text-align: right;\">nan     </td><td style=\"text-align: right;\">nan     </td><td style=\"text-align: right;\"> 63.7442</td><td style=\"text-align: right;\">   19</td><td>c10.l92</td><td style=\"text-align: right;\"> 68.2326 </td><td style=\"text-align: right;\"> 23.4119</td><td style=\"text-align: right;\">-50.6626 </td><td style=\"text-align: right;\">-42.3374</td></tr>\n",
       "<tr><td>      </td><td>c1.l21</td><td style=\"text-align: right;\"> -62</td><td style=\"text-align: right;\">   0</td><td>c4.l21</td><td style=\"text-align: right;\">nan     </td><td style=\"text-align: right;\">-33.922 </td><td style=\"text-align: right;\"> 20.8763</td><td style=\"text-align: right;\"> 33.7612</td><td style=\"text-align: right;\">   20</td><td>c10.l51</td><td style=\"text-align: right;\">-19.0745 </td><td style=\"text-align: right;\">nan     </td><td style=\"text-align: right;\"> 94.4285 </td><td style=\"text-align: right;\">-86.5147</td></tr>\n",
       "</tbody>\n",
       "</table>"
      ]
     },
     "metadata": {},
     "output_type": "display_data"
    },
    {
     "data": {
      "text/plain": []
     },
     "execution_count": 25,
     "metadata": {},
     "output_type": "execute_result"
    },
    {
     "data": {
      "text/html": [
       "<table>\n",
       "<thead>\n",
       "<tr><th style=\"text-align: right;\">  isNA(C1)</th><th style=\"text-align: right;\">  isNA(C2)</th><th style=\"text-align: right;\">  isNA(C3)</th><th style=\"text-align: right;\">  isNA(C4)</th><th style=\"text-align: right;\">  isNA(C5)</th><th style=\"text-align: right;\">  isNA(C6)</th><th style=\"text-align: right;\">  isNA(C7)</th><th style=\"text-align: right;\">  isNA(C8)</th><th style=\"text-align: right;\">  isNA(C9)</th><th style=\"text-align: right;\">  isNA(C10)</th><th style=\"text-align: right;\">  isNA(C11)</th><th style=\"text-align: right;\">  isNA(C12)</th><th style=\"text-align: right;\">  isNA(C13)</th><th style=\"text-align: right;\">  isNA(C14)</th><th style=\"text-align: right;\">  isNA(C15)</th></tr>\n",
       "</thead>\n",
       "<tbody>\n",
       "<tr><td style=\"text-align: right;\">         0</td><td style=\"text-align: right;\">         0</td><td style=\"text-align: right;\">         1</td><td style=\"text-align: right;\">         0</td><td style=\"text-align: right;\">         0</td><td style=\"text-align: right;\">         0</td><td style=\"text-align: right;\">         0</td><td style=\"text-align: right;\">         0</td><td style=\"text-align: right;\">         0</td><td style=\"text-align: right;\">          0</td><td style=\"text-align: right;\">          0</td><td style=\"text-align: right;\">          0</td><td style=\"text-align: right;\">          0</td><td style=\"text-align: right;\">          0</td><td style=\"text-align: right;\">          0</td></tr>\n",
       "<tr><td style=\"text-align: right;\">         0</td><td style=\"text-align: right;\">         0</td><td style=\"text-align: right;\">         0</td><td style=\"text-align: right;\">         1</td><td style=\"text-align: right;\">         0</td><td style=\"text-align: right;\">         0</td><td style=\"text-align: right;\">         0</td><td style=\"text-align: right;\">         0</td><td style=\"text-align: right;\">         0</td><td style=\"text-align: right;\">          0</td><td style=\"text-align: right;\">          1</td><td style=\"text-align: right;\">          0</td><td style=\"text-align: right;\">          0</td><td style=\"text-align: right;\">          0</td><td style=\"text-align: right;\">          0</td></tr>\n",
       "<tr><td style=\"text-align: right;\">         0</td><td style=\"text-align: right;\">         1</td><td style=\"text-align: right;\">         0</td><td style=\"text-align: right;\">         1</td><td style=\"text-align: right;\">         0</td><td style=\"text-align: right;\">         0</td><td style=\"text-align: right;\">         0</td><td style=\"text-align: right;\">         0</td><td style=\"text-align: right;\">         1</td><td style=\"text-align: right;\">          1</td><td style=\"text-align: right;\">          0</td><td style=\"text-align: right;\">          0</td><td style=\"text-align: right;\">          0</td><td style=\"text-align: right;\">          0</td><td style=\"text-align: right;\">          0</td></tr>\n",
       "</tbody>\n",
       "</table>"
      ]
     },
     "metadata": {},
     "output_type": "display_data"
    },
    {
     "data": {
      "text/plain": []
     },
     "execution_count": 25,
     "metadata": {},
     "output_type": "execute_result"
    }
   ],
   "source": [
    "# 11.1 Handling NAs\n",
    "#help(h2o.create_frame)\n",
    "df = h2o.create_frame(\n",
    "                      rows = 20,\n",
    "                      cols = 15,\n",
    "                      missing_fraction = 0.3,\n",
    "                      categorical_fraction = 0.3  # 30% of cols to be categoricals\n",
    "                      )\n",
    "\n",
    "df.head(5)\n",
    "\n",
    "# 11.1.1 Which all elements are NAs?\n",
    "df.isna().head(3)"
   ]
  },
  {
   "cell_type": "code",
   "execution_count": 26,
   "metadata": {},
   "outputs": [
    {
     "data": {
      "text/html": [
       "<table>\n",
       "<thead>\n",
       "<tr><th>C1    </th><th>C2    </th><th style=\"text-align: right;\">  C3</th><th style=\"text-align: right;\">  C4</th><th>C5    </th><th style=\"text-align: right;\">       C6</th><th style=\"text-align: right;\">      C7</th><th style=\"text-align: right;\">      C8</th><th style=\"text-align: right;\">      C9</th><th style=\"text-align: right;\">  C10</th><th>C11    </th><th style=\"text-align: right;\">     C12</th><th style=\"text-align: right;\">     C13</th><th style=\"text-align: right;\">      C14</th><th style=\"text-align: right;\">     C15</th></tr>\n",
       "</thead>\n",
       "<tbody>\n",
       "<tr><td>c0.l23</td><td>c1.l3 </td><td style=\"text-align: right;\"> nan</td><td style=\"text-align: right;\">   0</td><td>c4.l31</td><td style=\"text-align: right;\"> 77.4746 </td><td style=\"text-align: right;\">-56.6057</td><td style=\"text-align: right;\"> 39.574 </td><td style=\"text-align: right;\">-82.0224</td><td style=\"text-align: right;\">   37</td><td>c10.l19</td><td style=\"text-align: right;\"> 74.8705</td><td style=\"text-align: right;\">-27.8113</td><td style=\"text-align: right;\"> -7.48768</td><td style=\"text-align: right;\">-72.9604</td></tr>\n",
       "<tr><td>      </td><td>c1.l35</td><td style=\"text-align: right;\"> nan</td><td style=\"text-align: right;\">   0</td><td>      </td><td style=\"text-align: right;\">-80.6266 </td><td style=\"text-align: right;\">nan     </td><td style=\"text-align: right;\">-80.2298</td><td style=\"text-align: right;\">-89.0392</td><td style=\"text-align: right;\">  nan</td><td>c10.l15</td><td style=\"text-align: right;\">nan     </td><td style=\"text-align: right;\">nan     </td><td style=\"text-align: right;\"> 62.5789 </td><td style=\"text-align: right;\">-86.4358</td></tr>\n",
       "<tr><td>c0.l55</td><td>      </td><td style=\"text-align: right;\"> nan</td><td style=\"text-align: right;\"> nan</td><td>c4.l91</td><td style=\"text-align: right;\">-70.6071 </td><td style=\"text-align: right;\">-19.3517</td><td style=\"text-align: right;\"> 15.3953</td><td style=\"text-align: right;\">nan     </td><td style=\"text-align: right;\">  nan</td><td>       </td><td style=\"text-align: right;\">-87.6238</td><td style=\"text-align: right;\">-77.9125</td><td style=\"text-align: right;\">nan      </td><td style=\"text-align: right;\"> 82.9204</td></tr>\n",
       "<tr><td>c0.l80</td><td>      </td><td style=\"text-align: right;\"> nan</td><td style=\"text-align: right;\">   0</td><td>c4.l94</td><td style=\"text-align: right;\">-20.6296 </td><td style=\"text-align: right;\">nan     </td><td style=\"text-align: right;\">nan     </td><td style=\"text-align: right;\"> 12.9063</td><td style=\"text-align: right;\">  -23</td><td>c10.l71</td><td style=\"text-align: right;\"> 43.9289</td><td style=\"text-align: right;\"> 83.7036</td><td style=\"text-align: right;\">-10.0976 </td><td style=\"text-align: right;\"> 92.0354</td></tr>\n",
       "<tr><td>c0.l69</td><td>c1.l30</td><td style=\"text-align: right;\"> nan</td><td style=\"text-align: right;\">   0</td><td>c4.l57</td><td style=\"text-align: right;\"> -3.17612</td><td style=\"text-align: right;\"> 68.7792</td><td style=\"text-align: right;\">nan     </td><td style=\"text-align: right;\"> 15.4003</td><td style=\"text-align: right;\">  -31</td><td>       </td><td style=\"text-align: right;\">nan     </td><td style=\"text-align: right;\">nan     </td><td style=\"text-align: right;\"> -8.97899</td><td style=\"text-align: right;\">nan     </td></tr>\n",
       "<tr><td>      </td><td>      </td><td style=\"text-align: right;\"> nan</td><td style=\"text-align: right;\"> nan</td><td>c4.l99</td><td style=\"text-align: right;\">-62.8655 </td><td style=\"text-align: right;\">-30.4333</td><td style=\"text-align: right;\">nan     </td><td style=\"text-align: right;\">-18.9414</td><td style=\"text-align: right;\">  -71</td><td>c10.l74</td><td style=\"text-align: right;\"> 28.9481</td><td style=\"text-align: right;\"> 52.7508</td><td style=\"text-align: right;\">nan      </td><td style=\"text-align: right;\"> 20.8678</td></tr>\n",
       "<tr><td>c0.l12</td><td>c1.l34</td><td style=\"text-align: right;\"> nan</td><td style=\"text-align: right;\"> nan</td><td>c4.l64</td><td style=\"text-align: right;\">-81.9901 </td><td style=\"text-align: right;\"> 34.6646</td><td style=\"text-align: right;\"> 74.6649</td><td style=\"text-align: right;\"> 56.5178</td><td style=\"text-align: right;\">  nan</td><td>       </td><td style=\"text-align: right;\">nan     </td><td style=\"text-align: right;\">nan     </td><td style=\"text-align: right;\">nan      </td><td style=\"text-align: right;\"> 83.8196</td></tr>\n",
       "<tr><td>c0.l52</td><td>      </td><td style=\"text-align: right;\"> nan</td><td style=\"text-align: right;\">   0</td><td>      </td><td style=\"text-align: right;\">-71.3865 </td><td style=\"text-align: right;\">nan     </td><td style=\"text-align: right;\">nan     </td><td style=\"text-align: right;\">-71.2594</td><td style=\"text-align: right;\">   83</td><td>c10.l64</td><td style=\"text-align: right;\"> 49.2562</td><td style=\"text-align: right;\"> 14.3309</td><td style=\"text-align: right;\">-33.0651 </td><td style=\"text-align: right;\">nan     </td></tr>\n",
       "</tbody>\n",
       "</table>"
      ]
     },
     "metadata": {},
     "output_type": "display_data"
    },
    {
     "data": {
      "text/plain": []
     },
     "execution_count": 26,
     "metadata": {},
     "output_type": "execute_result"
    }
   ],
   "source": [
    "df[df['C3'].isna()].head()"
   ]
  },
  {
   "cell_type": "code",
   "execution_count": 28,
   "metadata": {},
   "outputs": [
    {
     "data": {
      "text/html": [
       "<table>\n",
       "<thead>\n",
       "<tr><th>C1    </th><th>C2    </th><th style=\"text-align: right;\">  C3</th><th style=\"text-align: right;\">  C4</th><th>C5    </th><th style=\"text-align: right;\">       C6</th><th style=\"text-align: right;\">      C7</th><th style=\"text-align: right;\">      C8</th><th style=\"text-align: right;\">      C9</th><th style=\"text-align: right;\">  C10</th><th>C11    </th><th style=\"text-align: right;\">     C12</th><th style=\"text-align: right;\">     C13</th><th style=\"text-align: right;\">      C14</th><th style=\"text-align: right;\">     C15</th></tr>\n",
       "</thead>\n",
       "<tbody>\n",
       "<tr><td>c0.l23</td><td>c1.l3 </td><td style=\"text-align: right;\"> nan</td><td style=\"text-align: right;\">   0</td><td>c4.l31</td><td style=\"text-align: right;\"> 77.4746 </td><td style=\"text-align: right;\">-56.6057</td><td style=\"text-align: right;\"> 39.574 </td><td style=\"text-align: right;\">-82.0224</td><td style=\"text-align: right;\">   37</td><td>c10.l19</td><td style=\"text-align: right;\"> 74.8705</td><td style=\"text-align: right;\">-27.8113</td><td style=\"text-align: right;\"> -7.48768</td><td style=\"text-align: right;\">-72.9604</td></tr>\n",
       "<tr><td>      </td><td>c1.l35</td><td style=\"text-align: right;\"> nan</td><td style=\"text-align: right;\">   0</td><td>      </td><td style=\"text-align: right;\">-80.6266 </td><td style=\"text-align: right;\">nan     </td><td style=\"text-align: right;\">-80.2298</td><td style=\"text-align: right;\">-89.0392</td><td style=\"text-align: right;\">  nan</td><td>c10.l15</td><td style=\"text-align: right;\">nan     </td><td style=\"text-align: right;\">nan     </td><td style=\"text-align: right;\"> 62.5789 </td><td style=\"text-align: right;\">-86.4358</td></tr>\n",
       "<tr><td>c0.l55</td><td>      </td><td style=\"text-align: right;\"> nan</td><td style=\"text-align: right;\"> nan</td><td>c4.l91</td><td style=\"text-align: right;\">-70.6071 </td><td style=\"text-align: right;\">-19.3517</td><td style=\"text-align: right;\"> 15.3953</td><td style=\"text-align: right;\">nan     </td><td style=\"text-align: right;\">  nan</td><td>       </td><td style=\"text-align: right;\">-87.6238</td><td style=\"text-align: right;\">-77.9125</td><td style=\"text-align: right;\">nan      </td><td style=\"text-align: right;\"> 82.9204</td></tr>\n",
       "<tr><td>c0.l80</td><td>      </td><td style=\"text-align: right;\"> nan</td><td style=\"text-align: right;\">   0</td><td>c4.l94</td><td style=\"text-align: right;\">-20.6296 </td><td style=\"text-align: right;\">nan     </td><td style=\"text-align: right;\">nan     </td><td style=\"text-align: right;\"> 12.9063</td><td style=\"text-align: right;\">  -23</td><td>c10.l71</td><td style=\"text-align: right;\"> 43.9289</td><td style=\"text-align: right;\"> 83.7036</td><td style=\"text-align: right;\">-10.0976 </td><td style=\"text-align: right;\"> 92.0354</td></tr>\n",
       "<tr><td>c0.l69</td><td>c1.l30</td><td style=\"text-align: right;\"> nan</td><td style=\"text-align: right;\">   0</td><td>c4.l57</td><td style=\"text-align: right;\"> -3.17612</td><td style=\"text-align: right;\"> 68.7792</td><td style=\"text-align: right;\">nan     </td><td style=\"text-align: right;\"> 15.4003</td><td style=\"text-align: right;\">  -31</td><td>       </td><td style=\"text-align: right;\">nan     </td><td style=\"text-align: right;\">nan     </td><td style=\"text-align: right;\"> -8.97899</td><td style=\"text-align: right;\">nan     </td></tr>\n",
       "</tbody>\n",
       "</table>"
      ]
     },
     "metadata": {},
     "output_type": "display_data"
    },
    {
     "data": {
      "text/plain": []
     },
     "execution_count": 28,
     "metadata": {},
     "output_type": "execute_result"
    },
    {
     "data": {
      "text/plain": [
       "[7.0, 8.0, 8.0, 8.0, 6.0, 3.0, 6.0, 10.0, 4.0, 7.0, 8.0, 3.0, 7.0, 7.0, 5.0]"
      ]
     },
     "execution_count": 28,
     "metadata": {},
     "output_type": "execute_result"
    },
    {
     "name": "stdout",
     "output_type": "stream",
     "text": [
      "This H2OFrame is empty.\n"
     ]
    },
    {
     "data": {
      "text/plain": []
     },
     "execution_count": 28,
     "metadata": {},
     "output_type": "execute_result"
    }
   ],
   "source": [
    "# 11.2 View of DatFrame in which all elements\n",
    "#      of 'C3' are NaN\n",
    "df[df['C3'].isna()].head(5)\n",
    "\n",
    "# 11.3 Count NAs column-wise\n",
    "df.nacnt()\n",
    "\n",
    "# 11.4 Omit rows with NAs\n",
    "#      As all rows have NAs\n",
    "#      No row is returned\n",
    "df.na_omit().head(5)"
   ]
  },
  {
   "cell_type": "code",
   "execution_count": null,
   "metadata": {},
   "outputs": [],
   "source": [
    "# 12.0 Pop out last column\n",
    "df.shape\n",
    "df.ncols            # 15\n",
    "df.pop(df.ncols-1)\n",
    "df.shape\n",
    "\n",
    "# 12.1 Sort a column\n",
    "df.sort(by = 'C6', ascending = False)\n"
   ]
  },
  {
   "cell_type": "markdown",
   "metadata": {},
   "source": [
    "## Statistical summarization"
   ]
  },
  {
   "cell_type": "code",
   "execution_count": null,
   "metadata": {},
   "outputs": [],
   "source": [
    "# 13.0 Some statistical functions\n",
    "df['C4'].mean(\n",
    "              skipna = True,       # Default\n",
    "              axis = 0,            # Default, column-wise sum\n",
    "              return_frame = True  # If True, returns DataFrame,\n",
    "                                   # if False, returns a list\n",
    "             )\n",
    "\n",
    "# 13.1 Row-wise mean\n",
    "df[['C4', 'C9']].mean(\n",
    "                       skipna = True,\n",
    "                       axis =1,\n",
    "                       return_frame = True   # To get a dataframe, this must be true\n",
    "                                             # Default is False and nothing is returned\n",
    "                      )\n",
    "\n",
    "\n"
   ]
  },
  {
   "cell_type": "code",
   "execution_count": null,
   "metadata": {},
   "outputs": [],
   "source": [
    "# 13.2 Few more--column wise\n",
    "df['C4'].sum(skipna= True, axis = 0)\n",
    "df['C4'].na_omit().sd()\n",
    "df['C4'].na_omit().median()\n",
    "df['C4'].na_omit().max()\n",
    "df['C4'].na_omit().min()"
   ]
  },
  {
   "cell_type": "code",
   "execution_count": null,
   "metadata": {},
   "outputs": [],
   "source": [
    "# 13.1 Dataframe-wise stat summaries\n",
    "df.mean(na_rm = True, axis = 0)\n",
    "df.sum(na_rm=True)\n",
    "df.sd(na_rm = True)\n",
    "df.skewness(na_rm = True)\n"
   ]
  },
  {
   "cell_type": "code",
   "execution_count": null,
   "metadata": {},
   "outputs": [],
   "source": [
    "# 13.2 Row-wise stats\n",
    "# Transpose can only be applied to all numeric frame\n",
    "# Create a numeric data frame\n",
    "\n",
    "help(h2o.create_frame)"
   ]
  },
  {
   "cell_type": "code",
   "execution_count": null,
   "metadata": {},
   "outputs": [],
   "source": [
    "## 13.3 Get row-wise mean\n",
    "\n",
    "#  13.3.1 Create a dataframe\n",
    "df_num= h2o.create_frame(rows = 25,\n",
    "                         cols = 10,\n",
    "                         categorical_fraction = 0.0\n",
    "\n",
    "                        )\n",
    "\n",
    "\n",
    "# 13.3.1 Assign column names\n",
    "df_num.columns = list('abcdefghij')\n",
    "df_num\n",
    "\n",
    "# 13.3.2 Transpose matrix\n",
    "dfT = df_num.transpose()\n",
    "dfT.head()\n",
    "\n",
    "# 13.3.3 \n",
    "h2o.H2OFrame(dfT.mean(na_rm=True)).head()\n",
    "df_num['k']=  h2o.H2OFrame(dfT.mean(na_rm=True))\n",
    "df_num\n"
   ]
  },
  {
   "cell_type": "code",
   "execution_count": null,
   "metadata": {},
   "outputs": [],
   "source": [
    "# 13.4 Sum by selected columns\n",
    "#     https://docs.h2o.ai/h2o/latest-stable/h2o-py/docs/frame.html#h2o.H2OFrame.sum\n",
    "airlines[ :,[1,2]].sum(return_frame=True)\n",
    "airlines[:,[2,3,4]].sum(return_frame=True)"
   ]
  },
  {
   "cell_type": "markdown",
   "metadata": {},
   "source": [
    "## Grouping data"
   ]
  },
  {
   "cell_type": "code",
   "execution_count": null,
   "metadata": {},
   "outputs": [],
   "source": [
    "# 15.1 Upload the airlines dataset\n",
    "air = h2o.import_file(\"https://s3.amazonaws.com/h2o-airlines-unpacked/allyears2k.csv\")"
   ]
  },
  {
   "cell_type": "code",
   "execution_count": null,
   "metadata": {},
   "outputs": [],
   "source": [
    "# 15.2  Explore\n",
    "air.shape         # (43978, 31)\n",
    "air.head(4)\n",
    "air.tail(4)"
   ]
  },
  {
   "cell_type": "code",
   "execution_count": null,
   "metadata": {},
   "outputs": [],
   "source": [
    "# 15.3 Group airdelay by UniqueCarrier\n",
    "air.group_by([\"UniqueCarrier\"])"
   ]
  },
  {
   "cell_type": "code",
   "execution_count": null,
   "metadata": {},
   "outputs": [],
   "source": [
    "# 15.4 Count number of flights by Carrier\n",
    "# count(), max(), mean(), min(), mode(), sd(), ss(), sum(), var()\n",
    "air.group_by([\"UniqueCarrier\"]).count().get_frame()"
   ]
  },
  {
   "cell_type": "code",
   "execution_count": null,
   "metadata": {},
   "outputs": [],
   "source": [
    "# 15.5 Applying different summary functions to different fields\n",
    "grouped = air.group_by(by = 'UniqueCarrier')\n",
    "grouped.sum(['ArrDelay'],na = 'ignore').mean(['ArrDelay'], na = 'ignore').get_frame()"
   ]
  },
  {
   "cell_type": "code",
   "execution_count": null,
   "metadata": {},
   "outputs": [],
   "source": [
    "# 15.6\n",
    "air[air['ArrDelay'].isna()== True].head(5)"
   ]
  },
  {
   "cell_type": "code",
   "execution_count": null,
   "metadata": {},
   "outputs": [],
   "source": [
    "# 15.7 Mean ArrDelay by Carrier and DayOfWeek\n",
    "air[['ArrDelay','UniqueCarrier','DayOfWeek']].group_by(by = [\"UniqueCarrier\", \"DayOfWeek\"]).mean().get_frame()\n"
   ]
  },
  {
   "cell_type": "code",
   "execution_count": null,
   "metadata": {},
   "outputs": [],
   "source": [
    "# 15.8\n",
    "air[['ArrDelay','UniqueCarrier']].group_by(by = [\"UniqueCarrier\"]).mean().get_frame()"
   ]
  },
  {
   "cell_type": "code",
   "execution_count": null,
   "metadata": {},
   "outputs": [],
   "source": [
    "# 15.9\n",
    "air[['ArrDelay','Distance','UniqueCarrier']].group_by([\"UniqueCarrier\"]).mean().get_frame()"
   ]
  },
  {
   "cell_type": "code",
   "execution_count": null,
   "metadata": {},
   "outputs": [],
   "source": [
    "###############"
   ]
  }
 ],
 "metadata": {
  "kernelspec": {
   "display_name": "h2o",
   "language": "python",
   "name": "h2o"
  },
  "language_info": {
   "codemirror_mode": {
    "name": "ipython",
    "version": 3
   },
   "file_extension": ".py",
   "mimetype": "text/x-python",
   "name": "python",
   "nbconvert_exporter": "python",
   "pygments_lexer": "ipython3",
   "version": "3.6.12"
  }
 },
 "nbformat": 4,
 "nbformat_minor": 4
}
